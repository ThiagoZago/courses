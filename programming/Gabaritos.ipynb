{
 "cells": [
  {
   "cell_type": "markdown",
   "metadata": {},
   "source": [
    "## Introdução"
   ]
  },
  {
   "cell_type": "markdown",
   "metadata": {},
   "source": [
    "Aqui estão algumas possíveis soluções para os exercícios propostos nos cadernos. Fique a vontade para criar a sua própria solução e tenha em mente que as linguagens de programação normalmente já tem funções prontas para boa parte dos problemas apresentados aqui. \n",
    "\n",
    "Use esse caderno como consulta para corrigir as suas soluções. Evite usar o caminho da cópia se quer realmente aprender os conceitos :-)"
   ]
  },
  {
   "cell_type": "markdown",
   "metadata": {},
   "source": [
    "## Estruturas de Decisão"
   ]
  },
  {
   "cell_type": "markdown",
   "metadata": {},
   "source": [
    "**Ex 1: Implemente um programa que pergunte a idade do usuário. Se a idade for maior do que 18, então o sistema deve imprimir \"Acesso Autorizado\". Caso contrário, o programa imprimirá \"Acesso Negado\". Lembre-se que deverá converter a saída da leitura do teclado para um valor inteiro (use a função int(valor-a-ser-convertido))**"
   ]
  },
  {
   "cell_type": "code",
   "execution_count": null,
   "metadata": {
    "collapsed": true
   },
   "outputs": [],
   "source": [
    "idade = int(input(\"Qual a sua idade? \"))\n",
    "\n",
    "if idade>=18:\n",
    "    print(\"Acesso Autorizado\")\n",
    "else:\n",
    "    print(\"Acesso Negado\")"
   ]
  },
  {
   "cell_type": "markdown",
   "metadata": {},
   "source": [
    "**Ex 2: Na célula abaixo, foram implementadas linhas para que o programa pegue a hora do sistema. Você deve completar o programa abaixo, de modo que imprima uma mensagem de saudação dependendo da hora do dia. Use if-else aninhados.**"
   ]
  },
  {
   "cell_type": "code",
   "execution_count": null,
   "metadata": {
    "collapsed": true
   },
   "outputs": [],
   "source": [
    "import datetime\n",
    "now = datetime.datetime.now()\n",
    "hora = now.hour\n",
    "print(\"São {} horas\".format(hora))\n",
    "\n",
    "# complete o exercício a partir daqui\n",
    "\n",
    "if 0<hora<12:\n",
    "    print(\"Bom dia\")\n",
    "else:\n",
    "    if 12<hora<18:\n",
    "        print(\"Boa tarde\")\n",
    "    else:\n",
    "        print(\"Boa noite\")"
   ]
  },
  {
   "cell_type": "markdown",
   "metadata": {},
   "source": [
    "**Ex 3: Implemente um programa que calcule a média de 3 notas e imprima \"Aprovado\", se a média for maior do que 6, e imprima \"Reprovado\", caso contrário.**"
   ]
  },
  {
   "cell_type": "code",
   "execution_count": null,
   "metadata": {
    "collapsed": true
   },
   "outputs": [],
   "source": [
    "nota1 = 8\n",
    "nota2 = 3\n",
    "nota3 = 10\n",
    "\n",
    "# continue a partir daqui\n",
    "media = (nota1 + nota2 + nota3)/3\n",
    "if media>=6:\n",
    "    print(\"Aprovado\")\n",
    "else:\n",
    "    print(\"Reprovado\")\n"
   ]
  },
  {
   "cell_type": "markdown",
   "metadata": {},
   "source": [
    "**Ex 4: Modifique o programa acima, de acordo com seguintes requisitos adicionais:**\n",
    "\n",
    "- O programa deve pedir ao usuário que digite as 3 notas\n",
    "- Caso a média fique entre 5 e 6, então deverá ser impresso \"Recuperação\""
   ]
  },
  {
   "cell_type": "code",
   "execution_count": null,
   "metadata": {
    "collapsed": true
   },
   "outputs": [],
   "source": [
    "nota1 = int(input(\"Digite a nota1: \"))\n",
    "nota2 = int(input(\"Digite a nota1: \"))\n",
    "nota3 = int(input(\"Digite a nota1: \"))\n",
    "\n",
    "media = (nota1 + nota2 + nota3)/3\n",
    "if media>=6:\n",
    "    print(\"Aprovado\")\n",
    "else:\n",
    "    if 5<=media<6:\n",
    "        print(\"Recuperação\")\n",
    "    else:\n",
    "        print(\"Reprovado\")\n"
   ]
  },
  {
   "cell_type": "markdown",
   "metadata": {},
   "source": [
    "** Ex 5: Faça um programa que informe ao usuário o seu novo salário, de acordo com o percentual abaixo**\n",
    "\n",
    "- Até 1000: 20%\n",
    "- De 1000 a 5000: 10% \n",
    "- De 5000 a 10000: 5%\n",
    "- Acima de 10000: 2%\n",
    "\n",
    "**O sistema deve perguntar ao usuário qual é o seu salário e o sistema deve informar o novo salário de acordo com a tabela acima.**"
   ]
  },
  {
   "cell_type": "code",
   "execution_count": null,
   "metadata": {
    "collapsed": true
   },
   "outputs": [],
   "source": [
    "salario = float(input(\"Qual o seu salário? \"))\n",
    "perc=1\n",
    "\n",
    "if salario<=1000:\n",
    "    perc = 1.2\n",
    "elif 1000<salario<=5000:\n",
    "    perc = 1.1\n",
    "elif 5000<salario<=10000:\n",
    "    perc = 1.05\n",
    "else:\n",
    "    perc = 1.02\n",
    "    \n",
    "salario = salario*perc\n",
    "print(\"Seu novo salário é: \", salario)"
   ]
  },
  {
   "cell_type": "markdown",
   "metadata": {},
   "source": [
    "** Ex 6: Continue o programa abaixo que imprima uma mensagem específica para cada versão do Windows (7, 8, 10 e outras). Esteja livre para criar frases diferentes para cada versão do Windows. Exemplo: se for Windows 10, o sistema imprimirá uma mensagem. Se for Windows 8, imprimirá outra mensagem e o mesmo se aplica às demais versões. O código para pegar a versão do Windows da sua máquina está implementado abaixo** "
   ]
  },
  {
   "cell_type": "code",
   "execution_count": null,
   "metadata": {
    "collapsed": true
   },
   "outputs": [],
   "source": [
    "import sys\n",
    "\n",
    "versaoWindows = sys.getwindowsversion().major\n",
    "\n",
    "# continue a partir daqui\n",
    "print(versaoWindows)\n",
    "\n",
    "if versaoWindows==7:\n",
    "    print(\"Atualize seu sistema\")\n",
    "elif versaoWindows==7:\n",
    "    print(\"Não é tão ruim, mas atualize seu sistema\")    \n",
    "elif versaoWindows==10:\n",
    "    print(\"Se você está em 2018, nada mal. Caso contrário, preocupe-se!\")\n",
    "elif versaoWindows<=6:\n",
    "    print(\"Como essa máquina ainda roda??\")\n",
    "else:\n",
    "    print(\"Use Linux\")\n"
   ]
  },
  {
   "cell_type": "markdown",
   "metadata": {},
   "source": [
    "**Ex 7: Em aplicações de processamento de texto, como análise de tweets, é bastante comum procurar se se determinadas palavras estão no texto. Um exemplo do uso desse tipo de busca é a mineração de redes sociais para análise de opiniões sobre determinado produto/marca. **\n",
    "\n",
    "**A função find, da classe string procura uma substring dentro de uma string. Use esse método para verificar se uma determinada substring encontra-se dentro de uma string. As duas (string e substring) são dadas abaixo ** "
   ]
  },
  {
   "cell_type": "code",
   "execution_count": null,
   "metadata": {
    "collapsed": true
   },
   "outputs": [],
   "source": [
    "# exemplo de uso da função find()\n",
    "nome = \"Python\"\n",
    "# retorna a posição se a substring dada existe na string procurada. \n",
    "# Se não encontra, retorna o número -1\n",
    "posicao = nome.find(\"th\") \n",
    "print(posicao)\n",
    "\n",
    "# variáveis do exercício\n",
    "texto = \"Python é uma linguagem de programação bastante utilizada no mercado #TimePython\"\n",
    "procurar = \"programação\"\n",
    "posicao = texto.find(procurar)\n",
    "# implemente a partir daqui\n",
    "if posicao>-1:\n",
    "    print(\"String encontrada na posição\", posicao)\n",
    "else:\n",
    "    print(\"String não encontrada\")"
   ]
  },
  {
   "cell_type": "markdown",
   "metadata": {},
   "source": [
    "## Estruturas de Repetição"
   ]
  },
  {
   "cell_type": "markdown",
   "metadata": {},
   "source": [
    "** Ex 1: Implemente o exemplo do aumento de salário usando um for e os valores do salário como um conjunto**"
   ]
  },
  {
   "cell_type": "code",
   "execution_count": null,
   "metadata": {},
   "outputs": [],
   "source": [
    "aumento = 1.10\n",
    "salarios = (1000,2000,3000)\n",
    "\n",
    "for salario in salarios:\n",
    "    print(\"O novo salário é: \", round((salario*aumento),2))"
   ]
  },
  {
   "cell_type": "markdown",
   "metadata": {},
   "source": [
    "** Ex 2: Faça o mesmo exemplo do exercício 1, dessa vez usando while**"
   ]
  },
  {
   "cell_type": "code",
   "execution_count": null,
   "metadata": {},
   "outputs": [],
   "source": [
    "aumento = 1.10\n",
    "salarios = (1000,2000,3000)\n",
    "qtde = len(salarios)\n",
    "cont = 0\n",
    "\n",
    "while cont<qtde:\n",
    "    print(\"O novo salário é: \", round((salarios[cont]*aumento),2))\n",
    "    cont+=1"
   ]
  },
  {
   "cell_type": "markdown",
   "metadata": {},
   "source": [
    "** Ex 3: Usando a pilha de notas fornecida abaixo, calcule:**\n",
    "\n",
    "- A média das notas\n",
    "- A maior nota\n",
    "- A menor nota\n",
    "\n",
    "**Sua solução deve usar for/while e também if.**"
   ]
  },
  {
   "cell_type": "code",
   "execution_count": null,
   "metadata": {},
   "outputs": [],
   "source": [
    "# Implemente sua solução aqui\n",
    "# Obs: solução usando operação de pop e estruturas de decisão\n",
    "# Dica: experimente usar funções prontas de Python e veja como o código será reduzido\n",
    "notas = [8, 5, 7, 9]\n",
    "qtde = len(notas)\n",
    "maior = 0\n",
    "menor = 10\n",
    "soma = 0\n",
    "for i in range(len(notas)):\n",
    "    nota = notas.pop()\n",
    "    if nota>maior:\n",
    "        maior = nota\n",
    "    if nota<menor:\n",
    "        menor = nota\n",
    "    soma +=nota    \n",
    "    \n",
    "media = soma/qtde\n",
    "print(\"A média é: \", media)\n",
    "        \n",
    "\n"
   ]
  },
  {
   "cell_type": "markdown",
   "metadata": {},
   "source": [
    "** Ex 4: Implemente uma solução para que, dado um número x digitado pelo usuário, o sistema imprima \"Python\" x vezes.**"
   ]
  },
  {
   "cell_type": "code",
   "execution_count": null,
   "metadata": {},
   "outputs": [],
   "source": [
    "qt = int(input(\"Quantas vezes imprimirá Python? \"))\n",
    "for i in range(qt):\n",
    "    print(\"Python\")"
   ]
  },
  {
   "cell_type": "markdown",
   "metadata": {},
   "source": [
    "** Ex 5: Dado o exemplo de digitação de notas dado anteriormente, faça modificações de modo que o usuário não precise indicar o número de notas previamente. Ou seja, ele não precisará indicar que digitará 3 ou 4 notas.**"
   ]
  },
  {
   "cell_type": "code",
   "execution_count": null,
   "metadata": {},
   "outputs": [],
   "source": [
    "op = 0\n",
    "soma = 0\n",
    "qtde = 0\n",
    "\n",
    "while True:\n",
    "    op = int(input(\"Digite uma nota ou -1 para sair: \"))\n",
    "    if op==-1:\n",
    "        break\n",
    "    qtde+=1\n",
    "    soma+=op\n",
    "print(\"A média é: \", soma/qtde)\n",
    "        \n"
   ]
  },
  {
   "cell_type": "markdown",
   "metadata": {},
   "source": [
    "** Ex 6: Implemente o cálculo de fatorial usando estruturas de repetição.**"
   ]
  },
  {
   "cell_type": "code",
   "execution_count": null,
   "metadata": {},
   "outputs": [],
   "source": [
    "numero = 5\n",
    "produto = 1\n",
    "while numero>1:\n",
    "    produto *=numero\n",
    "    numero-=1\n",
    "    \n",
    "print(\"O fatorial é: \", produto)"
   ]
  },
  {
   "cell_type": "markdown",
   "metadata": {},
   "source": [
    "** Ex 7: No código abaixo, é implementada inicialmente a leitura de um CSV (medalhas olímpicas) usando o módulo Pandas. Continue a implementação para que seu código conte quantas medalhas de prata o Brasil tem no total. Sua solução não deve usar as funções prontas do módulo pandas. **"
   ]
  },
  {
   "cell_type": "code",
   "execution_count": null,
   "metadata": {
    "collapsed": true
   },
   "outputs": [],
   "source": [
    "# Implemente sua solução aqui\n",
    "import pandas as pd\n",
    "data = pd.read_csv('http://winterolympicsmedals.com/medals.csv')\n",
    "\n",
    "# a linha abaixo vai imprimir uma tabela formatada\n",
    "data\n",
    "\n",
    "#para acessar uma coluna específica\n",
    "data.NOC\n"
   ]
  },
  {
   "cell_type": "markdown",
   "metadata": {},
   "source": [
    "** Ex 8: No trecho de código abaixo, é baixada uma lista de países classificados pelo IDH em 2015 ([link](http://www.br.undp.org/content/brazil/pt/home/idh0/rankings/idh-global.html)). Sua tarefa é continuar a implementação de modo que seja impressa a posição do Brasil nesse ranking. Dica: para ler cada linha do arquivo baixado, você poderia usar o método readlines. **"
   ]
  },
  {
   "cell_type": "code",
   "execution_count": null,
   "metadata": {
    "collapsed": true
   },
   "outputs": [],
   "source": [
    "# Implemente sua solução aqui\n",
    "import urllib.request\n",
    "\n",
    "arquivo  = urllib.request.urlopen('http://www.fernandoxavier.com.br/idh_2015.txt')\n",
    "\n"
   ]
  },
  {
   "cell_type": "markdown",
   "metadata": {},
   "source": [
    "** Ex 9: O trecho de código abaixo faz o download do CSV dos endereços escolares do DF, a partir do portal de [dados abertos do Distrito Federal](http://dados.df.gov.br). Continue a implementação para percorrer os dados baixados, linha por linha, e mostrando os nomes das escolas. Dicas: (1) baixe o CSV manualmente e veja a estrutura dele; (2) Consulte o módulo de processamento CSV do Python ou o módulo Pandas**"
   ]
  },
  {
   "cell_type": "code",
   "execution_count": null,
   "metadata": {
    "collapsed": true
   },
   "outputs": [],
   "source": [
    "# Implemente sua solução aqui\n",
    "import urllib.request\n",
    "\n",
    "arquivo  = urllib.request.urlopen('http://dados.df.gov.br/dataset/0c6315c3-9b77-40b6-819a-03d170ca470a/resource/75cf998f-2f8f-44e1-9a5e-08052f1cd8bb/download/201801212201enderecos.csv')\n"
   ]
  },
  {
   "cell_type": "markdown",
   "metadata": {},
   "source": [
    "## Operadores em Python"
   ]
  },
  {
   "cell_type": "markdown",
   "metadata": {},
   "source": [
    "** Ex 1: Crie quatro instruções envolvendo os 4 operadores básicos (+, -, * e /). Use variáveis para os operandos e para os resultados. Ao final, implemente a impressão dos resultados**"
   ]
  },
  {
   "cell_type": "code",
   "execution_count": null,
   "metadata": {},
   "outputs": [],
   "source": [
    "valores = (10,5)\n",
    "produto = valores[0]*valores[1]\n",
    "subtracao = valores[0]-valores[1]\n",
    "soma = valores[0]+valores[1]\n",
    "divisao = valores[0]/valores[1]\n",
    "\n",
    "print(\"Resultados:\")\n",
    "print(\"Soma: \", soma)\n",
    "print(\"Subtração: \", subtracao)\n",
    "print(\"Multiplicação: \", produto)\n",
    "print(\"Divisão: \", divisao)"
   ]
  },
  {
   "cell_type": "markdown",
   "metadata": {},
   "source": [
    "**Ex 2: Evolua o exercício anterior, dessa vez implementando a digitação dos operandos pelo usuário. Lembre-se de converter a entrada do teclado usando a função int().**"
   ]
  },
  {
   "cell_type": "code",
   "execution_count": null,
   "metadata": {},
   "outputs": [],
   "source": [
    "valor1 = int(input(\"Digite o primeiro número: \"))\n",
    "valor2 = int(input(\"Digite o segundo número: \"))\n",
    "valores = (valor1,valor2)\n",
    "\n",
    "produto = valores[0]*valores[1]\n",
    "subtracao = valores[0]-valores[1]\n",
    "soma = valores[0]+valores[1]\n",
    "divisao = valores[0]/valores[1]\n",
    "\n",
    "print(\"Resultados:\")\n",
    "print(\"Soma: \", soma)\n",
    "print(\"Subtração: \", subtracao)\n",
    "print(\"Multiplicação: \", produto)\n",
    "print(\"Divisão: \", divisao)"
   ]
  },
  {
   "cell_type": "markdown",
   "metadata": {},
   "source": [
    "**Ex 3: Analisando o código abaixo, qual será o valor final de z? Implemente as modificações necessárias para verificar a resposta**"
   ]
  },
  {
   "cell_type": "code",
   "execution_count": null,
   "metadata": {},
   "outputs": [],
   "source": [
    "x = 4\n",
    "y = x * 3 + 2\n",
    "z = y * x\n",
    "\n",
    "print(z)"
   ]
  },
  {
   "cell_type": "markdown",
   "metadata": {},
   "source": [
    "**Ex 4: Implemente um código que imprima a palavra Python 10 vezes. Você não deve usar estruturas de repetição na sua solução e nem colocar 10 instruções print().**"
   ]
  },
  {
   "cell_type": "code",
   "execution_count": null,
   "metadata": {},
   "outputs": [],
   "source": [
    "print(\"Python\\n\"*10)"
   ]
  },
  {
   "cell_type": "markdown",
   "metadata": {},
   "source": [
    "**Ex 5: Faça um programa que dadas 3 notas, imprima a média delas. Os valores devem estar em variáveis.**"
   ]
  },
  {
   "cell_type": "code",
   "execution_count": null,
   "metadata": {},
   "outputs": [],
   "source": [
    "valor1 = 10\n",
    "valor2 = 9\n",
    "valor3 = 8\n",
    "\n",
    "media = (valor1+valor2+valor3)/3\n",
    "print(media)"
   ]
  },
  {
   "cell_type": "markdown",
   "metadata": {},
   "source": [
    "**Ex 6: Modifique o exercício anterior, de modo que seja pedidas as 3 notas. **"
   ]
  },
  {
   "cell_type": "code",
   "execution_count": null,
   "metadata": {
    "collapsed": true
   },
   "outputs": [],
   "source": [
    "valor1 = int(input(\"Digite a nota 1: \"))\n",
    "valor2 = int(input(\"Digite a nota 2: \"))\n",
    "valor3 = int(input(\"Digite a nota 3: \"))\n",
    "\n",
    "media = (valor1+valor2+valor3)/3\n",
    "print(media)"
   ]
  },
  {
   "cell_type": "markdown",
   "metadata": {},
   "source": [
    "## Uso de Variáveis"
   ]
  },
  {
   "cell_type": "markdown",
   "metadata": {},
   "source": [
    "** Ex 1: Crie um programa que some dois números, usando uma variável para cada valor manipulado no cálculo. ** "
   ]
  },
  {
   "cell_type": "code",
   "execution_count": null,
   "metadata": {},
   "outputs": [],
   "source": [
    "valor1 = 10\n",
    "valor2 = 20\n",
    "total = valor1 + valor2\n",
    "print(total)"
   ]
  },
  {
   "cell_type": "markdown",
   "metadata": {},
   "source": [
    "** Ex 2: Implemente um programa que, dado o nome do usuário, imprima uma mensagem (\"Bom dia\"/\"Boa noite\"). Use tantas variáveis quanto forem necessárias.** "
   ]
  },
  {
   "cell_type": "code",
   "execution_count": null,
   "metadata": {},
   "outputs": [],
   "source": [
    "from datetime import datetime\n",
    "\n",
    "now = datetime.now()\n",
    "hora = now.hour\n",
    "\n",
    "nome = input(\"Qual é o seu nome? \")\n",
    "\n",
    "if 0<hora<12:\n",
    "    print(\"Bom dia\", nome)\n",
    "else:\n",
    "    if 12<hora<18:\n",
    "        print(\"Boa tarde\", nome)\n",
    "    else:\n",
    "        print(\"Boa noite\", nome)\n"
   ]
  },
  {
   "cell_type": "markdown",
   "metadata": {},
   "source": [
    "** Ex 3: Modifique o programa abaixo, de modo que se troque os números por variáveis.** "
   ]
  },
  {
   "cell_type": "code",
   "execution_count": null,
   "metadata": {},
   "outputs": [],
   "source": [
    "media = (6 + 8)/2\n",
    "\n",
    "if (media>=6):\n",
    "    print(\"Aluno aprovado\")\n",
    "else:\n",
    "    print(\"Aluno reprovado\")"
   ]
  },
  {
   "cell_type": "code",
   "execution_count": null,
   "metadata": {},
   "outputs": [],
   "source": [
    "nota1 = 6\n",
    "nota2 = 8\n",
    "media = (nota1 + nota2)/2\n",
    "\n",
    "if (media>=6):\n",
    "    print(\"Aluno aprovado\")\n",
    "else:\n",
    "    print(\"Aluno reprovado\")"
   ]
  },
  {
   "cell_type": "markdown",
   "metadata": {},
   "source": [
    "** Ex 4: Qual o valor final da variável z?** "
   ]
  },
  {
   "cell_type": "code",
   "execution_count": null,
   "metadata": {},
   "outputs": [],
   "source": [
    "x = 1\n",
    "y = x + 1\n",
    "z = y + x\n",
    "print(z)"
   ]
  },
  {
   "cell_type": "markdown",
   "metadata": {},
   "source": [
    "** Ex 5: Use a função type() para descobrir o tipo de cada uma das variáveis abaixo. ** "
   ]
  },
  {
   "cell_type": "code",
   "execution_count": null,
   "metadata": {},
   "outputs": [],
   "source": [
    "i = 3.0\n",
    "j = 4\n",
    "k = 0xAF\n",
    "l = \"Python\"\n",
    "m = (4 == 6)\n",
    "\n",
    "print(type(i))\n",
    "print(type(j))\n",
    "print(type(k))\n",
    "print(type(l))\n",
    "print(type(m))"
   ]
  },
  {
   "cell_type": "markdown",
   "metadata": {},
   "source": [
    "## Vetores"
   ]
  },
  {
   "cell_type": "markdown",
   "metadata": {},
   "source": [
    "**Ex 1: Escreva um programa que imprima os valores de um vetor, um por linha. O vetor deve ser inicializado com no mínimo 5 valores **"
   ]
  },
  {
   "cell_type": "code",
   "execution_count": null,
   "metadata": {},
   "outputs": [],
   "source": [
    "valores = [19,4,3,56,1]\n",
    "for i in valores:\n",
    "    print(i)"
   ]
  },
  {
   "cell_type": "markdown",
   "metadata": {},
   "source": [
    "**Ex 2: Escreva um programa que salve os 10 primeiros números pares (a partir de 2) em um vetor.**"
   ]
  },
  {
   "cell_type": "code",
   "execution_count": null,
   "metadata": {},
   "outputs": [],
   "source": [
    "vetor = []\n",
    "\n",
    "for i in range(1,21):\n",
    "    if i%2==0:\n",
    "        vetor.append(i)\n",
    "        \n",
    "print(vetor)"
   ]
  },
  {
   "cell_type": "markdown",
   "metadata": {},
   "source": [
    "**Ex 3: Faça um programa que pergunte ao usuário um nome de linguagem e, caso essa linguagem exista no vetor, informe a posição dela. Dica: pesquise sobre try/except para implementar sua solução, caso o valor não exista.**"
   ]
  },
  {
   "cell_type": "code",
   "execution_count": null,
   "metadata": {},
   "outputs": [],
   "source": [
    "linguagens = [\"Java\", \"PHP\", \"C\"]\n",
    "busca = input(\"Qual o nome da linguagem? \")\n",
    "try:\n",
    "    print(linguagens.index(busca))\n",
    "except:\n",
    "    print(\"Linguagem não encontrada\")\n",
    "    \n",
    "    "
   ]
  },
  {
   "cell_type": "markdown",
   "metadata": {},
   "source": [
    "**Ex 4: Crie um programa que peça ao usuário que informe as notas de um aluno e depois calcule a média. Use vetores na sua solução e só aceite números inteiros. Caso o usuário digite um valor que não seja um número inteiro, seu programa deverá informar o erro e pedir novo número**"
   ]
  },
  {
   "cell_type": "code",
   "execution_count": null,
   "metadata": {},
   "outputs": [],
   "source": [
    "notas = []\n",
    "soma = 0\n",
    "\n",
    "while True:\n",
    "    try: \n",
    "        op = int(input(\"Digite uma nota ou -1 para sair: \"))\n",
    "        if op==-1:\n",
    "            break\n",
    "        notas.append(op)\n",
    "    except:\n",
    "        print(\"Apenas inteiros!!\")\n",
    "        continue\n",
    "\n",
    "print(\"Leitura encerrada. Calculando média...\")        \n",
    "\n",
    "if len(notas)==0:\n",
    "    print(\"Não foram digitadas notas. Programa encerrado\")\n",
    "else:\n",
    "    for nota in notas:\n",
    "        soma+=nota\n",
    "    print(\"A média é: \", soma/len(notas))\n",
    "        "
   ]
  },
  {
   "cell_type": "markdown",
   "metadata": {},
   "source": [
    "** Ex 5 (adaptado do Sedgewick): O que vai ser produzido nos vetores abaixo?**"
   ]
  },
  {
   "cell_type": "code",
   "execution_count": null,
   "metadata": {},
   "outputs": [],
   "source": [
    "vetor = [0] * 99\n",
    "\n",
    "# um vetor de 98 até 0\n",
    "for i in range(99):\n",
    "    vetor[i] = 98 - i\n",
    "print(vetor)\n",
    "\n",
    "print()\n",
    "# um vetor até a metade dos valore (crescente) e depois da metade até 0 (decrescente)\n",
    "for i in range(99):\n",
    "    vetor[i] = vetor[vetor[i]]\n",
    "print(vetor)\n",
    " "
   ]
  },
  {
   "cell_type": "markdown",
   "metadata": {},
   "source": [
    "**Ex 6: Dada o vetor abaixo, crie um novo vetor onde cada valor será o dobro do valor correspondente do primeiro vetor**"
   ]
  },
  {
   "cell_type": "code",
   "execution_count": null,
   "metadata": {},
   "outputs": [],
   "source": [
    "quantidade = [2,4,5,7,1,4,5,6,8]\n",
    "dobros = []\n",
    "\n",
    "for q in quantidade:\n",
    "    dobros.append(q*2)\n",
    "print(dobros)\n"
   ]
  },
  {
   "cell_type": "markdown",
   "metadata": {},
   "source": [
    "**Ex 7: Dado o vetor abaixo, implemente um código que some os valores de um vetor**"
   ]
  },
  {
   "cell_type": "code",
   "execution_count": null,
   "metadata": {},
   "outputs": [],
   "source": [
    "quantidade = [2,4,5,7,1,4,5,6,8]\n",
    "soma = 0\n",
    "\n",
    "for q in quantidade:\n",
    "    soma+=q\n",
    "print(soma)"
   ]
  },
  {
   "cell_type": "markdown",
   "metadata": {},
   "source": [
    "** Ex 8: Faça um código que acesse apenas os índices ímpares de um vetor e imprima os valores dessas posições**"
   ]
  },
  {
   "cell_type": "code",
   "execution_count": null,
   "metadata": {},
   "outputs": [],
   "source": [
    "quantidade = [2,4,5,7,1,4,5,6,8]\n",
    "\n",
    "for i in range(1,len(quantidade),2):\n",
    "    print(quantidade[i])"
   ]
  },
  {
   "cell_type": "markdown",
   "metadata": {},
   "source": [
    "** Ex 9: O código abaixo irá gerar um vetor com 10 posições, com números aleatórios de 1 a 100. Crie um código que peça a um usuário um número entre 1 e 100 e seu código retorne se esse número exista e a posição dele, caso exista**"
   ]
  },
  {
   "cell_type": "code",
   "execution_count": null,
   "metadata": {},
   "outputs": [],
   "source": [
    "import random\n",
    "\n",
    "total = 100\n",
    "qtde = 10\n",
    "vetor = random.sample(range(1,total), k=qtde)\n",
    "\n",
    "numero = int(input(\"Digite um número: \"))\n",
    "\n",
    "try:\n",
    "    print(\"Posição: \", vetor.index(numero))\n",
    "except:\n",
    "    print(\"Número não encontrado\")\n",
    "    \n",
    "print(\"Vetor usado: \", vetor)"
   ]
  },
  {
   "cell_type": "markdown",
   "metadata": {},
   "source": [
    "**Ex 10: Faça um código que, dado o vetor abaixo, inverta os valores em um novo vetor.**"
   ]
  },
  {
   "cell_type": "code",
   "execution_count": null,
   "metadata": {},
   "outputs": [],
   "source": [
    "vetor = [82, 62, 61, 88, 89, 37, 95, 29, 45, 98]\n",
    "invertido = []\n",
    "\n",
    "for i in range(len(vetor)):\n",
    "    invertido.append(vetor.pop())\n",
    "\n",
    "print(invertido)\n"
   ]
  },
  {
   "cell_type": "markdown",
   "metadata": {},
   "source": [
    "## Matriz"
   ]
  },
  {
   "cell_type": "markdown",
   "metadata": {},
   "source": [
    "**Ex 1: Crie uma matriz 3x4, todas as posições com o valor 1 **"
   ]
  },
  {
   "cell_type": "code",
   "execution_count": null,
   "metadata": {
    "collapsed": true
   },
   "outputs": [],
   "source": [
    "matriz = [[1,1,1,1],[1,1,1,1],[1,1,1,1]]"
   ]
  },
  {
   "cell_type": "markdown",
   "metadata": {},
   "source": [
    "** Ex 2: Dada a matriz abaixo, multiplique todos os valores por 2 e grave-os na mesma matriz**"
   ]
  },
  {
   "cell_type": "code",
   "execution_count": null,
   "metadata": {},
   "outputs": [],
   "source": [
    "m = [[1,2,3],[4,3,2],[9,4,3]]\n",
    "\n",
    "for i in range(len(m)):\n",
    "    for j in range(len(m[i])):\n",
    "        m[i][j] = m[i][j]*2\n",
    "        \n",
    "print(m)"
   ]
  },
  {
   "cell_type": "markdown",
   "metadata": {},
   "source": [
    "** Ex 3: Usando a mesma matriz do exercício anterior, faça um programa que peça ao usuário dois números x e y. Seu programa deverá dizer qual número está na posição x,y da matriz.**"
   ]
  },
  {
   "cell_type": "code",
   "execution_count": null,
   "metadata": {},
   "outputs": [],
   "source": [
    "m = [[1,2,3],[4,3,2],[9,4,3]]\n",
    "\n",
    "i = int(input(\"Digite i: \"))\n",
    "j = int(input(\"Digite j: \"))\n",
    "try:\n",
    "    print(m[i][j])\n",
    "except:\n",
    "    print(\"As posições i e j digitadas não existem na matriz inicial\")"
   ]
  },
  {
   "cell_type": "markdown",
   "metadata": {},
   "source": [
    "**Ex 4: Considere a tabela de vendas abaixo. Calcule o total de vendas por produto. **\n",
    "\n",
    "|       | 1a Quinzena      |  2a Quinzena  | 3a Quinzena |\n",
    "|----------|:-------------:|------:|------:\n",
    "| Prod1 |  100 | 15 | 40 |\n",
    "| Prod2 |    200   |   30 | 80 |\n",
    "| Prod3 | 40 |    120 | 60 |"
   ]
  },
  {
   "cell_type": "code",
   "execution_count": null,
   "metadata": {},
   "outputs": [],
   "source": [
    "m = [[100,15,40],[200,30,80],[40,120,60]]\n",
    "total = 0\n",
    "\n",
    "# Apenas criei uma soma de produto para o caso de precisar de uma soma mensal por produto\n",
    "# Caso queira apenas a soma total, basta acumular direto na variável total\n",
    "for produto in m:\n",
    "    somaProduto = 0\n",
    "    for quinzena in produto:\n",
    "        somaProduto+=quinzena\n",
    "    total+=somaProduto    \n",
    "\n",
    "print(\"O total de vendas é: \", total)        "
   ]
  },
  {
   "cell_type": "markdown",
   "metadata": {},
   "source": [
    "**Ex 5: Dadas as duas matrizez abaixo, crie um código que faça a soma das duas matrizes, gravando em uma terceira matriz**"
   ]
  },
  {
   "cell_type": "code",
   "execution_count": null,
   "metadata": {},
   "outputs": [],
   "source": [
    "matriz1 = [[3,2,6],[4,8,9],[2,5,0]]\n",
    "matriz2 = [[2,6,8],[2,3,4],[6,8,1]]\n",
    "matriz3 = [[0,0,0],[0,0,0],[0,0,0]]\n",
    "\n",
    "for i in range(len(matriz1)):\n",
    "    for j in range(len(matriz1[i])):\n",
    "        matriz3[i][j] = matriz1[i][j] + matriz2[i][j]\n",
    "print(matriz3)"
   ]
  },
  {
   "cell_type": "markdown",
   "metadata": {},
   "source": [
    "** Ex 6: Faça um programa que peça ao usuário que digite dois números A e B. Gere uma matriz com dimensões A X B onde cada posição da matriz será preenchida por um número aleatório entre 1 e 100 **"
   ]
  },
  {
   "cell_type": "code",
   "execution_count": null,
   "metadata": {},
   "outputs": [],
   "source": [
    "import random\n",
    "\n",
    "a = int(input(\"Digite i: \"))\n",
    "b = int(input(\"Digite i: \"))\n",
    "m = []\n",
    "\n",
    "for i in range(a):\n",
    "    linha = []\n",
    "    for j in range(b):\n",
    "        linha.append(random.randint(1,100))\n",
    "    m.append(linha)\n",
    "\n",
    "print(m)"
   ]
  },
  {
   "cell_type": "markdown",
   "metadata": {},
   "source": [
    "** Ex 7: Usando a mesma matriz do exercício anterior, calcule a soma dos elementos da matriz **"
   ]
  },
  {
   "cell_type": "code",
   "execution_count": null,
   "metadata": {},
   "outputs": [],
   "source": [
    "import random\n",
    "\n",
    "a = int(input(\"Digite i: \"))\n",
    "b = int(input(\"Digite i: \"))\n",
    "m = []\n",
    "\n",
    "for i in range(a):\n",
    "    linha = []\n",
    "    for j in range(b):\n",
    "        linha.append(random.randint(1,100))\n",
    "    m.append(linha)\n",
    "\n",
    "print(m)\n",
    "\n",
    "\n",
    "print(\"Calculando a soma...\")\n",
    "\n",
    "total = 0\n",
    "for l in m:\n",
    "    for c in l:\n",
    "        total+=c\n",
    "        \n",
    "print(\"A soma é: \", total)"
   ]
  },
  {
   "cell_type": "markdown",
   "metadata": {},
   "source": [
    "## Funções"
   ]
  },
  {
   "cell_type": "markdown",
   "metadata": {},
   "source": [
    "** Ex 1: Crie uma função que, dado um vetor, imprima a soma dos valores desse vetor**"
   ]
  },
  {
   "cell_type": "code",
   "execution_count": null,
   "metadata": {},
   "outputs": [],
   "source": [
    "valores = [10,4,5,2,4,1,8]\n",
    "\n",
    "def somaVetor(vetor):\n",
    "    total = 0\n",
    "    for v in vetor:\n",
    "        total+=v\n",
    "    return total\n",
    "\n",
    "print(somaVetor(valores))"
   ]
  },
  {
   "cell_type": "markdown",
   "metadata": {},
   "source": [
    "** Ex 2: Crie uma função que, dado um vetor, retorne o maior número entre os elementos do vetor**"
   ]
  },
  {
   "cell_type": "code",
   "execution_count": null,
   "metadata": {},
   "outputs": [],
   "source": [
    "valores = [10,4,5,2,4,1,8]\n",
    "\n",
    "def maior(vetor):\n",
    "    # considerando que a sequência só tem números positivos\n",
    "    maior = 0\n",
    "    for v in vetor:\n",
    "        if v>maior:\n",
    "            maior=v\n",
    "    return maior\n",
    "\n",
    "print(maior(valores))"
   ]
  },
  {
   "cell_type": "markdown",
   "metadata": {},
   "source": [
    "** Ex 3: Crie uma função para retornar uma lista invertida. Exemplo: se a lista for A B C D E, a sua função retornará E D C B A.**"
   ]
  },
  {
   "cell_type": "code",
   "execution_count": null,
   "metadata": {},
   "outputs": [],
   "source": [
    "texto = [\"A\",\"B\",\"C\",\"D\",\"E\"]\n",
    "\n",
    "def inverter(lista):\n",
    "    listaInvertida = []\n",
    "    for i in range(len(lista)):\n",
    "        listaInvertida.append(lista.pop())\n",
    "    return listaInvertida\n",
    "\n",
    "print(inverter(texto))    "
   ]
  },
  {
   "cell_type": "markdown",
   "metadata": {},
   "source": [
    "** Ex 4: Crie uma função que calcule a média final do aluno, dadas 2 notas de provas e uma nota de trabalho. Cada prova tem peso 2 e o trabalho tem peso 1. Dica: você precisará saber como calcular média ponderada.**"
   ]
  },
  {
   "cell_type": "code",
   "execution_count": null,
   "metadata": {},
   "outputs": [],
   "source": [
    "def mediaPonderada(nota1, nota2, trabalho):\n",
    "    media = (nota1*2 + nota2*2 + trabalho)/5\n",
    "    return media\n",
    "\n",
    "n1 = int(input(\"Digite a nota 1 do aluno \"))\n",
    "n2 = int(input(\"Digite a nota 2 do aluno \"))\n",
    "t = int(input(\"Digite a nota do trabalho do aluno \"))\n",
    "print(mediaPonderada(n1, n2, t))"
   ]
  },
  {
   "cell_type": "markdown",
   "metadata": {},
   "source": [
    "** Ex 5: Crie uma função que dada uma lista de precos e um percentual de aumento, retorne a nova lista de preços reajustada.**"
   ]
  },
  {
   "cell_type": "code",
   "execution_count": null,
   "metadata": {},
   "outputs": [],
   "source": [
    "def reajustar(lista, aumento):\n",
    "    for i in range(len(lista)):\n",
    "        lista[i] = lista[i]*(1+aumento/100)\n",
    "    return lista\n",
    "\n",
    "listaPrecos = [100,50,30]\n",
    "perc = 20\n",
    "print(reajustar(listaPrecos, perc))"
   ]
  },
  {
   "cell_type": "markdown",
   "metadata": {},
   "source": [
    "** Ex 6:  Crie uma função que, dado o número de mês, retorne o mês por extenso. Exemplo: se for passado o valor 5 como parâmetro, sua função deverá retornar maio.**"
   ]
  },
  {
   "cell_type": "code",
   "execution_count": null,
   "metadata": {},
   "outputs": [],
   "source": [
    "def mesPorExtenso(mes):\n",
    "    meses = [\"Janeiro\", \"Fevereiro\", \"Março\", \"Abril\", \"Maio\", \"Junho\", \"Julho\", \"Agosto\", \"Setembro\", \"Outubro\", \"Novembro\", \"Dezembro\"]\n",
    "    if not 1<=mes<=12:\n",
    "        return \"O número do mês deve estar entre 1 e 12\"\n",
    "    else:\n",
    "        return meses[mes-1]\n",
    "    \n",
    "numMes = int(input(\"Digite o número do mês: \"))\n",
    "print(mesPorExtenso(numMes))\n",
    "    "
   ]
  },
  {
   "cell_type": "markdown",
   "metadata": {},
   "source": [
    "** Ex 7: Crie uma função de geração de uma lista de números aleatórios, para a qual o usuário deverá informar a quantidade de números. Se o usuário informar 5, então a lista retornada pela sua função deverá ter 5 números aleatórios entre 1 e 100.**"
   ]
  },
  {
   "cell_type": "code",
   "execution_count": null,
   "metadata": {},
   "outputs": [],
   "source": [
    "import random\n",
    "def listaRandomica(quantidade):\n",
    "    lista = random.sample(range(1,101), quantidade)\n",
    "    return lista\n",
    "\n",
    "qt = int(input(\"Digite a quantidade de números\"))\n",
    "print(listaRandomica(qt))"
   ]
  },
  {
   "cell_type": "markdown",
   "metadata": {},
   "source": [
    "** Ex 8: Crie duas funções: uma para imprimir um traço e outra para imprimir uma linha. Essa segunda função deverá receber como parâmetro o tamanho da linha a ser criada.**"
   ]
  },
  {
   "cell_type": "code",
   "execution_count": null,
   "metadata": {},
   "outputs": [],
   "source": [
    "def traco():\n",
    "    return \"_\"\n",
    "\n",
    "def gerarLinha(qt):\n",
    "    linha = \"\"\n",
    "    for i in range(qt):\n",
    "        linha+=traco()\n",
    "    return linha\n",
    "\n",
    "tam = int(input(\"Qual o tamanho da linha? \"))\n",
    "print(gerarLinha(tam))"
   ]
  },
  {
   "cell_type": "markdown",
   "metadata": {},
   "source": [
    "\n",
    "** Ex 9: Crie um programa que, dado um valor e número de parcelas, gere uma lista com todas as parcelas, indicando o valor de cada uma e a data de vencimento. Obs: para criar essa lista, você poderia pesquisar sobre a implementação de dicionários em Python**"
   ]
  },
  {
   "cell_type": "code",
   "execution_count": null,
   "metadata": {},
   "outputs": [],
   "source": [
    "from datetime import date\n",
    "from dateutil.relativedelta import relativedelta\n",
    "\n",
    "def gerarParcelas(valor, qtParcelas):\n",
    "    listaParcelas = {}\n",
    "    dataIni = date.today()\n",
    "    valorParcela = valor/qtParcelas\n",
    "    for i in (range(qtParcelas)):\n",
    "        listaParcelas[dataIni + relativedelta(months=+i)] = valorParcela\n",
    "    return listaParcelas\n",
    "    \n",
    "valor = float(input(\"Qual o valor da venda? \"))\n",
    "parcelas = int(input(\"Em quantas parcelas? \"))\n",
    "boletos = gerarParcelas(valor, parcelas)\n",
    "\n",
    "for k,v in boletos.items():\n",
    "    print(k,\"=>\", v)"
   ]
  },
  {
   "cell_type": "markdown",
   "metadata": {},
   "source": [
    "** Ex 10: Crie um sistema que tenha as seguintes operações: 1) Incluir um nome de produto; 2) Informar se um dado produto existe no cadastro; 3) Remover um produto; 4) Limpar o cadastro 5) Sair.**"
   ]
  },
  {
   "cell_type": "code",
   "execution_count": null,
   "metadata": {},
   "outputs": [],
   "source": [
    "produtos = []\n",
    "\n",
    "def buscaProduto(nome):\n",
    "    try:\n",
    "        posicao = produtos.index(nome)\n",
    "    except:\n",
    "        posicao = -1\n",
    "    return posicao\n",
    "\n",
    "def limparCadastro():\n",
    "    produtos.clear()\n",
    "    \n",
    "def removerProduto(nome):\n",
    "    produtos.remove(nome)\n",
    "    \n",
    "def incluirProduto(nome):\n",
    "    if buscaProduto(nome)==-1:\n",
    "        produtos.append(nome)\n",
    "    else:\n",
    "        print(\"Produto já existe na lista\")\n",
    "\n",
    "def listaProdutos():\n",
    "    print(produtos)\n",
    "    \n",
    "\n",
    "while True:\n",
    "    op = input(\"Digite: 1) Incluir; 2) Buscar; 3) Remover; 4) Limpar 5) Sair\")\n",
    "    if op==\"5\":\n",
    "        break\n",
    "    elif op==\"1\":\n",
    "        nomeProd = input(\"Digite o nome do produto: \")\n",
    "        incluirProduto(nomeProd)\n",
    "    elif op==\"2\":\n",
    "        nomeProd = input(\"Digite o nome do produto: \")\n",
    "        pos = buscaProduto(nomeProd)\n",
    "        if pos==-1:\n",
    "            print(\"Produto não está na lista\")\n",
    "        else:\n",
    "            print(\"Produto está na lista\")\n",
    "    elif op==\"3\":\n",
    "        nomeProd = input(\"Digite o nome do produto: \")\n",
    "        removerProduto(nomeProd)     \n",
    "    elif op==\"4\":\n",
    "        limparCadastro()\n",
    "    listaProdutos()\n",
    "    \n"
   ]
  },
  {
   "cell_type": "markdown",
   "metadata": {},
   "source": [
    "## Recursão"
   ]
  },
  {
   "cell_type": "markdown",
   "metadata": {},
   "source": [
    "** Exercício 1: Use recursão para criar uma função que some os n primeiros números:**"
   ]
  },
  {
   "cell_type": "code",
   "execution_count": null,
   "metadata": {},
   "outputs": [],
   "source": [
    "def soma(numero):\n",
    "    if numero==1:\n",
    "        return 1\n",
    "    else:\n",
    "        return numero+soma(numero-1)\n",
    "    \n",
    "print(soma(5))"
   ]
  },
  {
   "cell_type": "markdown",
   "metadata": {},
   "source": [
    "** Exercício 2: Implemente uma função recursiva para transformar um número decimal em binário** "
   ]
  },
  {
   "cell_type": "code",
   "execution_count": null,
   "metadata": {},
   "outputs": [],
   "source": [
    "def decToBin(numero):\n",
    "    if numero==1:\n",
    "        return \"1\"\n",
    "    else:\n",
    "        return str(decToBin(int(numero/2))) + str(numero%2)\n",
    "    \n",
    "print(decToBin(50))"
   ]
  },
  {
   "cell_type": "markdown",
   "metadata": {},
   "source": [
    "**Exercício 3: Implemente o cálculo de potência usando recursão**"
   ]
  },
  {
   "cell_type": "code",
   "execution_count": null,
   "metadata": {},
   "outputs": [],
   "source": [
    "def pot(numero, exp):\n",
    "    if exp==1:\n",
    "        return numero\n",
    "    else:\n",
    "        return numero * pot(numero, exp-1)\n",
    "\n",
    "pot(3,3)"
   ]
  }
 ],
 "metadata": {
  "kernelspec": {
   "display_name": "Python 3",
   "language": "python",
   "name": "python3"
  },
  "language_info": {
   "codemirror_mode": {
    "name": "ipython",
    "version": 3
   },
   "file_extension": ".py",
   "mimetype": "text/x-python",
   "name": "python",
   "nbconvert_exporter": "python",
   "pygments_lexer": "ipython3",
   "version": "3.6.1"
  }
 },
 "nbformat": 4,
 "nbformat_minor": 2
}
