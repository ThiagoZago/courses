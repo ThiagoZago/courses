{
 "cells": [
  {
   "cell_type": "markdown",
   "metadata": {},
   "source": [
    "## Material auxiliar\n"
   ]
  },
  {
   "cell_type": "markdown",
   "metadata": {},
   "source": [
    "### Formato de declaração de função\n",
    "\n",
    "```\n",
    "def nome-da-funcao(parametros-separados-por-virgula):\n",
    "    codigo da sua funcao\n",
    "    return <valor-a-ser-retornado> \n",
    "```"
   ]
  },
  {
   "cell_type": "code",
   "execution_count": null,
   "metadata": {
    "collapsed": true
   },
   "outputs": [],
   "source": [
    "#Exemplo para caso com retorno de valor\n",
    "def soma(valor1, valor2):\n",
    "    total = valor1 + valor2\n",
    "    return soma"
   ]
  },
  {
   "cell_type": "code",
   "execution_count": null,
   "metadata": {
    "collapsed": true
   },
   "outputs": [],
   "source": [
    "#Exemplo para caso sem retorno de valor\n",
    "def imprimir(texto):\n",
    "    print(texto)\n"
   ]
  },
  {
   "cell_type": "markdown",
   "metadata": {},
   "source": [
    "### Funções úteis"
   ]
  },
  {
   "cell_type": "code",
   "execution_count": null,
   "metadata": {},
   "outputs": [],
   "source": [
    "#impressão de valor na tela\n",
    "print(\"Texto que será impresso na tela\")"
   ]
  },
  {
   "cell_type": "code",
   "execution_count": null,
   "metadata": {
    "collapsed": true
   },
   "outputs": [],
   "source": [
    "#quantidade de elementos de um vetor\n",
    "vetor = [10,5,3,1]\n",
    "qtde = len(vetor)"
   ]
  },
  {
   "cell_type": "code",
   "execution_count": null,
   "metadata": {
    "collapsed": true
   },
   "outputs": [],
   "source": [
    "# range\n",
    "#range(10) -> gera números de 0 a 9\n",
    "#range (4,9) -> gera números de 4 a 8"
   ]
  },
  {
   "cell_type": "markdown",
   "metadata": {},
   "source": [
    "## Instruções"
   ]
  },
  {
   "cell_type": "markdown",
   "metadata": {},
   "source": [
    "- Leia as instruções com atenção\n",
    "- Responda ao que a questão pedir\n",
    "- Faça ser código APENAS no espaço determinado\n",
    "- Verifique se seu código vai dar loop infinito antes de executar. Se acontecer, seu computador pode travar e você perderá tudo que desenvolveu\n",
    "- A prova é individual. Conversas na sala durante a prova caracterizarão COLA (0 na nota) "
   ]
  },
  {
   "cell_type": "markdown",
   "metadata": {},
   "source": [
    "## Questões"
   ]
  },
  {
   "cell_type": "markdown",
   "metadata": {},
   "source": [
    "**Q1 (0,2): Dado o vetor abaixo, crie um código que imprima cada elemento do vetor, usando obrigatoriamente uma estrutura de repetição.**"
   ]
  },
  {
   "cell_type": "code",
   "execution_count": null,
   "metadata": {
    "collapsed": true
   },
   "outputs": [],
   "source": [
    "# NÃO MUDE A LINHA ABAIXO\n",
    "quantidade = [2,4,5,7,1,4,5,6,8]\n",
    "\n",
    "#implemente a partir daqui\n",
    "\n"
   ]
  },
  {
   "cell_type": "markdown",
   "metadata": {},
   "source": [
    "** Q2 (0,6): Considere a situação em que um sistema decide qual página deve ser aberta de acordo com a requisição feita. Implemente um código que, dadas as requisições presentes no vetor dado \"requisicoes\", imprima o nome da página a ser aberta, junto com o id, que será digitado pelo usuário e deve ser concatenado à página (ex: inserir_registro.php?id=4, se o usuário digitou 4 para a variável idRegistro). Abaixo segue a tabela com as requisições e o nome da página correspondente.** \n",
    "\n",
    "- ADD: \"inserir_registro.php\"\n",
    "- DEL: \"apagar_registro.php\"\n",
    "- LIST: \"buscar_registro.php\"\n",
    "\n",
    "** Sua solução deve obrigatoriamente usar estruturas de decisão E repetição para que, dado o vetor de requisições abaixo, imprima qual página será aberta para cada um dos itens do vetor. Caso um item da lista de requisições não esteja na lista acima, seu código deverá imprimir \"Operação Inválida\".**"
   ]
  },
  {
   "cell_type": "code",
   "execution_count": null,
   "metadata": {},
   "outputs": [],
   "source": [
    "# NÃO MUDE AS DUAS LINHAS ABAIXO\n",
    "requisicoes = [\"ADD\",\"DEL\",\"LIST\",\"ALTER\",\"ADD\", \"DEL\"]\n",
    "idRegistro = input(\"Digite o id do registro: \")\n",
    "# Implemente a partir daqui\n"
   ]
  },
  {
   "cell_type": "markdown",
   "metadata": {},
   "source": [
    "**Q3 (1,0): Crie uma função que dada uma lista de salarios e um percentual de aumento, retorne a novos salários aumentados de acordo com as regras abaixo:**\n",
    "\n",
    "- Até 1000: 20%\n",
    "- De 1000 a 5000: 10% \n",
    "- De 5000 a 10000: 5%\n",
    "- Acima de 10000: 2%\n",
    "\n",
    "**Sua função deve obrigatoriamente usar estruturas de decisão E estruturas de repetição.**"
   ]
  },
  {
   "cell_type": "code",
   "execution_count": null,
   "metadata": {},
   "outputs": [],
   "source": [
    "#escreva sua função no espaço delimitado abaixo \n",
    "#use mais linhas do que as duas abaixo, se precisar\n",
    "\n",
    "\n",
    "# Só escreva até essa linha\n",
    "# NÃO MUDE AS LINHAS ABAIXO\n",
    "\n",
    "# não altere as linhas abaixo. Elas serão usadas para testar sua função\n",
    "salarios = [1000,5000,10000,4900,500,1100,11000]\n",
    "print(calcularNovosSalarios(salarios))"
   ]
  }
 ],
 "metadata": {
  "kernelspec": {
   "display_name": "Python 3",
   "language": "python",
   "name": "python3"
  },
  "language_info": {
   "codemirror_mode": {
    "name": "ipython",
    "version": 3
   },
   "file_extension": ".py",
   "mimetype": "text/x-python",
   "name": "python",
   "nbconvert_exporter": "python",
   "pygments_lexer": "ipython3",
   "version": "3.6.1"
  }
 },
 "nbformat": 4,
 "nbformat_minor": 2
}
