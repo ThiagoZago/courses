{
 "cells": [
  {
   "cell_type": "markdown",
   "metadata": {},
   "source": [
    "# Variáveis\n",
    "___"
   ]
  },
  {
   "cell_type": "markdown",
   "metadata": {},
   "source": [
    "## Introdução"
   ]
  },
  {
   "cell_type": "markdown",
   "metadata": {},
   "source": [
    "Considere a seguinte tabela de salários:\n",
    "\n",
    "|  Funcionário | Salário Atual  | \n",
    "|:---:|:---:|\n",
    "|  A | 1000  | \n",
    "|  B | 1200  | \n",
    "|  C | 1500  | \n",
    "\n",
    "Foi solicitado ao analista que seja desenvolvido um programa para cálculo dos novos salários. Supondo que os salários tiveram um aumento de 20% no último mês, considere o seguinte código para cálculo dos novos salários:"
   ]
  },
  {
   "cell_type": "code",
   "execution_count": null,
   "metadata": {
    "collapsed": true
   },
   "outputs": [],
   "source": [
    "# Salário 1\n",
    "print(\"O novo salário do funcionário 1 é:\",(1000 * 1.20))\n",
    "\n",
    "# Salário 2\n",
    "print(\"O novo salário do funcionário 2 é:\",(1200 * 1.20))\n",
    "\n",
    "# Salário 3\n",
    "print(\"O novo salário do funcionário 3 é:\",(1500 * 1.20))"
   ]
  },
  {
   "cell_type": "markdown",
   "metadata": {},
   "source": [
    "No ano seguinte, a alíquota de aumento dos salários foi de 12%. Qual seria o procedimento a ser adotado para refletir essa alteração? No caso do código acima, cada linha deveria ser alterada:"
   ]
  },
  {
   "cell_type": "code",
   "execution_count": null,
   "metadata": {
    "collapsed": true
   },
   "outputs": [],
   "source": [
    "# Salário 1\n",
    "print(\"O novo salário do funcionário 1 é:\",(1000 * 1.12))\n",
    "\n",
    "# Salário 2\n",
    "print(\"O novo salário do funcionário 2 é:\",(1200 * 1.12))\n",
    "\n",
    "# Salário 3\n",
    "print(\"O novo salário do funcionário 3 é:\",(1500 * 1.12))"
   ]
  },
  {
   "cell_type": "markdown",
   "metadata": {},
   "source": [
    "O mais correto seria usar um elemento que armazenasse o percentual de aumento e usá-lo no código:"
   ]
  },
  {
   "cell_type": "code",
   "execution_count": null,
   "metadata": {
    "collapsed": true
   },
   "outputs": [],
   "source": [
    "# elemento que armazenará o percentual de aumento (12% somado a 1.00)\n",
    "aumento = 1.12\n",
    "\n",
    "# Salário 1\n",
    "print(\"O novo salário do funcionário 1 é:\",(1000 * aumento))\n",
    "\n",
    "# Salário 2\n",
    "print(\"O novo salário do funcionário 2 é:\",(1200 * aumento))\n",
    "\n",
    "# Salário 3\n",
    "print(\"O novo salário do funcionário 3 é:\",(1500 * aumento))"
   ]
  },
  {
   "cell_type": "code",
   "execution_count": 2,
   "metadata": {},
   "outputs": [
    {
     "name": "stdout",
     "output_type": "stream",
     "text": [
      "O novo salário do funcionário é: 1120.0\n",
      "O novo salário do funcionário é: 1120.0\n",
      "O novo salário do funcionário é: 1120.0\n"
     ]
    }
   ],
   "source": [
    "aumento = 1.12\n",
    "numeroInicial = 1\n",
    "numeroFinal = 3\n",
    "while numeroInicial<=numeroFinal:\n",
    "    print(\"O novo salário do funcionário é:\",(1000 * aumento))\n",
    "    numeroInicial+=1\n"
   ]
  },
  {
   "cell_type": "code",
   "execution_count": 3,
   "metadata": {},
   "outputs": [
    {
     "name": "stdout",
     "output_type": "stream",
     "text": [
      "O novo salário do funcionário é: 1120.0\n",
      "O novo salário do funcionário é: 1344.0000000000002\n",
      "O novo salário do funcionário é: 1680.0000000000002\n"
     ]
    }
   ],
   "source": [
    "aumento = 1.12\n",
    "salarios = (1000,1200, 1500)\n",
    "\n",
    "for salario in salarios:\n",
    "    print(\"O novo salário do funcionário é:\",(salario * aumento))\n"
   ]
  },
  {
   "cell_type": "markdown",
   "metadata": {},
   "source": [
    "Note que, caso haja uma alíquota diferente no outro ano, basta alterar uma linha de código e não três, como nas células anteriores. Esse elemento, que armazena valores para serem usados ao longo do código, é conhecido como **variável**."
   ]
  },
  {
   "cell_type": "markdown",
   "metadata": {},
   "source": [
    "## Definições"
   ]
  },
  {
   "cell_type": "markdown",
   "metadata": {},
   "source": [
    "Uma variável nada mais é que uma espécie de *container* que armazenará um valor em memória. Algumas características importantes sobre variáveis:\n",
    "\n",
    "- Uma variável contém o nome e o valor que armazena em determinado momento\n",
    "- O valor pode ser alterado\n",
    "- Variáveis podem ser de diferentes tipos (texto, número, data, etc)\n",
    "- Uma variável pode ser usada em diferentes partes do código\n",
    "- O valor de uma variável pode ser copiado para outra, sobrescrevendo o valor anterior"
   ]
  },
  {
   "cell_type": "markdown",
   "metadata": {},
   "source": [
    "## Nomes de Variáveis"
   ]
  },
  {
   "cell_type": "markdown",
   "metadata": {},
   "source": [
    "| Exemplo | Pode? | Por que? |\n",
    "|:---:|:---:|:---:|\n",
    "| nome do professor | NÃO | Não se usa espaço |\n",
    "| nome_do_professor | SIM | Pode usar underscore |\n",
    "| nome-do-professor | NÃO | Não pode usar hífen |\n",
    "| 1nome | NÃO | Não pode usar número no início do nome da variável |\n",
    "| nome1 | SIM | Com exceção do início, pode-se usar números no meio ou fim |\n",
    "| \\$nome | NÃO | O único caracter possível é _\n",
    "\n",
    "Experimente na célula abaixo criar uma variável para cada exemplo acima e verifique as mensagens de erro:\n"
   ]
  },
  {
   "cell_type": "code",
   "execution_count": null,
   "metadata": {
    "collapsed": true
   },
   "outputs": [],
   "source": [
    "# teste os exemplos de nomes de variáveis aqui"
   ]
  },
  {
   "cell_type": "markdown",
   "metadata": {},
   "source": [
    "Python, assim como Java, é *case sensitive*, ou seja, diferencia letras maiúsculas de minúsculas:"
   ]
  },
  {
   "cell_type": "code",
   "execution_count": null,
   "metadata": {
    "collapsed": true
   },
   "outputs": [],
   "source": [
    "nome = \"Fernando\"\n",
    "Nome = \"Python\"\n",
    "\n",
    "# O que será impresso? Fernando ou Python?\n",
    "print(Nome)"
   ]
  },
  {
   "cell_type": "markdown",
   "metadata": {},
   "source": [
    "## Atribuição"
   ]
  },
  {
   "cell_type": "markdown",
   "metadata": {},
   "source": [
    "A operação de armazenar um valor em uma variável é chamada de **atribuição** e é feita com o operador de igual (=). Atenção para o fato de que boa parte das linguagens de programação a operação de atribuição é feita com = e a operação de comparação de igualdade é feita com ==."
   ]
  },
  {
   "cell_type": "code",
   "execution_count": null,
   "metadata": {
    "collapsed": true
   },
   "outputs": [],
   "source": [
    "i = 3 # lê-se: a variável i recebe o valor 3\n",
    "# verificando o valor de i\n",
    "print(i)\n",
    "\n",
    "# armazena na variável comparação (i==3), que no caso seria verdadeiro\n",
    "comparacao = (i==3) \n",
    "# verificando o valor de comparacao\n",
    "print(comparacao)"
   ]
  },
  {
   "cell_type": "markdown",
   "metadata": {},
   "source": [
    "Implemente na célula abaixo uma variável que receba a sua idade. Na linha seguinte faça a impressão:"
   ]
  },
  {
   "cell_type": "code",
   "execution_count": null,
   "metadata": {
    "collapsed": true
   },
   "outputs": [],
   "source": [
    "# crie uma variável chamada minhaIdade e atribua a sua idade a essa variável\n",
    "\n",
    "# implemente abaixo a instrução para imprimir o valor dessa variável\n"
   ]
  },
  {
   "cell_type": "markdown",
   "metadata": {},
   "source": [
    "Em Python, podem ser feitas atribuições em lote, ou seja, uma atribuição para três variáveis diferentes:"
   ]
  },
  {
   "cell_type": "code",
   "execution_count": null,
   "metadata": {
    "collapsed": true
   },
   "outputs": [],
   "source": [
    "i = j = k = 1\n",
    "\n",
    "print(i)\n",
    "print(j)\n",
    "print(k)"
   ]
  },
  {
   "cell_type": "markdown",
   "metadata": {},
   "source": [
    "## Exemplos"
   ]
  },
  {
   "cell_type": "markdown",
   "metadata": {},
   "source": [
    "Considere o código abaixo:"
   ]
  },
  {
   "cell_type": "code",
   "execution_count": null,
   "metadata": {
    "collapsed": true
   },
   "outputs": [],
   "source": [
    "i = 3\n",
    "j = 5\n",
    "print(i+j)"
   ]
  },
  {
   "cell_type": "markdown",
   "metadata": {},
   "source": [
    "Teria outra forma de melhorar o código acima? E se a soma de i e j fosse ser usada em outro lugar no código. Não seria o caso de se criar uma outra variável apenas para o resultado?"
   ]
  },
  {
   "cell_type": "code",
   "execution_count": null,
   "metadata": {
    "collapsed": true
   },
   "outputs": [],
   "source": [
    "i = 3\n",
    "j = 5\n",
    "soma = i + j\n",
    "print(soma)"
   ]
  },
  {
   "cell_type": "markdown",
   "metadata": {},
   "source": [
    "Note que, embora o código tenha aumentado em uma linha, o valor da soma de i e j pode ser usado em outras partes do código. Agora considere o código abaixo:"
   ]
  },
  {
   "cell_type": "code",
   "execution_count": null,
   "metadata": {
    "collapsed": true
   },
   "outputs": [],
   "source": [
    "i = 3\n",
    "j = 5\n",
    "soma = i + j\n",
    "print(\"O resultado é:\", soma)\n",
    "\n",
    "produto = i * j\n",
    "print(\"O resultado é:\", produto)"
   ]
  },
  {
   "cell_type": "markdown",
   "metadata": {},
   "source": [
    "Note que os valores de i e j foram usados em diferentes partes do código, para as operações de soma e multiplicação. No entanto, ainda há possibilidades de melhorar esse código com o uso de variáveis. Como você faria? Implemente na célula abaixo:"
   ]
  },
  {
   "cell_type": "code",
   "execution_count": null,
   "metadata": {
    "collapsed": true
   },
   "outputs": [],
   "source": [
    "# implemente aqui"
   ]
  },
  {
   "cell_type": "markdown",
   "metadata": {},
   "source": [
    "Agora considere a seguinte sequência de instruções:"
   ]
  },
  {
   "cell_type": "code",
   "execution_count": null,
   "metadata": {
    "collapsed": true
   },
   "outputs": [],
   "source": [
    "i = 4\n",
    "j = 5\n",
    "\n",
    "soma = i + j\n",
    "\n",
    "k = 3\n",
    "\n",
    "soma = k\n",
    "\n",
    "print(soma)"
   ]
  },
  {
   "cell_type": "markdown",
   "metadata": {},
   "source": [
    "Qual será o valor final da variável soma? Execute o código acima para responder a questão."
   ]
  },
  {
   "cell_type": "markdown",
   "metadata": {},
   "source": [
    "A instrução \n",
    "```python \n",
    "print(soma) \n",
    "```\n",
    "irá imprimir o valor 3 pois, embora a variável soma tenha recebido o valor da soma de i e j, logo após dessa instrução a variável soma recebe uma cópia do valor que está na variável k, através da instrução:\n",
    "\n",
    "```python\n",
    "soma = k\n",
    "```"
   ]
  },
  {
   "cell_type": "markdown",
   "metadata": {},
   "source": [
    "A instrução acima basicamente executa o seguinte *copie o valor da variável k dentro da variável soma*. Isso quer dizer que tanto a variável *soma* quanto a variável *k* terão o valor *3* após o final da execução desse trecho de código. Para entender melhor, verifique o estado de cada uma ao longo da execução do código:"
   ]
  },
  {
   "cell_type": "markdown",
   "metadata": {},
   "source": [
    "| | Instrução | i | j | soma | k |\n",
    "|:---:| :---:| :---: | :---: | :---: | :---: |\n",
    "| 1 | i = 4| 4 | - | - | - |\n",
    "| 2 | j = 5| 4 | 5 | - | - |\n",
    "| 3 | soma = i + j| 4 | 5 | 9 | - |\n",
    "| 4 | k = 3| 4 | 5 | 9 | 3 |\n",
    "| 5 | soma = k| 4 | 9 | 3 | 3 |\n"
   ]
  },
  {
   "cell_type": "markdown",
   "metadata": {},
   "source": [
    "Note que, ao final da execução da linha 5, o valor da variável soma muda de 9 para 3. Além disso, o fato do valor da variável k ser copiado para a variável soma, não implica que o valor k perderá o seu valor, continuando com o valor 3 ao final da execução da linha."
   ]
  },
  {
   "cell_type": "markdown",
   "metadata": {},
   "source": [
    "## Tipos"
   ]
  },
  {
   "cell_type": "code",
   "execution_count": null,
   "metadata": {
    "collapsed": true
   },
   "outputs": [],
   "source": [
    "i = 3\n",
    "j = 6\n",
    "soma = i + j\n",
    "\n",
    "print(\"A soma é:\", soma)\n",
    "\n",
    "i = \"Python\"\n",
    "\n",
    "print(\"Você está programando em:\", i)"
   ]
  },
  {
   "cell_type": "markdown",
   "metadata": {},
   "source": [
    "O que aconteceu com a variável i? Por que ela armazenou os valores 3 e \"Python\" sem dar erro, já que 3 é do tipo int e \"Python\" é do tipo String?"
   ]
  },
  {
   "cell_type": "markdown",
   "metadata": {},
   "source": [
    "Ao contrário de linguagens como Java, não há necessidade de definir o tipo da variável de forma antecipada. Python irá inferir o tipo de acordo com o valor que está dentro dela:"
   ]
  },
  {
   "cell_type": "code",
   "execution_count": null,
   "metadata": {
    "collapsed": true
   },
   "outputs": [],
   "source": [
    "i = 3 # int\n",
    "i = \"Python\" # string\n",
    "i = False # boolean\n",
    "i = 3.0 # float\n",
    "i = 0XF # hexadecimal\n",
    "i = 0B10 # binário\n"
   ]
  },
  {
   "cell_type": "markdown",
   "metadata": {},
   "source": [
    "## Exercícios"
   ]
  },
  {
   "cell_type": "markdown",
   "metadata": {},
   "source": [
    "** Ex 1: Crie um programa que some dois números, usando uma variável para cada valor manipulado no cálculo. ** "
   ]
  },
  {
   "cell_type": "code",
   "execution_count": null,
   "metadata": {
    "collapsed": true
   },
   "outputs": [],
   "source": [
    "# implemente aqui"
   ]
  },
  {
   "cell_type": "markdown",
   "metadata": {},
   "source": [
    "** Ex 2: Implemente um programa que, dado o nome do usuário, imprima uma mensagem (\"Bom dia\"/\"Boa noite\"). Use tantas variáveis quanto forem necessárias.** "
   ]
  },
  {
   "cell_type": "code",
   "execution_count": null,
   "metadata": {
    "collapsed": true
   },
   "outputs": [],
   "source": [
    "# implemente aqui"
   ]
  },
  {
   "cell_type": "markdown",
   "metadata": {},
   "source": [
    "** Ex 3: Modifique o programa abaixo, de modo que se troque os números por variáveis.** "
   ]
  },
  {
   "cell_type": "code",
   "execution_count": null,
   "metadata": {
    "collapsed": true
   },
   "outputs": [],
   "source": [
    "media = (6 + 8)/2\n",
    "\n",
    "if (media>=6):\n",
    "    print(\"Aluno aprovado\")\n",
    "else:\n",
    "    print(\"Aluno reprovado\")"
   ]
  },
  {
   "cell_type": "markdown",
   "metadata": {},
   "source": [
    "** Ex 4: Qual o valor final da variável z?** "
   ]
  },
  {
   "cell_type": "code",
   "execution_count": null,
   "metadata": {
    "collapsed": true
   },
   "outputs": [],
   "source": [
    "x = 1\n",
    "y = x + 1\n",
    "z = y + x"
   ]
  },
  {
   "cell_type": "markdown",
   "metadata": {},
   "source": [
    "** Ex 5: Use a função type() para descobrir o tipo de cada uma das variáveis abaixo. ** "
   ]
  },
  {
   "cell_type": "code",
   "execution_count": null,
   "metadata": {
    "collapsed": true
   },
   "outputs": [],
   "source": [
    "i = 3.0\n",
    "j = 4\n",
    "k = 0xAF\n",
    "l = \"Python\"\n",
    "m = (4 == 6)\n"
   ]
  }
 ],
 "metadata": {
  "kernelspec": {
   "display_name": "Python 3",
   "language": "python",
   "name": "python3"
  },
  "language_info": {
   "codemirror_mode": {
    "name": "ipython",
    "version": 3
   },
   "file_extension": ".py",
   "mimetype": "text/x-python",
   "name": "python",
   "nbconvert_exporter": "python",
   "pygments_lexer": "ipython3",
   "version": "3.6.1"
  }
 },
 "nbformat": 4,
 "nbformat_minor": 2
}
