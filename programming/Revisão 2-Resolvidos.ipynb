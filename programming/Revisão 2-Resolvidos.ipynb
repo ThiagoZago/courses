{
 "cells": [
  {
   "cell_type": "markdown",
   "metadata": {},
   "source": [
    "## Assuntos da Prova 2"
   ]
  },
  {
   "cell_type": "markdown",
   "metadata": {},
   "source": [
    "- Operadores/Variáveis\n",
    "- Estruturas de Repetição\n",
    "- Estruturas de Decisão\n",
    "- Vetores\n",
    "- Matrizes\n",
    "- Funções"
   ]
  },
  {
   "cell_type": "markdown",
   "metadata": {},
   "source": [
    "## Material auxiliar"
   ]
  },
  {
   "cell_type": "markdown",
   "metadata": {},
   "source": [
    "### Formato de declaração de função\n",
    "\n",
    "```\n",
    "def nome-da-funcao(parametros-separados-por-virgula):\n",
    "    codigo da sua funcao\n",
    "    return <valor-a-ser-retornado> \n",
    "```"
   ]
  },
  {
   "cell_type": "code",
   "execution_count": null,
   "metadata": {
    "collapsed": true
   },
   "outputs": [],
   "source": [
    "#Exemplo para caso com retorno de valor\n",
    "def soma(valor1, valor2):\n",
    "    total = valor1 + valor2\n",
    "    return soma"
   ]
  },
  {
   "cell_type": "code",
   "execution_count": null,
   "metadata": {
    "collapsed": true
   },
   "outputs": [],
   "source": [
    "#Exemplo para caso sem retorno de valor\n",
    "def imprimir(texto):\n",
    "    print(texto)\n"
   ]
  },
  {
   "cell_type": "markdown",
   "metadata": {},
   "source": [
    "### Funções úteis"
   ]
  },
  {
   "cell_type": "code",
   "execution_count": null,
   "metadata": {
    "collapsed": true
   },
   "outputs": [],
   "source": [
    "#leitura do teclado\n",
    "nome = input(\"Digite um nome\")"
   ]
  },
  {
   "cell_type": "code",
   "execution_count": null,
   "metadata": {
    "collapsed": true
   },
   "outputs": [],
   "source": [
    "#impressão de valor na tela\n",
    "print(\"Texto que será impresso na tela\")"
   ]
  },
  {
   "cell_type": "code",
   "execution_count": null,
   "metadata": {
    "collapsed": true
   },
   "outputs": [],
   "source": [
    "#quantidade de elementos de um vetor\n",
    "vetor = [10,5,3,1]\n",
    "qtde = len(vetor)"
   ]
  },
  {
   "cell_type": "markdown",
   "metadata": {},
   "source": [
    "### Estruturas de Decisão e Repetição"
   ]
  },
  {
   "cell_type": "markdown",
   "metadata": {},
   "source": [
    "Não serão dados exemplos aqui e nem durante a prova, além dos vários exercícios feitos em sala e publicados no GitHub. Logo, aproveite o material e estude. "
   ]
  },
  {
   "cell_type": "markdown",
   "metadata": {},
   "source": [
    "## Exercícios"
   ]
  },
  {
   "cell_type": "markdown",
   "metadata": {},
   "source": [
    "** Exercício 1:  Crie dois códigos que imprima a palavra Python 10 vezes usando for e usando while.**"
   ]
  },
  {
   "cell_type": "code",
   "execution_count": null,
   "metadata": {
    "collapsed": true
   },
   "outputs": [],
   "source": [
    "#com for\n",
    "for i in range(10):\n",
    "    print(\"Python\")"
   ]
  },
  {
   "cell_type": "code",
   "execution_count": null,
   "metadata": {
    "collapsed": true
   },
   "outputs": [],
   "source": [
    "#com while\n",
    "contador = 10\n",
    "while contador>0:\n",
    "    print(\"Python\")\n",
    "    contador-=1"
   ]
  },
  {
   "cell_type": "markdown",
   "metadata": {},
   "source": [
    "** Exemplo 2: Transforme o código anterior em uma função, de modo que os parâmetros (palavra a ser impressa e a quantidade de impressões) sejam informados para a função**"
   ]
  },
  {
   "cell_type": "code",
   "execution_count": null,
   "metadata": {
    "collapsed": true
   },
   "outputs": [],
   "source": [
    "def imprimir(palavra, qtde):\n",
    "    for i in range(qtde):\n",
    "        print(palavra)"
   ]
  },
  {
   "cell_type": "markdown",
   "metadata": {},
   "source": [
    "** Exercício 3: Faça um código que, dado um vetor com 3 notas, calcule a média e informe se o aluno foi aprovado ou reprovado. A média mínima para aprovação é 6.**"
   ]
  },
  {
   "cell_type": "code",
   "execution_count": null,
   "metadata": {
    "collapsed": true
   },
   "outputs": [],
   "source": [
    "notas = [4,5,9]\n",
    "\n",
    "soma = 0\n",
    "for nota in notas:\n",
    "    soma+=nota\n",
    "media = soma/3\n",
    "\n",
    "if media>=6:\n",
    "    print(\"Aprovado\")\n",
    "else:\n",
    "    print(\"Reprovado\")    "
   ]
  },
  {
   "cell_type": "markdown",
   "metadata": {},
   "source": [
    "**Exercício 4: Evolua o código do exercício anterior, de modo que seja criada uma função para calcular a média e outra função, que dada a média, informe se for aprovado ou reprovado.**"
   ]
  },
  {
   "cell_type": "code",
   "execution_count": null,
   "metadata": {},
   "outputs": [],
   "source": [
    "notas = [3,5,9]\n",
    "\n",
    "def calcularMedia(vetor):\n",
    "    soma = 0\n",
    "    for nota in vetor:\n",
    "        soma+=nota\n",
    "    media = soma/3\n",
    "    return media\n",
    "\n",
    "def resultado(nota):\n",
    "    if nota>=6:\n",
    "        print(\"Aprovado\")\n",
    "    else:\n",
    "        print(\"Reprovado\")    \n",
    "        \n",
    "mediaCalculada = calcularMedia(notas)\n",
    "resultado(mediaCalculada)"
   ]
  },
  {
   "cell_type": "markdown",
   "metadata": {},
   "source": [
    "** Exercício 5: Crie uma função que receba um vetor e uma ação. Se a ação for \"média\", a função calculará a média. Caso seja a ação seja \"soma\" a função somará os valores do vetor.**"
   ]
  },
  {
   "cell_type": "code",
   "execution_count": null,
   "metadata": {
    "collapsed": true
   },
   "outputs": [],
   "source": [
    "notas = [3,5,9]\n",
    "\n",
    "def calcular(vetor, acao):\n",
    "    soma = 0\n",
    "    for nota in vetor:\n",
    "        soma+=nota\n",
    "    if acao==\"soma\":\n",
    "        return soma\n",
    "    elif acao=\"média\":\n",
    "        return soma/len(vetor)\n",
    "    else:\n",
    "        return \"Ação desconhecida\""
   ]
  },
  {
   "cell_type": "markdown",
   "metadata": {},
   "source": [
    "** Exercício 6: Dada a matriz abaixo, com notas de 3 alunos (A, B e C), desenvolva um código que informe qual aluno obteve a maior média final.**"
   ]
  },
  {
   "cell_type": "code",
   "execution_count": null,
   "metadata": {},
   "outputs": [],
   "source": [
    "matriz = [[6,5,3], [7,4,2],[10,5,3]]\n",
    "\n",
    "alunoMaiorMedia = -1\n",
    "maiorMedia = 0\n",
    "\n",
    "for linha in range(len(matriz)):\n",
    "    soma = 0\n",
    "    for coluna in range(len(matriz[linha])):\n",
    "        soma+=matriz[linha][coluna]\n",
    "    media = soma/3\n",
    "    if media>maiorMedia:\n",
    "        maiorMedia = media\n",
    "        alunoMaiorMedia = linha\n",
    "        \n",
    "print(\"Aluno com maior média:\",alunoMaiorMedia, \" - Maior média:\", maiorMedia)"
   ]
  },
  {
   "cell_type": "markdown",
   "metadata": {},
   "source": [
    "** Exercício 7: Considerando a mesma matriz do exercício anterior, crie um código que informe a situação de cada aluno (\"Aprovado\", \"Reprovado\"). Além da média mínima 6, caso o aluno tenha tirado menos que 3 em algumas das provas, ele está automaticamente reprovado.** "
   ]
  },
  {
   "cell_type": "code",
   "execution_count": null,
   "metadata": {},
   "outputs": [],
   "source": [
    "matriz = [[6,5,3], [7,4,2],[10,5,3]]\n",
    "\n",
    "for linha in range(len(matriz)):\n",
    "    soma = 0\n",
    "    for coluna in range(len(matriz[linha])):\n",
    "        if matriz[linha][coluna]<3:\n",
    "            media = 0\n",
    "            break\n",
    "        soma+=matriz[linha][coluna]\n",
    "    media = soma/3\n",
    "    if media>=6:\n",
    "        print(\"Aluno\", linha, \"Aprovado\")\n",
    "    else:\n",
    "        print(\"Aluno\", linha, \"Reprovado\")"
   ]
  },
  {
   "cell_type": "markdown",
   "metadata": {},
   "source": [
    "** Exercício 8: Dado o vetor de preços abaixo, crie um código que calcule o novo valor de cada preço, a partir de percentual informado pelo usuário. Os novos preços deverão ser gravados no mesmo vetor original.**"
   ]
  },
  {
   "cell_type": "code",
   "execution_count": null,
   "metadata": {},
   "outputs": [],
   "source": [
    "precos = [100,50,30,80]\n",
    "aumento = int(input(\"Informe o percentual de aumento, apenas com números inteiros: \"))\n",
    "\n",
    "for i in range(len(precos)):\n",
    "    precos[i] = precos[i]*(1+aumento/100)\n",
    "    \n",
    "print(precos)"
   ]
  }
 ],
 "metadata": {
  "kernelspec": {
   "display_name": "Python 3",
   "language": "python",
   "name": "python3"
  },
  "language_info": {
   "codemirror_mode": {
    "name": "ipython",
    "version": 3
   },
   "file_extension": ".py",
   "mimetype": "text/x-python",
   "name": "python",
   "nbconvert_exporter": "python",
   "pygments_lexer": "ipython3",
   "version": "3.6.1"
  }
 },
 "nbformat": 4,
 "nbformat_minor": 2
}
