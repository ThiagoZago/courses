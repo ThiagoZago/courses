{
 "cells": [
  {
   "cell_type": "markdown",
   "metadata": {},
   "source": [
    "# Recursão"
   ]
  },
  {
   "cell_type": "markdown",
   "metadata": {},
   "source": [
    "## Introdução"
   ]
  },
  {
   "cell_type": "markdown",
   "metadata": {},
   "source": [
    "Recursão é um recurso fundamental em Computação, que permite que uma função seja chamada a partir dela mesma. Isso permite um código muito reduzido e fácil de manter. Por outro lado, quando uma função chama a si mesma repetidamente, o programador deve definir em que momento o processo recursivo pára. Caso esse cuidado não seja tomado, a recursão acontece de maneira infinita."
   ]
  },
  {
   "cell_type": "markdown",
   "metadata": {},
   "source": [
    "Como são múltiplas chamadas da mesma função, o programa necessita guardar os números intermediários e usar em cada encerramento da execução mais recente. Ou seja, os resultados são retornados da execução mais recente para a mais antiga. Como você acha que o programa armazena esses valores? Em uma pilha!"
   ]
  },
  {
   "cell_type": "markdown",
   "metadata": {},
   "source": [
    "Um problema pode ser resolvido tanto com uma função recursiva ou com uma estrutura de repetição. Em que a recursão pode ser útil? Uma das vantagens é dividir o problema em várias partes e combinar os resultados"
   ]
  },
  {
   "cell_type": "markdown",
   "metadata": {},
   "source": [
    "![title](img\\recursion.jpeg)"
   ]
  },
  {
   "cell_type": "markdown",
   "metadata": {},
   "source": [
    "Fonte da figura: https://geekfell.com/recursion-vs-iteration/"
   ]
  },
  {
   "cell_type": "markdown",
   "metadata": {},
   "source": [
    "## Exemplos em Python"
   ]
  },
  {
   "cell_type": "markdown",
   "metadata": {},
   "source": [
    "Um dos exemplos clássicos na literatura é a implementação de cálculo de fatorial:"
   ]
  },
  {
   "cell_type": "code",
   "execution_count": null,
   "metadata": {
    "collapsed": true
   },
   "outputs": [],
   "source": [
    "def fatorial(numero):\n",
    "    if numero==1:\n",
    "        return 1\n",
    "    else:\n",
    "        return numero*fatorial(numero-1)\n",
    "    \n",
    "print(fatorial(5))"
   ]
  },
  {
   "cell_type": "markdown",
   "metadata": {},
   "source": [
    "Note que a própria função é chamada a partir de si mesma, com uma chamada recursiva na linha 5, passando o número a ser calculado subtraído de um. A chamada recursiva termina quando o número a ser calculado seja 1. "
   ]
  },
  {
   "cell_type": "markdown",
   "metadata": {},
   "source": [
    "Já assistiu ao filme Inception? Sem fazer spoiler, os personagens entram no sonho de uma pessoa e dentro desse sonho, entra em novo sonho até um certo nível. "
   ]
  },
  {
   "cell_type": "code",
   "execution_count": null,
   "metadata": {
    "collapsed": true
   },
   "outputs": [],
   "source": [
    "def inception(camada, total):\n",
    "    if camada==total:\n",
    "        print(\"Camada {}: é hora de voltar\".format(camada))\n",
    "        pass\n",
    "    else:\n",
    "        print(\"Entrando na camada:\", camada)\n",
    "        inception(camada+1, total)\n",
    "        print(\"Acordando da camada\", camada)\n",
    "        \n",
    "inception(1,5)"
   ]
  },
  {
   "cell_type": "markdown",
   "metadata": {},
   "source": [
    "Para a implementação de uma busca binária, em que uma lista é dividida sucessivamente até achar (ou não) o valor, o uso de recursão também pode ser uma boa opção"
   ]
  },
  {
   "cell_type": "code",
   "execution_count": null,
   "metadata": {},
   "outputs": [],
   "source": [
    "def buscaBinaria(lista, chave):\n",
    "    print(lista)\n",
    "    tamanhoLista = len(lista)\n",
    "    meio = int(tamanhoLista/2)\n",
    "    if tamanhoLista==1:\n",
    "        if lista[0]==chave:\n",
    "            return True\n",
    "        else:\n",
    "            return False\n",
    "    else:\n",
    "        if lista[meio]==chave:\n",
    "            return True\n",
    "        elif lista[meio]>chave:\n",
    "            return buscaBinaria(lista[:meio], chave)\n",
    "        else:\n",
    "            return buscaBinaria(lista[meio:], chave)\n",
    "\n",
    "\n",
    "numbers = [1,2,3,4,5,6,7,8,9,10]\n",
    "print(buscaBinaria(numbers, 4))"
   ]
  },
  {
   "cell_type": "markdown",
   "metadata": {},
   "source": [
    "## Exercícios"
   ]
  },
  {
   "cell_type": "markdown",
   "metadata": {},
   "source": [
    "** Exercício 1: Use recursão para criar uma função que some os n primeiros números:**"
   ]
  },
  {
   "cell_type": "code",
   "execution_count": null,
   "metadata": {},
   "outputs": [],
   "source": []
  },
  {
   "cell_type": "markdown",
   "metadata": {},
   "source": [
    "** Exercício 2: Implemente uma função recursiva para transformar um número decimal em binário** "
   ]
  },
  {
   "cell_type": "code",
   "execution_count": null,
   "metadata": {},
   "outputs": [],
   "source": []
  },
  {
   "cell_type": "markdown",
   "metadata": {},
   "source": [
    "**Exercício 3: Implemente o cálculo de potência usando recursão**"
   ]
  },
  {
   "cell_type": "code",
   "execution_count": null,
   "metadata": {},
   "outputs": [],
   "source": []
  }
 ],
 "metadata": {
  "kernelspec": {
   "display_name": "Python 3",
   "language": "python",
   "name": "python3"
  },
  "language_info": {
   "codemirror_mode": {
    "name": "ipython",
    "version": 3
   },
   "file_extension": ".py",
   "mimetype": "text/x-python",
   "name": "python",
   "nbconvert_exporter": "python",
   "pygments_lexer": "ipython3",
   "version": "3.6.1"
  }
 },
 "nbformat": 4,
 "nbformat_minor": 2
}
