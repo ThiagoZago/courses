{
 "cells": [
  {
   "cell_type": "markdown",
   "metadata": {},
   "source": [
    "# Arquivos"
   ]
  },
  {
   "cell_type": "markdown",
   "metadata": {},
   "source": [
    "## Introdução"
   ]
  },
  {
   "cell_type": "markdown",
   "metadata": {
    "collapsed": true
   },
   "source": [
    "Manipulação de arquivos é uma operação muito comum no desenvolvimento de software. Seja para carregamento de conjuntos de dados em outra estrutura, como um banco de dados, seja para processamento com diversos fins. \n",
    "\n",
    "As linguagens naturalmente contém diversas funções para manipulação de arquivos, como leitura e escrita. "
   ]
  },
  {
   "cell_type": "markdown",
   "metadata": {},
   "source": [
    "## Manipulação de Arquivos em Python"
   ]
  },
  {
   "cell_type": "markdown",
   "metadata": {
    "collapsed": true
   },
   "source": [
    "### Abertura e Fechamento"
   ]
  },
  {
   "cell_type": "markdown",
   "metadata": {},
   "source": [
    "Para abrir um arquivo, é usada a função open() do Python:"
   ]
  },
  {
   "cell_type": "code",
   "execution_count": null,
   "metadata": {
    "collapsed": true
   },
   "outputs": [],
   "source": [
    "f = open('nomes.txt', 'w')\n",
    "f.close()"
   ]
  },
  {
   "cell_type": "markdown",
   "metadata": {},
   "source": [
    "O primeiro parâmetro da função é o nome e caminho do arquivo. O segundo parâmetro, no exemplo acima 'w', indica que operação será feita no arquivo:\n",
    "\n",
    "- w: abre para escrita e os dados anteriores serão apagados\n",
    "- r: somente para leitura\n",
    "- r+: leitura e escrita\n",
    "- a: append, ou seja, insere os dados no final do arquivo\n",
    "- b: modo binário"
   ]
  },
  {
   "cell_type": "markdown",
   "metadata": {},
   "source": [
    "Já a função close(), como o próprio nome diz, realiza o fechamento do arquivo e o deixa disponível para ser usado para outras aplicações. É sempre recomendado fechar o arquivo ao terminar de executar as operações no programa, de modo a liberá-lo para outras aplicações."
   ]
  },
  {
   "cell_type": "markdown",
   "metadata": {},
   "source": [
    "### Escrita"
   ]
  },
  {
   "cell_type": "markdown",
   "metadata": {},
   "source": [
    "O comando de escrita é feito pela função write(parâmetro), onde parâmetro será a string que será escrita no arquivo. "
   ]
  },
  {
   "cell_type": "code",
   "execution_count": null,
   "metadata": {
    "collapsed": true
   },
   "outputs": [],
   "source": [
    "f = open('nomes.txt', 'w')\n",
    "f.write('Escrevendo em um arquivo em Python\\n')\n",
    "f.close()"
   ]
  },
  {
   "cell_type": "markdown",
   "metadata": {},
   "source": [
    "Se você executar o código acima, verá que a frase passada como parâmetro será escrita no arquivo, que será criado caso não exista."
   ]
  },
  {
   "cell_type": "code",
   "execution_count": null,
   "metadata": {},
   "outputs": [],
   "source": [
    "f = open('nomes.txt', 'w')\n",
    "for i in range(5):\n",
    "    f.write(str(i) + ': Escrevendo em um arquivo em Python\\n')\n",
    "f.close()"
   ]
  },
  {
   "cell_type": "markdown",
   "metadata": {},
   "source": [
    "No exemplo acima, criamos uma estrutura de repetição para escrever a mesma frase no arquivo.\n",
    "\n",
    "```\n",
    "0: Escrevendo em um arquivo em Python\n",
    "1: Escrevendo em um arquivo em Python\n",
    "2: Escrevendo em um arquivo em Python\n",
    "3: Escrevendo em um arquivo em Python\n",
    "4: Escrevendo em um arquivo em Python\n",
    "```"
   ]
  },
  {
   "cell_type": "markdown",
   "metadata": {},
   "source": [
    "E se, depois de fecharmos o arquivo, quisermos escrever de novo? Bastaria reabrir e executar nova operação de escrita:"
   ]
  },
  {
   "cell_type": "code",
   "execution_count": null,
   "metadata": {
    "collapsed": true
   },
   "outputs": [],
   "source": [
    "f = open('nomes.txt', 'w')\n",
    "for i in range(5):\n",
    "    f.write(str(i) + ': Escrevendo em um arquivo em Python\\n')\n",
    "f.close()\n",
    "\n",
    "f = open('nomes.txt', 'w')\n",
    "f.write(\"Fim!\")\n",
    "f.close()"
   ]
  },
  {
   "cell_type": "markdown",
   "metadata": {},
   "source": [
    "Note agora o que o arquivo irá conter:\n",
    "\n",
    "```\n",
    "Fim!\n",
    "```\n",
    "\n",
    "O que ocorre é que, ao usar o parâmetro 'w' na função write, a operação de escrita apaga o conteúdo existente para escrever de novo. Nessas situações você pode usar o parâmetro 'a' (append) para escrever no final do arquivo:\n"
   ]
  },
  {
   "cell_type": "code",
   "execution_count": null,
   "metadata": {
    "collapsed": true
   },
   "outputs": [],
   "source": [
    "f = open('nomes.txt', 'w')\n",
    "for i in range(5):\n",
    "    f.write(str(i) + ': Escrevendo em um arquivo em Python\\n')\n",
    "f.close()\n",
    "\n",
    "f = open('nomes.txt', 'a')\n",
    "f.write(\"Fim!\")\n",
    "f.close()"
   ]
  },
  {
   "cell_type": "markdown",
   "metadata": {},
   "source": [
    "Agora o arquivo terá as duas partes escritas:"
   ]
  },
  {
   "cell_type": "markdown",
   "metadata": {},
   "source": [
    "```\n",
    "0: Escrevendo em um arquivo em Python\n",
    "1: Escrevendo em um arquivo em Python\n",
    "2: Escrevendo em um arquivo em Python\n",
    "3: Escrevendo em um arquivo em Python\n",
    "4: Escrevendo em um arquivo em Python\n",
    "Fim!\n",
    "```"
   ]
  },
  {
   "cell_type": "markdown",
   "metadata": {},
   "source": [
    "### Leitura"
   ]
  },
  {
   "cell_type": "markdown",
   "metadata": {},
   "source": [
    "Uma outra operação muito comum com arquivos é a operação de leitura. Isso é feito através da função read(), que lê todo o contéudo do arquivo:"
   ]
  },
  {
   "cell_type": "code",
   "execution_count": null,
   "metadata": {},
   "outputs": [],
   "source": [
    "f = open('nomes.txt', 'r')\n",
    "conteudo = f.read()\n",
    "f.close()\n",
    "print(conteudo)"
   ]
  },
  {
   "cell_type": "markdown",
   "metadata": {},
   "source": [
    "Já a função readLine(), lê apenas uma linha do arquivo:"
   ]
  },
  {
   "cell_type": "code",
   "execution_count": null,
   "metadata": {},
   "outputs": [],
   "source": [
    "f = open('nomes.txt', 'r')\n",
    "conteudo = f.readline()\n",
    "f.close()\n",
    "print(conteudo)"
   ]
  },
  {
   "cell_type": "markdown",
   "metadata": {},
   "source": [
    "E se fosse necessário ler linha por linha? Uma forma é criar uma iteração usando for e o objeto do arquivo:"
   ]
  },
  {
   "cell_type": "code",
   "execution_count": null,
   "metadata": {},
   "outputs": [],
   "source": [
    "f = open('nomes.txt', 'r')\n",
    "for linha in f:\n",
    "    print(linha, end='')\n",
    "f.close()"
   ]
  },
  {
   "cell_type": "markdown",
   "metadata": {},
   "source": [
    "O uso do *end=''* foi apenas para eliminar a quebra de linha ao final do arquivo, já que a função print também irá imprimir uma quebra de linha."
   ]
  },
  {
   "cell_type": "markdown",
   "metadata": {},
   "source": [
    "### Posições no Arquivo"
   ]
  },
  {
   "cell_type": "markdown",
   "metadata": {},
   "source": [
    "A função tell() pode ser usada para indicar em que posição o ponteiro está no arquivo. Lembre-se que uma string é um vetor de caracteres, ou seja, com primeiro caracter na posição 0."
   ]
  },
  {
   "cell_type": "code",
   "execution_count": null,
   "metadata": {},
   "outputs": [],
   "source": [
    "f = open('nomes.txt', 'r')\n",
    "print(f.tell())\n",
    "f.close()"
   ]
  },
  {
   "cell_type": "markdown",
   "metadata": {},
   "source": [
    "No exemplo abaixo, veja que a segunda impressão da função tell() irá imprimir uma posição a mais do que a execução anterior."
   ]
  },
  {
   "cell_type": "code",
   "execution_count": null,
   "metadata": {},
   "outputs": [],
   "source": [
    "f = open('nomes.txt', 'r')\n",
    "print(f.tell())\n",
    "f.read(1)\n",
    "print(f.tell())\n",
    "f.close()"
   ]
  },
  {
   "cell_type": "markdown",
   "metadata": {},
   "source": [
    "Já a função seek() avança o ponteiro para n posições a partir da posição 0. Veja exemplos:"
   ]
  },
  {
   "cell_type": "code",
   "execution_count": null,
   "metadata": {},
   "outputs": [],
   "source": [
    "f = open('nomes.txt', 'r')\n",
    "print(f.tell())\n",
    "f.seek(2)\n",
    "print(f.tell())\n",
    "f.seek(5)\n",
    "print(f.tell())\n",
    "f.close()"
   ]
  },
  {
   "cell_type": "markdown",
   "metadata": {},
   "source": [
    "Pode ser passado para a função seek() um parâmetro para indicar a partir da onde. Supondo que queremos mudar o ponteiro para a 4a posição a partir da posição 10:"
   ]
  },
  {
   "cell_type": "code",
   "execution_count": null,
   "metadata": {},
   "outputs": [],
   "source": [
    "f = open('nomes.txt', 'r')\n",
    "print(f.tell())\n",
    "f.seek(4, 0)\n",
    "print(f.tell())\n",
    "f.close()"
   ]
  },
  {
   "cell_type": "markdown",
   "metadata": {},
   "source": [
    "Os valores possíveis para o segundo parâmetro da função seek() são:\n",
    "\n",
    "- 0: a partir do início (padrão)\n",
    "- 1: a partir da posição atual (permitido apenas na abertura em modo binário)\n",
    "- 2: a partir do final (permitido apenas na abertura em modo binário, exceção para seek(0,2))"
   ]
  },
  {
   "cell_type": "code",
   "execution_count": null,
   "metadata": {},
   "outputs": [],
   "source": [
    "f = open('nomes.txt', 'br')\n",
    "print(f.tell())\n",
    "f.read(2)\n",
    "f.seek(4, 1)\n",
    "print(f.tell())\n",
    "f.close()"
   ]
  },
  {
   "cell_type": "markdown",
   "metadata": {},
   "source": [
    "## Referências"
   ]
  },
  {
   "cell_type": "markdown",
   "metadata": {},
   "source": [
    "- Documentação oficial Python para manipulação de arquivos: https://docs.python.org/3/tutorial/inputoutput.html"
   ]
  },
  {
   "cell_type": "markdown",
   "metadata": {},
   "source": [
    "## Exercícios"
   ]
  },
  {
   "cell_type": "code",
   "execution_count": null,
   "metadata": {
    "collapsed": true
   },
   "outputs": [],
   "source": []
  }
 ],
 "metadata": {
  "kernelspec": {
   "display_name": "Python 3",
   "language": "python",
   "name": "python3"
  },
  "language_info": {
   "codemirror_mode": {
    "name": "ipython",
    "version": 3
   },
   "file_extension": ".py",
   "mimetype": "text/x-python",
   "name": "python",
   "nbconvert_exporter": "python",
   "pygments_lexer": "ipython3",
   "version": "3.6.1"
  }
 },
 "nbformat": 4,
 "nbformat_minor": 2
}
