{
 "cells": [
  {
   "cell_type": "markdown",
   "metadata": {},
   "source": [
    "# Funções"
   ]
  },
  {
   "cell_type": "markdown",
   "metadata": {},
   "source": [
    "## Introdução"
   ]
  },
  {
   "cell_type": "markdown",
   "metadata": {},
   "source": [
    "Funções é um recurso extremamente utilizado no desenvolvimento de software, com diversos benefícios. Funções são utilizadas, por exemplo, quando deseja-se reaproveitar instruções em diversos contextos do software implementado. Por consequência, o código fica menor, sendo esse um benefício derivado.\n",
    "\n",
    "Além disso, quando se deseja componentizar comportamentos de objetos da maneira mais atômica possível, funções são altamente recomendadas. No contexto de Orientação a Objetos (OO), esses comportamentos são desenvolvidos em métodos. \n",
    "\n",
    "Em linguagens como Python e PHP, que implementam tanto o conceito de OO quanto o paradigma estruturado, pode-se implementar tanto funções quantos métodos em classes. Em Python, por exemplo, a implementação segue praticamente o mesmo formato. Veja abaixo:"
   ]
  },
  {
   "cell_type": "markdown",
   "metadata": {},
   "source": [
    "** Métodos**"
   ]
  },
  {
   "cell_type": "code",
   "execution_count": null,
   "metadata": {
    "collapsed": true
   },
   "outputs": [],
   "source": [
    "class Pedido:\n",
    "    \n",
    "    valorUnitario = 10\n",
    "    qtdeProduto = 20\n",
    "    \n",
    "    def calcularTotal(self):\n",
    "        return self.valorUnitario*self.qtdeProduto\n",
    "    \n",
    "pedido1 = Pedido()\n",
    "print(pedido1.calcularTotal())"
   ]
  },
  {
   "cell_type": "markdown",
   "metadata": {},
   "source": [
    "**Funções**"
   ]
  },
  {
   "cell_type": "code",
   "execution_count": null,
   "metadata": {
    "collapsed": true
   },
   "outputs": [],
   "source": [
    "def calcularTotal(valorUnitario, qtdeProduto):\n",
    "    return valorUnitario*qtdeProduto\n",
    "\n",
    "valorUnitario = 10\n",
    "qtdeProduto = 20\n",
    "\n",
    "print(calcularTotal(valorUnitario, qtdeProduto))"
   ]
  },
  {
   "cell_type": "markdown",
   "metadata": {},
   "source": [
    "Note que a implementação é muito parecida em Python, com a diferença de que no contexto OO, pode-se usar os atributos do objeto. Já em funções, os valores devem ser acessados pela função de alguma forma (no exemplo acima, passamos como parâmetros na chamada da função). "
   ]
  },
  {
   "cell_type": "markdown",
   "metadata": {},
   "source": [
    "## Uso de Funções"
   ]
  },
  {
   "cell_type": "markdown",
   "metadata": {},
   "source": [
    "Veja o exemplo do código abaixo:"
   ]
  },
  {
   "cell_type": "code",
   "execution_count": null,
   "metadata": {
    "collapsed": true
   },
   "outputs": [],
   "source": [
    "salario = 1000\n",
    "aumentoSalario = 30\n",
    "\n",
    "if aumentoSalario>20:\n",
    "    salario = salario * (1+aumentoSalario/100)\n",
    "else:\n",
    "    salario = salario * (1+aumentoSalario/100+0.10) \n",
    "\n",
    "precoProduto = 2000\n",
    "aumentoProduto = 15\n",
    "\n",
    "if aumentoProduto>20:\n",
    "    precoProduto = precoProduto * (1+aumentoProduto/100)\n",
    "else:\n",
    "    precoProduto = precoProduto * (1+aumentoProduto/100+0.10) \n",
    "\n",
    "saldoAplicacao = 3000\n",
    "juros = 2\n",
    "\n",
    "if juros>20:\n",
    "    saldoAplicacao = saldoAplicacao * (1+juros/100)\n",
    "else:\n",
    "    saldoAplicacao = saldoAplicacao * (1+juros/100+0.10) \n",
    "\n"
   ]
  },
  {
   "cell_type": "markdown",
   "metadata": {},
   "source": [
    "Se você analisar o código acima irá notar que, embora em contextos diferentes, a mesma operação é feita 3 vezes. Esse tipo de abordagem tem diversos problemas, como tamanho do código, dificuldades em manutenção, maior chance de erros em implementação e, principalmente, dificuldade de se automatizar testes. \n",
    "\n",
    "O uso de funções é bem aplicado nesse cenário, onde os comportamentos que são repetidos são transformados em funções. Veja uma possível implementação do mesmo código acima com funções:"
   ]
  },
  {
   "cell_type": "code",
   "execution_count": null,
   "metadata": {
    "collapsed": true
   },
   "outputs": [],
   "source": [
    "def calculoAumento(valor, porcentagem):\n",
    "    if porcentagem>20:\n",
    "        valor = valor * (1+porcentagem/100)\n",
    "    else:\n",
    "        valor = valor * (1+porcentagem/100+0.10) \n",
    "    return valor\n",
    "\n",
    "salario = 1000\n",
    "aumentoSalario = 30\n",
    "salario = calculoAumento(salario, aumentoSalario)\n",
    "precoProduto = 2000\n",
    "aumentoProduto = 15\n",
    "precoProduto = calculoAumento(precoProduto, aumentoProduto)\n",
    "saldoAplicacao = 3000\n",
    "juros = 2\n",
    "saldoAplicacao = calculoAumento(saldoAplicacao, juros)"
   ]
  },
  {
   "cell_type": "markdown",
   "metadata": {},
   "source": [
    "Note que a solução acima levou 7 linhas de código a menos do que a anterior. Esse número pode ser aumentado quantas vezes o comportamento de aumentar valor necessitar ser implementado.\n",
    "\n",
    "Além disso, caso a regra de aumento mude, a mudança deve ser feita em apenas um lugar na segunda solução, ao contrário de 3 lugares na solução sem funções."
   ]
  },
  {
   "cell_type": "markdown",
   "metadata": {},
   "source": [
    "Por fim, uma vez que a operação de calcular aumento foi implementada em uma funções, podem ser implementados diversos testes unitários, o que facilita o uso de ferramentas de testes e integração contínua, como JUnit e Jenkins."
   ]
  },
  {
   "cell_type": "markdown",
   "metadata": {},
   "source": [
    "## Características Gerais\n",
    "\n",
    "- Bloco de instruções para realizar operações\n",
    "- Pode transformar entradas em saídas\n",
    "- Interfaces de comunicação bem definidas\n",
    "- Podem ser reusadas\n",
    "- Podem ser conectadas entre si"
   ]
  },
  {
   "cell_type": "markdown",
   "metadata": {},
   "source": [
    "### Bloco de Instruções"
   ]
  },
  {
   "cell_type": "code",
   "execution_count": null,
   "metadata": {
    "collapsed": true
   },
   "outputs": [],
   "source": [
    "def removerStopwords(texto, lista):\n",
    "    for palavra in lista:                   #instrução 1\n",
    "        texto = texto.replace(palavra, \" \") #instrução 2\n",
    "    return texto                            #instrução 3\n"
   ]
  },
  {
   "cell_type": "markdown",
   "metadata": {},
   "source": [
    "### Transforma entradas em saídas"
   ]
  },
  {
   "cell_type": "code",
   "execution_count": null,
   "metadata": {
    "collapsed": true
   },
   "outputs": [],
   "source": [
    "def sohVogais(texto):\n",
    "    saida = \"\"\n",
    "    for letra in texto:\n",
    "        if letra in (\"a\",\"e\",\"i\",\"o\",\"u\"):\n",
    "            saida += letra\n",
    "    return saida\n",
    "\n",
    "print(sohVogais(\"python e java\"))\n",
    "\n",
    "# entrada: \"python e java\"\n",
    "# saída: oeaa"
   ]
  },
  {
   "cell_type": "markdown",
   "metadata": {},
   "source": [
    "### Interfaces de acesso bem definidas"
   ]
  },
  {
   "cell_type": "code",
   "execution_count": null,
   "metadata": {
    "collapsed": true
   },
   "outputs": [],
   "source": [
    "def sohVogais(texto):\n",
    "    saida = \"\"\n",
    "    for letra in texto:\n",
    "        if letra in (\"a\",\"e\",\"i\",\"o\",\"u\"):\n",
    "            saida += letra\n",
    "    return saida\n",
    "\n",
    "sohVogais(\"python e java\")    # Certo\n",
    "sohVogais(\"python \" + \"java\") # Certo\n",
    "sohVogais(\"python\",\"java\")    # Errado\n",
    "sohVogais()                   # Errado"
   ]
  },
  {
   "cell_type": "markdown",
   "metadata": {},
   "source": [
    "### Reutilização"
   ]
  },
  {
   "cell_type": "code",
   "execution_count": null,
   "metadata": {
    "collapsed": true
   },
   "outputs": [],
   "source": [
    "def aumento(valor, porcentagem):\n",
    "    saida = round(valor * (1+porcentagem/100),2)\n",
    "    return saida\n",
    "\n",
    "print(aumento(100,10))\n",
    "print(aumento(200,50))\n",
    "\n",
    "valor = int(input(\"Qual eh o valor? \"))\n",
    "percent = int(input(\"Qual eh o aumento? \"))\n",
    "\n",
    "print(\"O novo valor eh:\", aumento(valor, percent))"
   ]
  },
  {
   "cell_type": "markdown",
   "metadata": {},
   "source": [
    "### Podem estar conectadas entre si"
   ]
  },
  {
   "cell_type": "code",
   "execution_count": null,
   "metadata": {
    "collapsed": true
   },
   "outputs": [],
   "source": [
    "def percentJuros(valor):\n",
    "    saida = (1+valor/100)\n",
    "    return saida\n",
    "\n",
    "def aumento(valor, porcentagem):\n",
    "    saida = round(valor * percentJuros(porcentagem),2)\n",
    "    return saida\n",
    "\n",
    "\n",
    "print(aumento(100,10))\n",
    "print(aumento(200,50))"
   ]
  },
  {
   "cell_type": "markdown",
   "metadata": {},
   "source": [
    "## Implementação em Python"
   ]
  },
  {
   "cell_type": "markdown",
   "metadata": {},
   "source": [
    "Em Python usa-se o seguinte formato:\n",
    "\n",
    "```\n",
    "def nome-da-funcao (<parametros>):\n",
    "    instrucao1\n",
    "    instrucao2\n",
    "```    \n",
    "  "
   ]
  },
  {
   "cell_type": "markdown",
   "metadata": {},
   "source": [
    "Onde parâmetros pode ser uma lista de 0 até n variáveis que serão passadas quando da chamada dessa fuunção. Veja exemplos abaixo:"
   ]
  },
  {
   "cell_type": "code",
   "execution_count": null,
   "metadata": {
    "collapsed": true
   },
   "outputs": [],
   "source": [
    "def soma(valor1, valor2):\n",
    "    return valor1+valor2\n",
    "\n",
    "def imprimirNome(nome):\n",
    "    print(nome)\n",
    "    \n",
    "def imprimirLinhaVazia():\n",
    "    print()\n",
    "    \n",
    "def imprimirLinha(qtPontos):\n",
    "    linha = \"\"\n",
    "    for i in range(qtPontos):\n",
    "        linha+= \".\"\n",
    "    print(linha)"
   ]
  },
  {
   "cell_type": "markdown",
   "metadata": {},
   "source": [
    "Note que uma função pode não receber valor nenhum, como a função imprimirListaVazia, como receber mais de um valor, como as funções soma, imprimirNome e imprimirLinha.\n",
    "\n",
    "A chamda dessas funções pode ser feita usando-se o nome da função e os valores passados entre parênteses, separados entre si por vírgulas. Veja exemplos de chamada para cada função definida acima:"
   ]
  },
  {
   "cell_type": "code",
   "execution_count": null,
   "metadata": {
    "collapsed": true
   },
   "outputs": [],
   "source": [
    "soma(1,2)\n",
    "imprimirNome(\"Python\")\n",
    "imprimirLinhaVazia()\n",
    "imprimirLinha(10)"
   ]
  },
  {
   "cell_type": "markdown",
   "metadata": {},
   "source": [
    "## Retorno de Valor"
   ]
  },
  {
   "cell_type": "markdown",
   "metadata": {},
   "source": [
    "Uma função pode ou não retornar valor, já que o retorno de valor não é obrigatório. O retorno é necessário quando deseja-se utilizar o valor retornado pela função para alguma outra operação. Veja um exemplo:"
   ]
  },
  {
   "cell_type": "code",
   "execution_count": null,
   "metadata": {
    "collapsed": true
   },
   "outputs": [],
   "source": [
    "num1 = int(input(\"Digite o primeiro valor\"))\n",
    "num2 = int(input(\"Digite o segundo valor\"))\n",
    "total = soma(num1, num2)\n",
    "\n",
    "print(\"O valor calculado foi:\", total)"
   ]
  },
  {
   "cell_type": "markdown",
   "metadata": {},
   "source": [
    "O comando de retorno é dado pela palavra reservada *return* seguida do valor que será retornado. No nosso exemplo da função soma, o valor a ser retornado é a soma dos parâmetros valor1 e valor2. Veja outros exemplos:"
   ]
  },
  {
   "cell_type": "code",
   "execution_count": null,
   "metadata": {
    "collapsed": true
   },
   "outputs": [],
   "source": [
    "def getLetra(palavra, posicao):\n",
    "    if posicao>=(len(palavra)):\n",
    "        return \"Posição não existente\"\n",
    "    else:\n",
    "        return palavra[posicao]\n",
    "\n",
    "palavra = \"Python\"\n",
    "posicaoBuscada = 1\n",
    "print(getLetra(palavra, posicaoBuscada))\n",
    "posicaoBuscada = 7\n",
    "print(getLetra(palavra, posicaoBuscada))\n",
    "posicaoBuscada = 4\n",
    "print(getLetra(palavra, posicaoBuscada))\n"
   ]
  },
  {
   "cell_type": "markdown",
   "metadata": {},
   "source": [
    "Note que implementamos a operação de buscar letra uma vez e usamos 3 vezes no nosso código. "
   ]
  },
  {
   "cell_type": "markdown",
   "metadata": {},
   "source": [
    "## Variáveis Globais X Variáveis Locais"
   ]
  },
  {
   "cell_type": "markdown",
   "metadata": {},
   "source": [
    "Basicamente, a diferença entre variáveis locais e globais é que a primeira está disponível apenas na função em que é usada. Já a segunda fica disponível entre as funções do programa. Veja um exemplo:"
   ]
  },
  {
   "cell_type": "code",
   "execution_count": null,
   "metadata": {
    "collapsed": true
   },
   "outputs": [],
   "source": [
    "#Exemplo de uso de variáveis locais\n",
    "def soma(a, b):\n",
    "    total = a+b \n",
    "    return total\n",
    "\n",
    "print(soma(3,5))\n",
    "print(total) # Essa instrução dará erro"
   ]
  },
  {
   "cell_type": "code",
   "execution_count": null,
   "metadata": {
    "collapsed": true
   },
   "outputs": [],
   "source": [
    "#Exemplo de uso de variáveis globais\n",
    "def soma(a, b):\n",
    "    global total \n",
    "    total = a+b\n",
    "    return total\n",
    "\n",
    "print(soma(3,5))\n",
    "print(total) # Essa instrução não dará erro, pois total foi definida como variável global"
   ]
  },
  {
   "cell_type": "markdown",
   "metadata": {},
   "source": [
    "Um outro exemplo, no caso de Python, é definir a variável fora da função e usá-la dentro da funções. Veja abaixo:"
   ]
  },
  {
   "cell_type": "code",
   "execution_count": null,
   "metadata": {
    "collapsed": true
   },
   "outputs": [],
   "source": [
    "num1 = 6\n",
    "num2 = 7\n",
    "\n",
    "def soma():\n",
    "    return num1+num2\n",
    "\n",
    "def produto():\n",
    "    return num1*num2\n",
    "\n",
    "print(soma())\n",
    "print(produto())"
   ]
  },
  {
   "cell_type": "markdown",
   "metadata": {},
   "source": [
    "## Exercícios"
   ]
  },
  {
   "cell_type": "markdown",
   "metadata": {},
   "source": [
    "** Ex 1: Crie uma função que, dado um vetor, imprima a soma dos valores desse vetor**"
   ]
  },
  {
   "cell_type": "code",
   "execution_count": null,
   "metadata": {
    "collapsed": true
   },
   "outputs": [],
   "source": []
  },
  {
   "cell_type": "markdown",
   "metadata": {},
   "source": [
    "** Ex 2: Crie uma função que, dado um vetor, retorne o maior número entre os elementos do vetor**"
   ]
  },
  {
   "cell_type": "code",
   "execution_count": null,
   "metadata": {
    "collapsed": true
   },
   "outputs": [],
   "source": []
  },
  {
   "cell_type": "markdown",
   "metadata": {},
   "source": [
    "** Ex 3: Crie uma função para retornar uma lista invertida. Exemplo: se a lista for A B C D E, a sua função retornará E D C B A.**"
   ]
  },
  {
   "cell_type": "code",
   "execution_count": null,
   "metadata": {
    "collapsed": true
   },
   "outputs": [],
   "source": []
  },
  {
   "cell_type": "markdown",
   "metadata": {},
   "source": [
    "** Ex 4: Crie uma função que calcule a média final do aluno, dadas 2 notas de provas e uma nota de trabalho. Cada prova tem peso 2 e o trabalho tem peso 1. Dica: você precisará saber como calcular média ponderada.**"
   ]
  },
  {
   "cell_type": "code",
   "execution_count": null,
   "metadata": {
    "collapsed": true
   },
   "outputs": [],
   "source": []
  },
  {
   "cell_type": "markdown",
   "metadata": {},
   "source": [
    "** Ex 5: Crie uma função que dada uma lista de precos e um percentual de aumento, retorne a nova lista de preços reajustada.**"
   ]
  },
  {
   "cell_type": "code",
   "execution_count": null,
   "metadata": {
    "collapsed": true
   },
   "outputs": [],
   "source": []
  },
  {
   "cell_type": "markdown",
   "metadata": {},
   "source": [
    "** Ex 6:  Crie uma função que, dado o número de mês, retorne o mês por extenso. Exemplo: se for passado o valor 5 como parâmetro, sua função deverá retornar maio.**"
   ]
  },
  {
   "cell_type": "code",
   "execution_count": null,
   "metadata": {
    "collapsed": true
   },
   "outputs": [],
   "source": []
  },
  {
   "cell_type": "markdown",
   "metadata": {},
   "source": [
    "** Ex 7: Crie uma função de geração de uma lista de números aleatórios, para a qual o usuário deverá informar a quantidade de números. Se o usuário informar 5, então a lista retornada pela sua função deverá ter 5 números aleatórios entre 1 e 100.**"
   ]
  },
  {
   "cell_type": "code",
   "execution_count": null,
   "metadata": {
    "collapsed": true
   },
   "outputs": [],
   "source": []
  },
  {
   "cell_type": "markdown",
   "metadata": {},
   "source": [
    "** Ex 8: Crie duas funções: uma para imprimir um traço e outra para imprimir uma linha. Essa segunda função deverá receber como parâmetro o tamanho da linha a ser criada.**"
   ]
  },
  {
   "cell_type": "code",
   "execution_count": null,
   "metadata": {
    "collapsed": true
   },
   "outputs": [],
   "source": []
  },
  {
   "cell_type": "markdown",
   "metadata": {},
   "source": [
    "** Ex 9: Crie um programa que, dado um valor e número de parcelas, gere uma lista com todas as parcelas, indicando o valor de cada uma e a data de vencimento. Obs: para criar essa lista, você poderia pesquisar sobre a implementação de dicionários em Python**"
   ]
  },
  {
   "cell_type": "code",
   "execution_count": null,
   "metadata": {
    "collapsed": true
   },
   "outputs": [],
   "source": []
  },
  {
   "cell_type": "markdown",
   "metadata": {},
   "source": [
    "** Ex 10: Crie um sistema que tenha as seguintes operações: 1) Incluir um nome de produto; 2) Informar se um dado produto existe no cadastro; 3) Remover um produto; 4) Limpar o cadastro 5) Sair.**"
   ]
  },
  {
   "cell_type": "code",
   "execution_count": null,
   "metadata": {
    "collapsed": true
   },
   "outputs": [],
   "source": []
  },
  {
   "cell_type": "markdown",
   "metadata": {},
   "source": [
    "**Ex 11: Modifique o exercício anterior, dessa vez implementando entrada e saída de estoque. No vetor de produtos, ao invés de armazenar apenas um nome, você poderia armazenar um objeto. Dica: use a classe abaixo para criar seus objetos de produtos**"
   ]
  },
  {
   "cell_type": "code",
   "execution_count": null,
   "metadata": {
    "collapsed": true
   },
   "outputs": [],
   "source": [
    "class Produto:\n",
    "    nome = None\n",
    "    estoque = 0\n",
    "    \n",
    "# para criar um produto\n",
    "produto = Produto()\n",
    "produto.nome = \"Teclado\"\n",
    "produto.estoque = 10\n",
    "\n"
   ]
  },
  {
   "cell_type": "markdown",
   "metadata": {},
   "source": [
    "**Ex 12: Crie um sistema de gerenciamento de usuários, com as seguintes funções: 1) Criar usuário; 2) Remover usuário; 3) Listar usuários; 4) Fazer login; 5) Sair. Pode usar a classe abaixo como modelo de criação dos objetos de usuários**"
   ]
  },
  {
   "cell_type": "code",
   "execution_count": null,
   "metadata": {
    "collapsed": true
   },
   "outputs": [],
   "source": [
    "class User:\n",
    "    username = None\n",
    "    password = None"
   ]
  }
 ],
 "metadata": {
  "kernelspec": {
   "display_name": "Python 3",
   "language": "python",
   "name": "python3"
  },
  "language_info": {
   "codemirror_mode": {
    "name": "ipython",
    "version": 3
   },
   "file_extension": ".py",
   "mimetype": "text/x-python",
   "name": "python",
   "nbconvert_exporter": "python",
   "pygments_lexer": "ipython3",
   "version": "3.6.1"
  }
 },
 "nbformat": 4,
 "nbformat_minor": 2
}
