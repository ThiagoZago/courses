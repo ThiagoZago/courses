{
 "cells": [
  {
   "cell_type": "code",
   "execution_count": 14,
   "metadata": {},
   "outputs": [
    {
     "name": "stdout",
     "output_type": "stream",
     "text": [
      "INSERT INTO produto (produto_id, nome, estoque, preco, cod_fabricante) VALUES (1,'CHCZEB',64,110.14,1);\n",
      "INSERT INTO produto (produto_id, nome, estoque, preco, cod_fabricante) VALUES (2,'OZZGNK',60,108.68,1);\n",
      "INSERT INTO produto (produto_id, nome, estoque, preco, cod_fabricante) VALUES (3,'9C5ZB3',40,100.59,1);\n",
      "INSERT INTO produto (produto_id, nome, estoque, preco, cod_fabricante) VALUES (4,'4N4KBA',51,94.52,1);\n",
      "INSERT INTO produto (produto_id, nome, estoque, preco, cod_fabricante) VALUES (5,'Y2GE4V',31,80.94,1);\n",
      "INSERT INTO produto (produto_id, nome, estoque, preco, cod_fabricante) VALUES (6,'QYGYI8',41,96.22,1);\n",
      "INSERT INTO produto (produto_id, nome, estoque, preco, cod_fabricante) VALUES (7,'ASCD2A',10,97.38,1);\n",
      "INSERT INTO produto (produto_id, nome, estoque, preco, cod_fabricante) VALUES (8,'E1G78N',95,118.73,1);\n",
      "INSERT INTO produto (produto_id, nome, estoque, preco, cod_fabricante) VALUES (9,'UL0DX9',21,113.71,1);\n",
      "INSERT INTO produto (produto_id, nome, estoque, preco, cod_fabricante) VALUES (10,'032IZP',16,98.76,1);\n",
      "INSERT INTO produto (produto_id, nome, estoque, preco, cod_fabricante) VALUES (11,'YYE7MZ',56,108.22,2);\n",
      "INSERT INTO produto (produto_id, nome, estoque, preco, cod_fabricante) VALUES (12,'488G5T',39,86.11,2);\n",
      "INSERT INTO produto (produto_id, nome, estoque, preco, cod_fabricante) VALUES (13,'50P38Q',76,101.22,2);\n",
      "INSERT INTO produto (produto_id, nome, estoque, preco, cod_fabricante) VALUES (14,'07BO6B',57,85.7,2);\n",
      "INSERT INTO produto (produto_id, nome, estoque, preco, cod_fabricante) VALUES (15,'4Q0JEW',67,75.76,2);\n",
      "INSERT INTO produto (produto_id, nome, estoque, preco, cod_fabricante) VALUES (16,'XMU03K',99,76.9,2);\n",
      "INSERT INTO produto (produto_id, nome, estoque, preco, cod_fabricante) VALUES (17,'7FQ9BX',33,94.89,2);\n",
      "INSERT INTO produto (produto_id, nome, estoque, preco, cod_fabricante) VALUES (18,'8FFOWZ',66,113.82,2);\n",
      "INSERT INTO produto (produto_id, nome, estoque, preco, cod_fabricante) VALUES (19,'PSXC44',30,77.4,2);\n",
      "INSERT INTO produto (produto_id, nome, estoque, preco, cod_fabricante) VALUES (20,'F13XLH',21,97.98,2);\n",
      "INSERT INTO produto (produto_id, nome, estoque, preco, cod_fabricante) VALUES (21,'ORIDEZ',88,90.87,3);\n",
      "INSERT INTO produto (produto_id, nome, estoque, preco, cod_fabricante) VALUES (22,'MG5HP4',72,105.3,3);\n",
      "INSERT INTO produto (produto_id, nome, estoque, preco, cod_fabricante) VALUES (23,'IL1L5A',81,93.97,3);\n",
      "INSERT INTO produto (produto_id, nome, estoque, preco, cod_fabricante) VALUES (24,'V5RVG3',5,89.08,3);\n",
      "INSERT INTO produto (produto_id, nome, estoque, preco, cod_fabricante) VALUES (25,'0DZ9MJ',26,108.13,3);\n",
      "INSERT INTO produto (produto_id, nome, estoque, preco, cod_fabricante) VALUES (26,'7LU2YP',79,109.66,3);\n",
      "INSERT INTO produto (produto_id, nome, estoque, preco, cod_fabricante) VALUES (27,'5LWPRE',73,109.4,3);\n",
      "INSERT INTO produto (produto_id, nome, estoque, preco, cod_fabricante) VALUES (28,'TTVE2V',51,94.14,3);\n",
      "INSERT INTO produto (produto_id, nome, estoque, preco, cod_fabricante) VALUES (29,'UTYJAE',31,106.43,3);\n",
      "INSERT INTO produto (produto_id, nome, estoque, preco, cod_fabricante) VALUES (30,'LO5B28',55,113.67,3);\n"
     ]
    }
   ],
   "source": [
    "import string\n",
    "import random\n",
    "\n",
    "fabricantes = {}\n",
    "\n",
    "fabricantes[1] = \"Microsoft\"\n",
    "fabricantes[2] = \"Logitech\"\n",
    "fabricantes[3] = \"Dell\"\n",
    "\n",
    "def nomeProduto(tamanho, chars=string.ascii_uppercase + string.digits):\n",
    "    nome = \"\"\n",
    "    for i in range(tamanho):\n",
    "        nome = nome + ''.join(random.choice(chars))\n",
    "    return nome\n",
    "\n",
    "idsProdutos = []\n",
    "\n",
    "insertMask = \"INSERT INTO produto (produto_id, nome, estoque, preco, cod_fabricante) VALUES ({},'{}',{},{},{});\"\n",
    "produtoID = 1\n",
    "for key, value in fabricantes.items():\n",
    "    for i in range(10):\n",
    "        nome = nomeProduto(6)\n",
    "        estoque = random.randint(0,100)\n",
    "        preco = round(random.uniform(70.00, 120.00),2)\n",
    "        print(insertMask.format(produtoID, nome, estoque, preco, key))\n",
    "        idsProdutos.append(produtoID)\n",
    "        produtoID+=1\n",
    " \n"
   ]
  },
  {
   "cell_type": "code",
   "execution_count": 13,
   "metadata": {},
   "outputs": [
    {
     "name": "stdout",
     "output_type": "stream",
     "text": [
      "INSERT INTO cliente (id,nome,sobrenome,cpf) VALUES (1,\"Fernando\",\"Xavier\",\"123456779\");\n",
      "INSERT INTO cliente (id,nome,sobrenome,cpf) VALUES (2,\"Edson\",\"Arantes\",\"987654431\");\n"
     ]
    }
   ],
   "source": [
    "import string\n",
    "import random\n",
    "\n",
    "clientes = {}\n",
    "\n",
    "clientes = {\n",
    "    \"1\":{\n",
    "        \"nome\":\"Fernando\",\n",
    "        \"sobrenome\":\"Xavier\",\n",
    "        \"cpf\":\"123456779\"\n",
    "    },\n",
    "    \"2\":{\n",
    "         \"nome\":\"Edson\",\n",
    "         \"sobrenome\":\"Arantes\",\n",
    "         \"cpf\":\"987654431\"\n",
    "    }\n",
    "    \n",
    "}\n",
    "\n",
    "for k,v in clientes.items():\n",
    "    valores = \"(\"+k+\",\"\n",
    "    campos = \"(id,\"\n",
    "    for campo,valor in v.items():\n",
    "        valores+=\"\\\"\"+ valor +\"\\\",\"\n",
    "        campos+=campo+\",\"\n",
    "    print(\"INSERT INTO cliente \" + campos[:-1]+\") VALUES \" + valores[:-1] + \");\")\n",
    "    \n",
    "    \n",
    "\n"
   ]
  }
 ],
 "metadata": {
  "kernelspec": {
   "display_name": "Python 3",
   "language": "python",
   "name": "python3"
  },
  "language_info": {
   "codemirror_mode": {
    "name": "ipython",
    "version": 3
   },
   "file_extension": ".py",
   "mimetype": "text/x-python",
   "name": "python",
   "nbconvert_exporter": "python",
   "pygments_lexer": "ipython3",
   "version": "3.6.1"
  }
 },
 "nbformat": 4,
 "nbformat_minor": 2
}
