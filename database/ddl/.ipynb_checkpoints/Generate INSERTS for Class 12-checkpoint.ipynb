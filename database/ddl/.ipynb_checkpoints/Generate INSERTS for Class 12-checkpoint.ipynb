{
 "cells": [
  {
   "cell_type": "code",
   "execution_count": 30,
   "metadata": {},
   "outputs": [
    {
     "name": "stdout",
     "output_type": "stream",
     "text": [
      "INSERT INTO produto (produto_id, nome, estoque, preco, cod_fabricante) VALUES (1,'9UMJS3',39,82.4,1);\n",
      "INSERT INTO produto (produto_id, nome, estoque, preco, cod_fabricante) VALUES (2,'0TOAFZ',13,118.72,1);\n",
      "INSERT INTO produto (produto_id, nome, estoque, preco, cod_fabricante) VALUES (3,'88XIIV',22,101.47,1);\n",
      "INSERT INTO produto (produto_id, nome, estoque, preco, cod_fabricante) VALUES (4,'ODIEWT',52,72.09,1);\n",
      "INSERT INTO produto (produto_id, nome, estoque, preco, cod_fabricante) VALUES (5,'R8PVKU',88,115.07,1);\n",
      "INSERT INTO produto (produto_id, nome, estoque, preco, cod_fabricante) VALUES (6,'BSIXP2',91,104.24,1);\n",
      "INSERT INTO produto (produto_id, nome, estoque, preco, cod_fabricante) VALUES (7,'G5481C',81,99.23,1);\n",
      "INSERT INTO produto (produto_id, nome, estoque, preco, cod_fabricante) VALUES (8,'2IH63W',61,71.71,1);\n",
      "INSERT INTO produto (produto_id, nome, estoque, preco, cod_fabricante) VALUES (9,'PHMVOP',19,76.71,1);\n",
      "INSERT INTO produto (produto_id, nome, estoque, preco, cod_fabricante) VALUES (10,'HNTSG4',36,75.29,1);\n",
      "INSERT INTO produto (produto_id, nome, estoque, preco, cod_fabricante) VALUES (11,'URWLRT',55,79.17,2);\n",
      "INSERT INTO produto (produto_id, nome, estoque, preco, cod_fabricante) VALUES (12,'BHZ376',0,80.35,2);\n",
      "INSERT INTO produto (produto_id, nome, estoque, preco, cod_fabricante) VALUES (13,'PPCPTQ',91,111.06,2);\n",
      "INSERT INTO produto (produto_id, nome, estoque, preco, cod_fabricante) VALUES (14,'4C0VN6',81,93.16,2);\n",
      "INSERT INTO produto (produto_id, nome, estoque, preco, cod_fabricante) VALUES (15,'YXWDBG',87,91.99,2);\n",
      "INSERT INTO produto (produto_id, nome, estoque, preco, cod_fabricante) VALUES (16,'HDN3IK',15,101.23,2);\n",
      "INSERT INTO produto (produto_id, nome, estoque, preco, cod_fabricante) VALUES (17,'WKQRJD',94,88.85,2);\n",
      "INSERT INTO produto (produto_id, nome, estoque, preco, cod_fabricante) VALUES (18,'AC42BD',91,114.11,2);\n",
      "INSERT INTO produto (produto_id, nome, estoque, preco, cod_fabricante) VALUES (19,'93UAUM',55,107.71,2);\n",
      "INSERT INTO produto (produto_id, nome, estoque, preco, cod_fabricante) VALUES (20,'WD4Q77',22,117.9,2);\n",
      "INSERT INTO produto (produto_id, nome, estoque, preco, cod_fabricante) VALUES (21,'483QVO',32,93.62,3);\n",
      "INSERT INTO produto (produto_id, nome, estoque, preco, cod_fabricante) VALUES (22,'7A57SL',9,88.04,3);\n",
      "INSERT INTO produto (produto_id, nome, estoque, preco, cod_fabricante) VALUES (23,'8SY98C',5,91.4,3);\n",
      "INSERT INTO produto (produto_id, nome, estoque, preco, cod_fabricante) VALUES (24,'ZT3XOS',89,85.74,3);\n",
      "INSERT INTO produto (produto_id, nome, estoque, preco, cod_fabricante) VALUES (25,'TA9ELZ',50,86.4,3);\n",
      "INSERT INTO produto (produto_id, nome, estoque, preco, cod_fabricante) VALUES (26,'2POLEC',99,90.54,3);\n",
      "INSERT INTO produto (produto_id, nome, estoque, preco, cod_fabricante) VALUES (27,'Q00K8Q',1,93.96,3);\n",
      "INSERT INTO produto (produto_id, nome, estoque, preco, cod_fabricante) VALUES (28,'SFBLRW',34,116.9,3);\n",
      "INSERT INTO produto (produto_id, nome, estoque, preco, cod_fabricante) VALUES (29,'Q9B7WZ',3,98.4,3);\n",
      "INSERT INTO produto (produto_id, nome, estoque, preco, cod_fabricante) VALUES (30,'Z8Z7EO',85,104.51,3);\n"
     ]
    }
   ],
   "source": [
    "import string\n",
    "import random\n",
    "\n",
    "fabricantes = {}\n",
    "\n",
    "fabricantes[1] = \"Microsoft\"\n",
    "fabricantes[2] = \"Logitech\"\n",
    "fabricantes[3] = \"Dell\"\n",
    "\n",
    "def nomeProduto(tamanho, chars=string.ascii_uppercase + string.digits):\n",
    "    nome = \"\"\n",
    "    for i in range(tamanho):\n",
    "        nome = nome + ''.join(random.choice(chars))\n",
    "    return nome\n",
    "\n",
    "idsProdutos = []\n",
    "\n",
    "insertMask = \"INSERT INTO produto (produto_id, nome, estoque, preco, cod_fabricante) VALUES ({},'{}',{},{},{});\"\n",
    "produtoID = 1\n",
    "for key, value in fabricantes.items():\n",
    "    for i in range(10):\n",
    "        nome = nomeProduto(6)\n",
    "        estoque = random.randint(0,100)\n",
    "        preco = round(random.uniform(70.00, 120.00),2)\n",
    "        print(insertMask.format(produtoID, nome, estoque, preco, key))\n",
    "        idsProdutos.append(produtoID)\n",
    "        produtoID+=1\n",
    " \n"
   ]
  },
  {
   "cell_type": "code",
   "execution_count": 13,
   "metadata": {},
   "outputs": [
    {
     "name": "stdout",
     "output_type": "stream",
     "text": [
      "INSERT INTO cliente (id,nome,sobrenome,cpf) VALUES (1,\"Fernando\",\"Xavier\",\"123456779\");\n",
      "INSERT INTO cliente (id,nome,sobrenome,cpf) VALUES (2,\"Edson\",\"Arantes\",\"987654431\");\n"
     ]
    }
   ],
   "source": [
    "import string\n",
    "import random\n",
    "\n",
    "clientes = {}\n",
    "\n",
    "clientes = {\n",
    "    \"1\":{\n",
    "        \"nome\":\"Fernando\",\n",
    "        \"sobrenome\":\"Xavier\",\n",
    "        \"cpf\":\"123456779\"\n",
    "    },\n",
    "    \"2\":{\n",
    "         \"nome\":\"Edson\",\n",
    "         \"sobrenome\":\"Arantes\",\n",
    "         \"cpf\":\"987654431\"\n",
    "    }\n",
    "    \n",
    "}\n",
    "\n",
    "for k,v in clientes.items():\n",
    "    valores = \"(\"+k+\",\"\n",
    "    campos = \"(id,\"\n",
    "    for campo,valor in v.items():\n",
    "        valores+=\"\\\"\"+ valor +\"\\\",\"\n",
    "        campos+=campo+\",\"\n",
    "    print(\"INSERT INTO cliente \" + campos[:-1]+\") VALUES \" + valores[:-1] + \");\")\n"
   ]
  }
 ],
 "metadata": {
  "kernelspec": {
   "display_name": "Python 3",
   "language": "python",
   "name": "python3"
  },
  "language_info": {
   "codemirror_mode": {
    "name": "ipython",
    "version": 3
   },
   "file_extension": ".py",
   "mimetype": "text/x-python",
   "name": "python",
   "nbconvert_exporter": "python",
   "pygments_lexer": "ipython3",
   "version": "3.6.1"
  }
 },
 "nbformat": 4,
 "nbformat_minor": 2
}
