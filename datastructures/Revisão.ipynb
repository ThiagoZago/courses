{
 "cells": [
  {
   "cell_type": "markdown",
   "metadata": {},
   "source": [
    "## Revisão"
   ]
  },
  {
   "cell_type": "markdown",
   "metadata": {},
   "source": [
    "**Assuntos:**\n",
    "\n",
    "- Tipos\n",
    "- Vetores\n",
    "- Matrizes\n",
    "- Pilha\n",
    "- Fila"
   ]
  },
  {
   "cell_type": "markdown",
   "metadata": {},
   "source": [
    "## Questões"
   ]
  },
  {
   "cell_type": "markdown",
   "metadata": {},
   "source": [
    "**1) Faça um programa que receba dois números e imprima a soma deles. Obs: lembre-se que a função input() retorna valores do tipo String.**"
   ]
  },
  {
   "cell_type": "code",
   "execution_count": null,
   "metadata": {},
   "outputs": [],
   "source": []
  },
  {
   "cell_type": "markdown",
   "metadata": {},
   "source": [
    "**2) Crie um programa que imprima a tabuada de 7. Seu programa deve imprimir, para cada número, a seguinte mensagem: 7 x n = p, onde n varia entre 1 e 10 e p é o resultado da multiplicação de n por 7. **"
   ]
  },
  {
   "cell_type": "code",
   "execution_count": null,
   "metadata": {},
   "outputs": [],
   "source": []
  },
  {
   "cell_type": "markdown",
   "metadata": {},
   "source": [
    "**3) Crie um programa que, dados 5 números digitados pelo usuário, imprima a média deles.**"
   ]
  },
  {
   "cell_type": "code",
   "execution_count": null,
   "metadata": {},
   "outputs": [],
   "source": []
  },
  {
   "cell_type": "markdown",
   "metadata": {},
   "source": [
    "**4) Dado o vetor abaixo, produza um código que imprima a soma dos valores desse vetor.**"
   ]
  },
  {
   "cell_type": "code",
   "execution_count": null,
   "metadata": {},
   "outputs": [],
   "source": [
    "estoque = [10,5,10,80,60,40]"
   ]
  },
  {
   "cell_type": "markdown",
   "metadata": {},
   "source": [
    "**5) Dado o vetor abaixo, crie uma programa que alterará o valor de uma posição x definida pelo usuário.**"
   ]
  },
  {
   "cell_type": "code",
   "execution_count": null,
   "metadata": {},
   "outputs": [],
   "source": [
    "estoque = [10,5,10,80,60,40]"
   ]
  },
  {
   "cell_type": "markdown",
   "metadata": {},
   "source": [
    "**6) Dado o vetor \"valores\" abaixo, faça um programa que gere um novo vetor apenas com os números ímpares presentes nesse vetor.**"
   ]
  },
  {
   "cell_type": "code",
   "execution_count": 9,
   "metadata": {},
   "outputs": [],
   "source": [
    "import random\n",
    "\n",
    "valores = random.sample(range(10000), 15)\n"
   ]
  },
  {
   "cell_type": "markdown",
   "metadata": {},
   "source": [
    "**7) Crie um programa que, dados 5 números digitados pelo usuário, armazene em um vetor e pergunte ao usuário se quer calcular a média ou a soma. Em seguida, de acordo com a opção do usuário, seu programa deverá percorrer o vetor e apresentar o resultado da operação escolhida.**"
   ]
  },
  {
   "cell_type": "code",
   "execution_count": null,
   "metadata": {},
   "outputs": [],
   "source": []
  },
  {
   "cell_type": "markdown",
   "metadata": {},
   "source": [
    "**8) A matriz vendas abaixo representa as vendas de 3 produtos em cada semana do mês. Faça um código que:**\n",
    "\n",
    "- Indique o produto com maior venda no mês\n",
    "- Indique o produto o produto com maior média semanal de vendas"
   ]
  },
  {
   "cell_type": "code",
   "execution_count": null,
   "metadata": {},
   "outputs": [],
   "source": [
    "vendas = [[10,40,20,0],[30,20,10,4],[12,40,3,19]]"
   ]
  },
  {
   "cell_type": "markdown",
   "metadata": {},
   "source": [
    "**9) Uma empresa deseja criar um programa que calcule e imprima o seu total em estoque, bem como avisar de produtos com estoque abaixo do mínimo (<4). Além de calcular e imprimir o total dos produtos em estoque, o programa deve indicar quais produtos que estão com estoque abaixo do mínimo. No exemplo abaixo são dadas as quantidades de 6 produtos (produto1 tem 10 unidades, produto2 tem 3, etc), mas poderia ser de mais ou menos produtos. Continue a implementação abaixo desse programa, considerando os requisitos acima. Você deve obrigatoriamente usar estruturas de repetição (para percorrer os itens do vetor de produtos) para que sua solução seja corrigida:.**"
   ]
  },
  {
   "cell_type": "code",
   "execution_count": null,
   "metadata": {},
   "outputs": [],
   "source": [
    "produtos = [10,3,4,8,2,1]"
   ]
  },
  {
   "cell_type": "markdown",
   "metadata": {},
   "source": [
    "**10) Crie uma função que, dada uma matriz, calcule a média dos elementos desse matriz. A variável dada abaixo serve apenas como referência sobre como uma matriz é declarada. Apesar da matriz exemplo dada ser quadrada (3 x 3), seu programa deve funcionar para matrizes de quaisquer dimensões. Você deve obrigatoriamente usar estruturas de repetição, para percorrer os elementos da matriz, e criar uma função (para o cálculo da média) para que sua solução seja corrigida:.**"
   ]
  },
  {
   "cell_type": "code",
   "execution_count": null,
   "metadata": {},
   "outputs": [],
   "source": [
    "matrizExemplo = [[1,2,3],[2,3,2],[7,4,3]]"
   ]
  },
  {
   "cell_type": "markdown",
   "metadata": {},
   "source": [
    "**11) Uma empresa gostaria de criar um sistema de atendimento de clientes, no qual os clientes serão atendidos por ordem de chegada. No entanto, por restrições internas, a empresa só pode atender x pessoas por dia, mesmo que tenham mais pessoas esperando. Crie um programa que faça o controle dessa fila de atendimento, em que seja perguntado no início qual a quantidade de pessoas atendidas e adicione repetidamente pessoas na fila até que a quantidade máxima seja esgotada.**"
   ]
  },
  {
   "cell_type": "code",
   "execution_count": null,
   "metadata": {},
   "outputs": [],
   "source": []
  },
  {
   "cell_type": "markdown",
   "metadata": {},
   "source": [
    "**12) Considerando que uma letra indica uma operação de ENQUEUE em uma fila e um * indica uma operação de DEQUEUE em uma fila, qual será a fila resultante da série de operações abaixo**\n",
    "\n",
    "A \\* B C D E \\* \\* F \\* \\* G H I J K \\* \\* L\n",
    "\n",
    "Para responder isso, você deve implementar uma solução usando pilhas e, para os dados de entrada (a sequência de caracteres acima), use um vetor."
   ]
  },
  {
   "cell_type": "code",
   "execution_count": null,
   "metadata": {},
   "outputs": [],
   "source": []
  }
 ],
 "metadata": {
  "kernelspec": {
   "display_name": "Python 3",
   "language": "python",
   "name": "python3"
  },
  "language_info": {
   "codemirror_mode": {
    "name": "ipython",
    "version": 3
   },
   "file_extension": ".py",
   "mimetype": "text/x-python",
   "name": "python",
   "nbconvert_exporter": "python",
   "pygments_lexer": "ipython3",
   "version": "3.6.5"
  }
 },
 "nbformat": 4,
 "nbformat_minor": 2
}
