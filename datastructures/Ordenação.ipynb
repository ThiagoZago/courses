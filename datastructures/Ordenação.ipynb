{
 "cells": [
  {
   "cell_type": "markdown",
   "metadata": {},
   "source": [
    "## Introdução"
   ]
  },
  {
   "cell_type": "markdown",
   "metadata": {},
   "source": [
    "Algoritmos de ordenação são usados na computação em várias tarefas, seja para ordenar dados em um banco de dados ou mesmo um sistema de arquivos. Cada estratégia pode ter suas vantagens e desvantagens, de modo que a sua aplicabilidade depende do contexto.\n",
    "\n",
    "Abaixo, temos implementações de 3 algoritmos bem conhecidos: Bubble Sort, Insertion Sort e Selection Sort. Esteja a vontade para mudar a implementação (de preferência para reduzir o código) ou mesmo pesquisar outras implementações largamente utilizadas na internet.\n",
    "\n",
    "O entendimento de algoritmos de ordenação é facilitado com o uso de ferramentas de visualização, cada vez mais comuns hoje em dia. Abaixo segue uma lista:\n",
    "\n",
    "- https://visualgo.net/pt/sorting\n",
    "- http://interactivepython.org/courselib/static/pythonds/SortSearch/toctree.html\n",
    "- https://www.cs.usfca.edu/~galles/visualization/ComparisonSort.html"
   ]
  },
  {
   "cell_type": "markdown",
   "metadata": {},
   "source": [
    "## Bubble Sort"
   ]
  },
  {
   "cell_type": "code",
   "execution_count": null,
   "metadata": {
    "collapsed": true
   },
   "outputs": [],
   "source": [
    "numeros = [83, 97, 17, 20, 98, 43, 28, 61, 23, 76]\n",
    "qt = len(numeros)\n",
    "while qt>0:\n",
    "    for i in range(qt):\n",
    "        if i==len(numeros)-1:\n",
    "            break\n",
    "        if numeros[i]>numeros[i+1]:\n",
    "            aux = numeros[i+1]\n",
    "            numeros[i+1] = numeros[i]\n",
    "            numeros[i] = aux\n",
    "    qt-=1\n",
    "print(numeros)"
   ]
  },
  {
   "cell_type": "markdown",
   "metadata": {},
   "source": [
    "## Insertion Sort"
   ]
  },
  {
   "cell_type": "code",
   "execution_count": null,
   "metadata": {
    "collapsed": true
   },
   "outputs": [],
   "source": [
    "numeros = [3,44,38,5,47,15,36,26,27,2,46,4,19,50,48]\n",
    "for i in range(1,len(numeros)):\n",
    "    if numeros[i]<numeros[i-1]:\n",
    "        aux = numeros[i-1]\n",
    "        numeros[i-1] = numeros[i]\n",
    "        numeros[i] = aux\n",
    "        j=i-1\n",
    "        while j>0: \n",
    "            if numeros[j]<numeros[j-1]:\n",
    "                aux = numeros[j-1]\n",
    "                numeros[j-1] = numeros[j]\n",
    "                numeros[j] = aux\n",
    "                j-=1\n",
    "            else:\n",
    "                break\n",
    "print(numeros)"
   ]
  },
  {
   "cell_type": "markdown",
   "metadata": {},
   "source": [
    "## Selection Sort"
   ]
  },
  {
   "cell_type": "code",
   "execution_count": null,
   "metadata": {},
   "outputs": [],
   "source": [
    "numeros = [83, 97, 17, 20, 98, 43, 28, 61, 23, 76]\n",
    "\n",
    "print(numeros)\n",
    "for i in range(0,len(numeros)-1):\n",
    "    menor = numeros[i]\n",
    "    k = i\n",
    "    for j in range(i+1,len(numeros)):\n",
    "        if numeros[j]<menor:\n",
    "            menor = numeros[j]\n",
    "            k = j\n",
    "    numeros[k] = numeros[i]\n",
    "    numeros[i] = menor\n",
    "    print(\"Rodada\",i,numeros)\n",
    "print(numeros)"
   ]
  },
  {
   "cell_type": "markdown",
   "metadata": {},
   "source": [
    "## Merge Sort"
   ]
  },
  {
   "cell_type": "code",
   "execution_count": null,
   "metadata": {},
   "outputs": [],
   "source": [
    "#função auxiliar para operação de merge\n",
    "def merge(vetor1, vetor2):\n",
    "    vetor = []\n",
    "    ini2 = 0\n",
    "    ini1 = 0\n",
    "    for v1 in range(len(vetor1)):\n",
    "        for v2 in range(ini2, len(vetor2)):\n",
    "            if vetor2[v2]<vetor1[v1]:\n",
    "                vetor.append(vetor2[v2])\n",
    "                ini2 +=1\n",
    "            elif vetor1[v1]<vetor2[v2]:\n",
    "                vetor.append(vetor1[v1])\n",
    "                ini1 +=1\n",
    "                break\n",
    "            else:\n",
    "                ini2 +=1\n",
    "                ini1 +=1\n",
    "                vetor.append(vetor2[v2])\n",
    "                vetor.append(vetor1[v1])\n",
    "                \n",
    "    #se sobrou alguma coisa no vetor, incluir no vetor ordenado\n",
    "    if ini2<=len(vetor2):\n",
    "        for i in range(ini2, len(vetor2)):\n",
    "            vetor.append(vetor2[i])\n",
    "    if ini1<=len(vetor1):\n",
    "        for i in range(ini1, len(vetor1)):\n",
    "            vetor.append(vetor1[i])\n",
    "    return vetor\n",
    "\n",
    "print(merge([17,30,40],[20,21,45]))\n",
    "print(merge([20,21,45],[17,30,40]))\n",
    "\n",
    "numeros = [83, 97, 17, 20, 98, 43, 28, 61, 23, 76]\n",
    "\n",
    "def mergeSort(numeros):\n",
    "    if len(numeros)==1:\n",
    "        return numeros\n",
    "    else:\n",
    "        meio = int(len(numeros)/2)+len(numeros)%2\n",
    "        esq = mergeSort(numeros[:meio])\n",
    "        dir = mergeSort(numeros[meio:])\n",
    "        return merge(esq, dir)\n",
    "        \n",
    "print(mergeSort(numeros))"
   ]
  },
  {
   "cell_type": "markdown",
   "metadata": {},
   "source": [
    "## Quick Sort"
   ]
  },
  {
   "cell_type": "code",
   "execution_count": null,
   "metadata": {},
   "outputs": [],
   "source": [
    "def quickSort(vetor):\n",
    "    if len(vetor) in (0,1) :\n",
    "        return vetor\n",
    "    \n",
    "    #pivo definido como primeiro elemento\n",
    "    pivo = vetor[0]\n",
    "    vetoresq = []\n",
    "    vetordir = []\n",
    "    vetorfinal = []\n",
    "    \n",
    "    #criando vetores auxiliares (menores e maiores que pivo)\n",
    "    for i in range(1,len(vetor)):\n",
    "        if vetor[i]<pivo:\n",
    "            vetoresq.append(vetor[i])\n",
    "        else:\n",
    "            vetordir.append(vetor[i])\n",
    "\n",
    "    #chamada recursiva\n",
    "    vetoresq = quickSort(vetoresq)\n",
    "    vetordir = quickSort(vetordir)\n",
    "    \n",
    "    #juntando as partes\n",
    "    vetoresq.append(pivo)\n",
    "    vetorfinal = vetoresq\n",
    "    vetorfinal.extend(vetordir)\n",
    "    \n",
    "    return vetorfinal\n",
    "    \n",
    "numeros = [83, 97, 17, 20, 98, 43, 28, 61, 23, 76]\n",
    "print(quickSort(numeros))\n"
   ]
  },
  {
   "cell_type": "markdown",
   "metadata": {},
   "source": [
    "## Exercício"
   ]
  },
  {
   "cell_type": "markdown",
   "metadata": {},
   "source": [
    "** Exercício 1: Transforme as implementações acima em funções e crie uma função que faça a comparação de velocidade para uma entrada com x valores. Experimente usar funções de geração de números aleatórios em Python (Geração de números aleatórios implementada nesse [Caderno](Árvore Binária.ipynb))**"
   ]
  },
  {
   "cell_type": "code",
   "execution_count": null,
   "metadata": {
    "collapsed": true
   },
   "outputs": [],
   "source": []
  }
 ],
 "metadata": {
  "kernelspec": {
   "display_name": "Python 3",
   "language": "python",
   "name": "python3"
  },
  "language_info": {
   "codemirror_mode": {
    "name": "ipython",
    "version": 3
   },
   "file_extension": ".py",
   "mimetype": "text/x-python",
   "name": "python",
   "nbconvert_exporter": "python",
   "pygments_lexer": "ipython3",
   "version": "3.6.1"
  }
 },
 "nbformat": 4,
 "nbformat_minor": 2
}
