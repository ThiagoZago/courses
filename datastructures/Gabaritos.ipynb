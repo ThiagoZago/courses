{
 "cells": [
  {
   "cell_type": "markdown",
   "metadata": {},
   "source": [
    "## Introdução"
   ]
  },
  {
   "cell_type": "markdown",
   "metadata": {},
   "source": [
    "Aqui estão algumas possíveis soluções para os exercícios propostos nos cadernos. Fique a vontade para criar a sua própria solução e tenha em mente que as linguagens de programação normalmente já tem funções prontas para boa parte dos problemas apresentados aqui. \n",
    "\n",
    "Use esse caderno como consulta para corrigir as suas soluções. Evite usar o caminho da cópia se quer realmente aprender os conceitos :-)"
   ]
  },
  {
   "cell_type": "markdown",
   "metadata": {},
   "source": [
    "## Pilhas"
   ]
  },
  {
   "cell_type": "markdown",
   "metadata": {},
   "source": [
    "** Ex 1: Implemente uma pilha que armazenará 3 notas **"
   ]
  },
  {
   "cell_type": "code",
   "execution_count": null,
   "metadata": {
    "collapsed": true
   },
   "outputs": [],
   "source": [
    "pilha = [10,4,8]"
   ]
  },
  {
   "cell_type": "markdown",
   "metadata": {},
   "source": [
    "** Ex 2: Agora crie a pilha a partir de 3 valores digitados pelo usuário. Que operação (pop, push) você irá usar? **"
   ]
  },
  {
   "cell_type": "code",
   "execution_count": null,
   "metadata": {},
   "outputs": [],
   "source": [
    "pilha = []\n",
    "for i in range(3):\n",
    "    pilha.append(int(input(\"Digite uma nota: \")))\n",
    "    \n",
    "print(pilha)"
   ]
  },
  {
   "cell_type": "markdown",
   "metadata": {},
   "source": [
    "** Ex 3: Faça o cálculo da média das 3 notas armazenadas. Você deve usar a operação de saída da pilha (pop) para retirar cada nota da pilha. **"
   ]
  },
  {
   "cell_type": "code",
   "execution_count": null,
   "metadata": {},
   "outputs": [],
   "source": [
    "nota1 = int(input(\"Digite uma nota: \"))\n",
    "nota2 = int(input(\"Digite uma nota: \"))\n",
    "nota3 = int(input(\"Digite uma nota: \"))\n",
    "pilha = [nota1, nota2, nota3]    \n",
    "    \n",
    "soma = 0\n",
    "for i in range(3):\n",
    "    soma +=pilha.pop()\n",
    "media = soma/3\n",
    "    \n",
    "print(\"A média é: \", media)"
   ]
  },
  {
   "cell_type": "markdown",
   "metadata": {},
   "source": [
    "** Ex 4: O seu desafio é alterar o código do exercício anterior para usar o mínimo possível de variáveis. **"
   ]
  },
  {
   "cell_type": "code",
   "execution_count": null,
   "metadata": {},
   "outputs": [],
   "source": [
    "pilha = []\n",
    "for i in range(3):\n",
    "    pilha.append(int(input(\"Digite uma nota: \")))\n",
    "\n",
    "print(\"A média é: \", (pilha[0]+pilha[1]+pilha[2])/3)"
   ]
  },
  {
   "cell_type": "markdown",
   "metadata": {},
   "source": [
    "** Ex 5: Escreva um programa que imprima seu nome de maneira reversa. Use pilhas na sua implementação **"
   ]
  },
  {
   "cell_type": "code",
   "execution_count": null,
   "metadata": {},
   "outputs": [],
   "source": [
    "nome = input(\"Qual é o seu nome? \")\n",
    "pilha = []\n",
    "for letra in nome:\n",
    "    pilha.append(letra)\n",
    "invertido = \"\"\n",
    "for i in range(len(pilha)):\n",
    "    invertido += pilha.pop()\n",
    "    \n",
    "print(invertido)"
   ]
  },
  {
   "cell_type": "markdown",
   "metadata": {},
   "source": [
    "** Ex 6 (Adaptado de [Sedgewick - Algorithms, 4th Edition](https://algs4.cs.princeton.edu/home/)): Uma letra significa push e um asterisco significa pop na sequência seguinte. Dê a sequência de valores devolvidos pelas operações pop quando esta seqüência de operações é realizada em uma pilha LIFO inicialmente vazia.**\n",
    "\n",
    " E U V \\* O \\* U P \\* A S S\\* A \\* \\* \\* R \\* \\* "
   ]
  },
  {
   "cell_type": "markdown",
   "metadata": {},
   "source": [
    "V O P S A S A R U\n"
   ]
  },
  {
   "cell_type": "code",
   "execution_count": null,
   "metadata": {},
   "outputs": [],
   "source": [
    "texto = \"E U V * O * U P * A S S* A * * * R * *\"\n",
    "pilha = []\n",
    "for l in texto:\n",
    "    if l==\" \":\n",
    "        continue\n",
    "    elif l==\"*\":\n",
    "        print(pilha.pop())\n",
    "    else:\n",
    "        pilha.append(l)"
   ]
  },
  {
   "cell_type": "markdown",
   "metadata": {},
   "source": [
    "**Ex 7: Considerando o código abaixo, implemente as operações de push e pop para que a pilha inicial seja transformada na pilha \"6 7 1 9 3\", onde 3 representa o topo da pilha**"
   ]
  },
  {
   "cell_type": "code",
   "execution_count": null,
   "metadata": {},
   "outputs": [],
   "source": [
    "pilha = [6,7,1,8,2]\n",
    "print(\"Pilha Inicial:\", pilha)\n",
    "#implemente a partir daqui\n",
    "pilha.pop()\n",
    "pilha.pop()\n",
    "pilha.append(9)\n",
    "pilha.append(3)\n",
    "# a saida deve ser 6 7 1 9 3\n",
    "print(\"Pilha Final:\", pilha)"
   ]
  },
  {
   "cell_type": "markdown",
   "metadata": {},
   "source": [
    "** Ex 8 (Adaptado de Concurso da Petrobras): Considere que:**\n",
    "\n",
    "- P1 é uma pilha com 5 posições, v(1) a v(5), na qual v(5) é o topo. \n",
    "- De v(1) até v(5), a pilha P1 está preenchida, respectivamente, com os símbolos Q5, Q3, Q1, Q4, Q2. \n",
    "- Há ainda mais duas pilhas, inicialmente vazias, P2 e P3, com o mesmo tamanho.\n",
    "\n",
    "Implemente um código em Python de modo que a pilha P1 esteja preenchida de v(5) até v(1), respectivamente, com os símbolos Q1, Q2, Q3, Q4, Q5"
   ]
  },
  {
   "cell_type": "code",
   "execution_count": null,
   "metadata": {},
   "outputs": [],
   "source": [
    "p1 = [\"Q5\",\"Q3\",\"Q1\",\"Q4\",\"Q2\"]\n",
    "p2 = []\n",
    "p3 = []\n",
    "\n",
    "#implemente sua solução aqui\n",
    "p2.append(p1.pop())\n",
    "p3.append(p1.pop())\n",
    "p2.append(p1.pop())\n",
    "p2.append(p1.pop())\n",
    "p1.append(p3.pop())\n",
    "p1.append(p2.pop())\n",
    "p3.append(p2.pop())\n",
    "p1.append(p2.pop())\n",
    "p1.append(p3.pop())\n",
    "#deve imprimir Q5, Q4, Q3, Q2, Q1\n",
    "print(p1)"
   ]
  },
  {
   "cell_type": "markdown",
   "metadata": {},
   "source": [
    "** DESAFIO: Implemente o problema da Torre de Hanoi usando pilhas em Python. O conceito que foi dado nessa aula é suficiente para resolver o problema. Então, esforce-se primeiro para resolver o problema sem consultas externas. Lembre-se de desafiar a si próprio para ajudar na criação de novas conexões neurais e, com isso, aumentar o seu poder de raciocínio. ** \n",
    "\n",
    "Sugestão: estabeleça um tempo para si próprio para descobrir como resolver o problema em Python. Caso não consiga nesse tempo, aí sim pode buscar soluções já implementadas. Digamos que menos de 10 minutos é desistir fácil :-)"
   ]
  },
  {
   "cell_type": "code",
   "execution_count": null,
   "metadata": {},
   "outputs": [],
   "source": [
    "p1 = [5,4,3,2,1]\n",
    "p2 = []\n",
    "p3 = []\n",
    "p3.append(p1.pop())\n",
    "p2.append(p1.pop())\n",
    "p2.append(p3.pop())\n",
    "p3.append(p1.pop())\n",
    "p1.append(p2.pop())\n",
    "p3.append(p2.pop())\n",
    "p3.append(p1.pop())\n",
    "p2.append(p1.pop())\n",
    "p2.append(p3.pop())\n",
    "p1.append(p3.pop())\n",
    "p1.append(p2.pop())\n",
    "p2.append(p3.pop())\n",
    "p3.append(p1.pop())\n",
    "p2.append(p1.pop())\n",
    "p2.append(p3.pop())\n",
    "p3.append(p1.pop())\n",
    "p1.append(p2.pop())\n",
    "p3.append(p2.pop())\n",
    "p3.append(p1.pop())\n",
    "p1.append(p2.pop())\n",
    "p2.append(p3.pop())\n",
    "p1.append(p3.pop())\n",
    "p1.append(p2.pop())\n",
    "p3.append(p2.pop())\n",
    "p3.append(p1.pop())\n",
    "p2.append(p1.pop())\n",
    "p2.append(p3.pop())\n",
    "p3.append(p1.pop())\n",
    "p1.append(p2.pop())\n",
    "p3.append(p2.pop())\n",
    "p3.append(p1.pop())\n",
    "\n",
    "print(p1)\n",
    "print(p2)\n",
    "print(p3)"
   ]
  },
  {
   "cell_type": "markdown",
   "metadata": {},
   "source": [
    "## Filas"
   ]
  },
  {
   "cell_type": "markdown",
   "metadata": {},
   "source": [
    "**Ex 1: Crie uma fila e faça a inserção de 3 elementos.** "
   ]
  },
  {
   "cell_type": "code",
   "execution_count": null,
   "metadata": {
    "collapsed": true
   },
   "outputs": [],
   "source": [
    "import queue\n",
    "\n",
    "fila = queue.Queue()\n",
    "fila.put(\"A\")\n",
    "fila.put(\"B\")\n",
    "fila.put(\"C\")"
   ]
  },
  {
   "cell_type": "markdown",
   "metadata": {},
   "source": [
    "**Ex 2: Crie uma fila, faça a inserção de 3 elementos. Depois implemente a saída de cada elemento da fila, imprimindo o nome do elemento que saiu.** "
   ]
  },
  {
   "cell_type": "code",
   "execution_count": null,
   "metadata": {},
   "outputs": [],
   "source": [
    "import queue\n",
    "\n",
    "fila = queue.Queue()\n",
    "fila.put(\"A\")\n",
    "fila.put(\"B\")\n",
    "fila.put(\"C\")\n",
    "\n",
    "for i in range(fila.qsize()):\n",
    "    print(fila.get())"
   ]
  },
  {
   "cell_type": "markdown",
   "metadata": {},
   "source": [
    "**Ex 3: Crie uma fila a partir da digitação de 3 nomes digitados pelo usuário.**"
   ]
  },
  {
   "cell_type": "code",
   "execution_count": null,
   "metadata": {},
   "outputs": [],
   "source": [
    "import queue\n",
    "tamanho = 3\n",
    "fila = queue.Queue(maxsize=tamanho)\n",
    "for i in range(tamanho):\n",
    "    fila.put(input(\"Digite um nome: \"))"
   ]
  },
  {
   "cell_type": "markdown",
   "metadata": {},
   "source": [
    "** Ex 4: Considere que você está implementando um sistema que imprima em um visor o nome das pessoas que serão atendidas em um banco. Durante um período, qualquer pessoa que chegar, será adicionada em uma fila. Após esse período, o atendimento é iniciado e seu sistema deverá imprimir o nome de cada uma, imprimindo o nome e o seu número de atendimento. (O primeiro a ser atendido recebe o número 1, o segundo o número 2 e assim pode diante). ** "
   ]
  },
  {
   "cell_type": "code",
   "execution_count": null,
   "metadata": {},
   "outputs": [],
   "source": [
    "import queue\n",
    "fila = queue.Queue()\n",
    "while True:\n",
    "    op = input(\"Digite o nome de uma pessoa ou x para sair: \")\n",
    "    if op==\"x\":\n",
    "        break\n",
    "    else:\n",
    "        fila.put(op)\n",
    "\n",
    "print(\"Iniciando o atendimento...\")\n",
    "\n",
    "for i in range(fila.qsize()):\n",
    "    print(\"Atendendo pessoa número {}: {}\".format(i+1, fila.get()))\n",
    "    \n",
    "    "
   ]
  },
  {
   "cell_type": "markdown",
   "metadata": {},
   "source": [
    "**Ex 5: Crie uma fila com o máximo de 3 elementos e crie um código para, caso a fila esteja cheia, imprimir uma mensagem \"Fila Cheia\"**."
   ]
  },
  {
   "cell_type": "code",
   "execution_count": null,
   "metadata": {},
   "outputs": [],
   "source": [
    "import queue\n",
    "fila = queue.Queue(maxsize=3)\n",
    "while True:\n",
    "    op = input(\"Digite o nome de uma pessoa ou x para sair: \")\n",
    "    if op==\"x\":\n",
    "        break\n",
    "    else:\n",
    "        if fila.full():\n",
    "            print(\"Fila cheia\")\n",
    "            break\n",
    "        else:\n",
    "            fila.put(op)"
   ]
  },
  {
   "cell_type": "markdown",
   "metadata": {},
   "source": [
    "**Ex 6: Crie uma fila com o máximo de 3 elementos e crie um código para que, caso a fila esteja cheia, remova um elemento da fila para abrir vaga na fila para mais um elemento. ** "
   ]
  },
  {
   "cell_type": "code",
   "execution_count": null,
   "metadata": {},
   "outputs": [],
   "source": [
    "import queue\n",
    "fila = queue.Queue(maxsize=3)\n",
    "while True:\n",
    "    op = input(\"Digite o nome de uma pessoa ou x para sair: \")\n",
    "    if op==\"x\":\n",
    "        break\n",
    "    else:\n",
    "        if fila.full():\n",
    "            print(\"Fila cheia. Vamos atender a primeira pessoa...\", fila.get())\n",
    "            fila.put(op)\n",
    "        else:\n",
    "            fila.put(op)"
   ]
  },
  {
   "cell_type": "markdown",
   "metadata": {},
   "source": [
    "** Ex 7: Considere que você está implementando um servidor que vai gerenciar requisições de serviços de diversas aplicações. Inicialmente, cada aplicação poderá fazer várias requisições ao servidor e o seu sistema atenderá uma por vez por ordem de chegada. Ocorre que, ao criar a lista inicial de requisições, o programdor anterior criou uma pilha e não uma fila. Dessa forma, você precisará continuará implementar o sistema, transportando (usando código) as requisições da pilha inicial para a nova fila, certificando-se de respeitar a ordem de uma fila (FIFO)**"
   ]
  },
  {
   "cell_type": "code",
   "execution_count": null,
   "metadata": {},
   "outputs": [],
   "source": [
    "# crie sua fila aqui. Não esqueça de importar o módulo e iniciar uma fila vazia.\n",
    "import queue\n",
    "fila = queue.Queue()\n",
    "\n",
    "#pilha inicial de serviços criados pelo outro programador\n",
    "pilhaInicial = [\"app1\", \"app2\",\"app3\",\"app1\", \"app4\", \"app3\", \"app2\",\"app5\"]\n",
    "\n",
    "# a partir daqui, implemente o código que irá transportar as requisições da pilha anterior para a fila\n",
    "# que você irá criar. Cuidado que na Pilha a ordem está LIFO mas na fila será FIFO. \n",
    "# Logo, o primeiro a ser retirado da pilha será o último da nova fila\n",
    "pilhaInvertida = []\n",
    "for i in range(len(pilhaInicial)):\n",
    "    pilhaInvertida.append(pilhaInicial.pop())\n",
    "print(pilhaInvertida)\n",
    "\n",
    "for i in range(len(pilhaInvertida)):\n",
    "    fila.put(pilhaInvertida.pop())"
   ]
  },
  {
   "cell_type": "markdown",
   "metadata": {},
   "source": [
    "## Listas"
   ]
  },
  {
   "cell_type": "markdown",
   "metadata": {},
   "source": [
    "** Ex 1: Crie uma lista com 4 nomes. Sua solução pode usar a inicialização da variável ou com as funções append ou insert**"
   ]
  },
  {
   "cell_type": "code",
   "execution_count": null,
   "metadata": {
    "collapsed": true
   },
   "outputs": [],
   "source": [
    "lista = [\"Pessoa A\", \"Pessoa B\", \"Pessoa C\", \"Pessoa D\"]"
   ]
  },
  {
   "cell_type": "markdown",
   "metadata": {},
   "source": [
    "** Ex 2: Altere o exemplo anterior para que, ao invés de valores fixos, o usuário digite 4 nomes. Use 4 instruções para leitura dos valores**"
   ]
  },
  {
   "cell_type": "code",
   "execution_count": null,
   "metadata": {},
   "outputs": [],
   "source": [
    "nome1 = input(\"Digite um nome: \")\n",
    "nome2 = input(\"Digite um nome: \")\n",
    "nome3 = input(\"Digite um nome: \")\n",
    "nome4 = input(\"Digite um nome: \")\n",
    "\n",
    "lista = [nome1, nome2, nome3, nome4]"
   ]
  },
  {
   "cell_type": "markdown",
   "metadata": {},
   "source": [
    "** Ex 3: A partir da lista criada no exercício anterior, informe ao usuário a lista ordenada dos valores**"
   ]
  },
  {
   "cell_type": "code",
   "execution_count": null,
   "metadata": {},
   "outputs": [],
   "source": [
    "nome1 = input(\"Digite um nome: \")\n",
    "nome2 = input(\"Digite um nome: \")\n",
    "nome3 = input(\"Digite um nome: \")\n",
    "nome4 = input(\"Digite um nome: \")\n",
    "\n",
    "lista = [nome1, nome2, nome3, nome4]\n",
    "\n",
    "lista.sort()\n",
    "print(lista)"
   ]
  },
  {
   "cell_type": "markdown",
   "metadata": {},
   "source": [
    "** Ex 4: Altere a solução do exercício 2 para que seja usada uma estrutura de repetição para ler os nomes digitados pelo usuário. **"
   ]
  },
  {
   "cell_type": "code",
   "execution_count": null,
   "metadata": {},
   "outputs": [],
   "source": [
    "lista = []\n",
    "for i in range(4):\n",
    "    lista.append(input(\"Digite um nome: \"))\n",
    "\n",
    "lista.sort()\n",
    "print(lista)"
   ]
  },
  {
   "cell_type": "markdown",
   "metadata": {},
   "source": [
    "** Ex 5: Mude a solução do exercício 5, considerando os novos requisitos**\n",
    "\n",
    "- será perguntado ao usuário quantos nomes deseja digitar (x)\n",
    "- o sistema perguntará x vezes para que o usuário digite um nome\n",
    "- quando o usuário digitar o último nome, o sistema deve encerrar e imprimir a lista ordenada de valores\n",
    "\n"
   ]
  },
  {
   "cell_type": "code",
   "execution_count": null,
   "metadata": {},
   "outputs": [],
   "source": [
    "lista = []\n",
    "qt = int(input(\"Quantos números deseja digitar? \"))\n",
    "for i in range(qt):\n",
    "    lista.append(input(\"Digite um nome: \"))\n",
    "\n",
    "lista.sort()\n",
    "print(lista)"
   ]
  },
  {
   "cell_type": "markdown",
   "metadata": {},
   "source": [
    "** Ex 6: A partir da lista abaixo, continue a implementação para que seja perguntado ao usuário em qual posição deseja inserir o novo valor. Após o usuário informar a posição, deverá ser pedido que digite um novo nome. Seu sistema deverá inserir esse novo nome na posição informada pelo usuário.**"
   ]
  },
  {
   "cell_type": "code",
   "execution_count": null,
   "metadata": {},
   "outputs": [],
   "source": [
    "# implemente sua solução aqui\n",
    "linguagens = [\"Python\", \"Java\", \"Lua\"]\n",
    "pos = int(input(\"Em que posição? \"))\n",
    "nome = input(\"Qual o nome da linguagem? \")\n",
    "\n",
    "linguagens.insert(pos, nome)\n",
    "print(linguagens)"
   ]
  },
  {
   "cell_type": "markdown",
   "metadata": {},
   "source": [
    "** Ex 7: A partir da lista abaixo, implemente o mesmo exemplo do exercício anterior, dessa vez pedindo ao usuário que informe de qual posição será excluído o registro e implemente a remoção do valor da posição informada pelo usuário. **"
   ]
  },
  {
   "cell_type": "code",
   "execution_count": null,
   "metadata": {},
   "outputs": [],
   "source": [
    "# implemente sua solução aqui\n",
    "linguagens = [\"Python\", \"Java\", \"Lua\"]\n",
    "\n",
    "pos = int(input(\"Em que posição? \"))\n",
    "\n",
    "for i in range(len(linguagens)):\n",
    "    if i==pos:\n",
    "        linguagens.remove(linguagens[i])\n",
    "        break\n",
    "print(linguagens)"
   ]
  },
  {
   "cell_type": "markdown",
   "metadata": {},
   "source": [
    "** Ex 8: Implemente um sistema que pergunte ao usuário qual opção gostaria de usar para remoção: por posição ou por valor informado. De acordo com a opção escolhida, implemente a remoção. Exemplo: se o usuário escolheu remover por posição e informou a posição 2, o sistema deverá remover o valor Lua. Se escolher remover por valor e informou Python, então o sistema deverá remover o item Python da lista.**"
   ]
  },
  {
   "cell_type": "code",
   "execution_count": null,
   "metadata": {},
   "outputs": [],
   "source": [
    "# implemente sua solução aqui\n",
    "linguagens = [\"Python\", \"Java\", \"Lua\"]\n",
    "\n",
    "posicao = None\n",
    "nome = None\n",
    "\n",
    "op = int(input(\"Remover por 1) Posição; 2) Valor \"))\n",
    "if op==1:\n",
    "    posicao = int(input(\"Qual posição? \"))\n",
    "elif op==2:\n",
    "    nome = input(\"Qual nome? \")\n",
    "else:\n",
    "    print(\"Opção inválida\")\n",
    "\n",
    "if nome!=None:\n",
    "    linguagens.remove(nome)\n",
    "elif posicao!=None:\n",
    "    for i in range(len(linguagens)):\n",
    "        if i==pos:\n",
    "            linguagens.remove(linguagens[i])\n",
    "            break\n",
    "\n",
    "print(linguagens)"
   ]
  },
  {
   "cell_type": "markdown",
   "metadata": {},
   "source": [
    "** Ex 9: Dada a lista abaixo, implemente uma solução que pergunte ao usuário qual valor deseja localizar. O seu sistema deverá informar quantas vezes o valor procurado foi achado na lista. Note que, caso o valor não esteja na lista, seu sistema deverá informar uma mensagem clara, sem ser a mensagem de erro do Python. Para isso você usará uma estrutura de try-except mostrada na parte de explicações do assunto neste caderno**"
   ]
  },
  {
   "cell_type": "code",
   "execution_count": null,
   "metadata": {},
   "outputs": [],
   "source": [
    "# implemente sua solução aqui\n",
    "linguagens = [\"Python\", \"Java\", \"Lua\", \"Java\", \"C\", \"Python\", \"JS\"]\n",
    "nome = input(\"Qual linguagem? \")\n",
    "qt = 0\n",
    "for l in linguagens:\n",
    "    if l==nome:\n",
    "        qt+=1\n",
    "print(\"A linguagem {} foi encontrada {} vezes na lista\".format(nome, qt))"
   ]
  },
  {
   "cell_type": "code",
   "execution_count": null,
   "metadata": {},
   "outputs": [],
   "source": [
    "# implemente sua solução aqui\n",
    "linguagens = [\"Python\", \"Java\", \"Lua\"]\n",
    "nome = input(\"Qual linguagem? \")\n",
    "print(linguagens.count(nome))\n"
   ]
  },
  {
   "cell_type": "markdown",
   "metadata": {},
   "source": [
    "** Ex 10: Crie um sistema interativo que forneça as seguintes opções ao usuário:**\n",
    "\n",
    "- inserir valores em uma lista\n",
    "- remover valor de uma lista\n",
    "- ordenar valores de uma lista\n",
    "- localização valores de uma lista\n",
    "- sair"
   ]
  },
  {
   "cell_type": "code",
   "execution_count": null,
   "metadata": {},
   "outputs": [],
   "source": [
    "lista = []\n",
    "\n",
    "while True:\n",
    "    op = int(input(\"Digite 1) inserir; 2) remover; 3) ordenar; 4) buscar; 5) sair\"))\n",
    "    if op==5:\n",
    "        break\n",
    "    elif op==1:\n",
    "        pos = int(input(\"Posição? \"))\n",
    "        valor = input(\"Valor? \")\n",
    "        lista.insert(pos, valor)\n",
    "    elif op==2:\n",
    "        valor = input(\"Valor? \")\n",
    "        lista.remove(valor)\n",
    "    elif op==3:\n",
    "        lista.sort()\n",
    "        print(lista)\n",
    "    elif op==4:\n",
    "        valor = input(\"Valor? \")\n",
    "        print(lista.index(valor))\n",
    "    "
   ]
  }
 ],
 "metadata": {
  "kernelspec": {
   "display_name": "Python 3",
   "language": "python",
   "name": "python3"
  },
  "language_info": {
   "codemirror_mode": {
    "name": "ipython",
    "version": 3
   },
   "file_extension": ".py",
   "mimetype": "text/x-python",
   "name": "python",
   "nbconvert_exporter": "python",
   "pygments_lexer": "ipython3",
   "version": "3.6.1"
  }
 },
 "nbformat": 4,
 "nbformat_minor": 2
}
