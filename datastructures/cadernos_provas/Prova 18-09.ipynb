{
 "cells": [
  {
   "cell_type": "markdown",
   "metadata": {},
   "source": [
    "# Prova 18/09 - Correção"
   ]
  },
  {
   "cell_type": "markdown",
   "metadata": {},
   "source": [
    "As soluções apresentadas aqui mostram uma forma de resolver o problema. Fique a vontade para implementar formas alternativas"
   ]
  },
  {
   "cell_type": "markdown",
   "metadata": {},
   "source": [
    "## Questões"
   ]
  },
  {
   "cell_type": "markdown",
   "metadata": {},
   "source": [
    "Q1) Considerando o vetor-exemplo na figura abaixo, que contém as vendas de cada vendedor, implemente um código que calcule e imprima a comissão de cada vendedor, de acordo com as seguintes regras:\n",
    "\n",
    "``` vendas = [800,4000,3200,1000,5000,5200,2340] \n",
    "```\n",
    "\n",
    "- Vendas até 1000 (inclusive): comissão de 1%\n",
    "- Vendas de 1000 até 5000 (inclusive): comissão de 5%\n",
    "- Vendas acima de 5000: comissão de 10%\n",
    "\n",
    "Obs: você deve usar estruturas de decisão E repetição. Caso contrário, sua solução não será considerada.\n",
    "\n",
    "Envie aqui o arquivo com extensão .py ou arquivo .ipynb, se usar o Jupyter Notebook. Adicionalmente, pode enviar sua resposta em Java, C ou PHP."
   ]
  },
  {
   "cell_type": "code",
   "execution_count": 2,
   "metadata": {},
   "outputs": [
    {
     "name": "stdout",
     "output_type": "stream",
     "text": [
      "Comissão:  8.0\n",
      "Comissão:  200.0\n",
      "Comissão:  160.0\n",
      "Comissão:  10.0\n",
      "Comissão:  250.0\n",
      "Comissão:  520.0\n",
      "Comissão:  117.0\n"
     ]
    }
   ],
   "source": [
    "vendas = [800,4000,3200,1000,5000,5200,2340]\n",
    "\n",
    "for v in vendas:\n",
    "    if v<=1000:\n",
    "        print(\"Comissão: \", v*0.01)\n",
    "    elif v>1000 and v<=5000:\n",
    "        print(\"Comissão: \", v*0.05)\n",
    "    else:\n",
    "        print(\"Comissão: \", v*0.10)"
   ]
  },
  {
   "cell_type": "markdown",
   "metadata": {},
   "source": [
    "Q2) A matriz-exemplo mostrada na figura abaixo contém 2 notas de provas e uma nota de trabalho (nessa ordem), para 4 alunos da turma. Crie um sistema que calcule a média final do aluno, de acordo com as seguintes regras:\n",
    "\n",
    "- Provas: peso 4\n",
    "- Trabalho: peso 2\n",
    "- O cálculo de média ponderada é dada pela expressão: (valor1*peso1 +valor2*peso2...+valorN*pesoN)/soma-dos-pesos\n",
    "\n",
    "```\n",
    "notas = [[4,5,8],[8,5,5],[2,1,7],[8,10,8]]\n",
    "```\n",
    "\n",
    "Obs: você deve usar estruturas de repetição. Caso contrário, sua solução não será considerada.\n",
    "\n",
    "Envie aqui o arquivo com extensão .py ou arquivo .ipynb, se usar o Jupyter Notebook. Adicionalmente, pode enviar sua resposta em Java, C ou PHP."
   ]
  },
  {
   "cell_type": "code",
   "execution_count": 4,
   "metadata": {},
   "outputs": [
    {
     "name": "stdout",
     "output_type": "stream",
     "text": [
      "Média:  5.2\n",
      "Média:  6.2\n",
      "Média:  2.6\n",
      "Média:  8.8\n"
     ]
    }
   ],
   "source": [
    "notas = [[4,5,8],[8,5,5],[2,1,7],[8,10,8]]\n",
    "\n",
    "for aluno in notas:\n",
    "    soma = 0\n",
    "    for n in range(len(aluno)):\n",
    "        if n in (0,1):\n",
    "            soma+=aluno[n]*4\n",
    "        else:\n",
    "            soma+=aluno[n]*2\n",
    "    print(\"Média: \", soma/10)"
   ]
  },
  {
   "cell_type": "markdown",
   "metadata": {},
   "source": [
    "Q3) Crie um programa que gerencie os acessos a páginas WEB usando uma pilha para armazenar valores. Seu programa deverá ter duas funções: 1) Armazenar um novo acesso na pilha; 2) Retirar a última página acessada da pilha (semelhante ao botão Voltar do navegador). \n",
    "\n",
    "Para testar seu programa, pode usar o seguinte vetor abaixo como entrada de dados:\n",
    "\n",
    "```\n",
    "paginas = [\"home.php\", \"cadastro.php\", \"buscar.php\", \"apagar.php\", \"listar.php\"]\n",
    "```\n",
    "\n",
    "Envie aqui o arquivo com extensão .py ou arquivo .ipynb, se usar o Jupyter Notebook. Adicionalmente, pode enviar sua resposta em Java, C ou PHP."
   ]
  },
  {
   "cell_type": "code",
   "execution_count": 12,
   "metadata": {},
   "outputs": [
    {
     "name": "stdout",
     "output_type": "stream",
     "text": [
      "****** Acessando...\n",
      "O histórico atual tem: ['home.php']\n",
      "O histórico atual tem: ['home.php', 'cadastro.php']\n",
      "O histórico atual tem: ['home.php', 'cadastro.php', 'buscar.php']\n",
      "O histórico atual tem: ['home.php', 'cadastro.php', 'buscar.php', 'apagar.php']\n",
      "O histórico atual tem: ['home.php', 'cadastro.php', 'buscar.php', 'apagar.php', 'listar.php']\n",
      "\n",
      "****** Simulando o voltar do navegador...\n",
      "O histórico atual tem: ['home.php', 'cadastro.php', 'buscar.php', 'apagar.php']\n",
      "O histórico atual tem: ['home.php', 'cadastro.php', 'buscar.php']\n",
      "O histórico atual tem: ['home.php', 'cadastro.php']\n",
      "O histórico atual tem: ['home.php']\n",
      "O histórico atual tem: []\n"
     ]
    }
   ],
   "source": [
    "historico = [] \n",
    "\n",
    "def acessar(pagina):\n",
    "    historico.append(pagina)\n",
    "    \n",
    "def voltar():\n",
    "    historico.pop()\n",
    "    \n",
    "paginas = [\"home.php\", \"cadastro.php\", \"buscar.php\", \"apagar.php\", \"listar.php\"]\n",
    "\n",
    "print(\"****** Acessando...\")\n",
    "\n",
    "for p in paginas:\n",
    "    acessar(p)\n",
    "    print(\"O histórico atual tem:\",historico)\n",
    "    \n",
    "print(\"\\n****** Simulando o voltar do navegador...\")\n",
    "    \n",
    "for p in paginas:\n",
    "    voltar()\n",
    "    print(\"O histórico atual tem:\",historico)"
   ]
  },
  {
   "cell_type": "markdown",
   "metadata": {},
   "source": [
    "Q4) Crie um sistema que gere 30 números aleatórios e crie 3 filas:\n",
    "\n",
    "- 1a fila: armazene todos os múltiplos de 3\n",
    "- 2a fila: armazene todos os múltiplos de 5\n",
    "- 3a fila: os demais\n",
    "\n",
    "Em seguida, seu código deverá retirar e imprimir cada elemento da 1a fila. Quando acabar a 1a fila faz o mesmo para a 2a e assim por diante.\n",
    "\n",
    "O código-exemplo dado, na célula abaixo, mostra como gerar 10 números aleatórios e gravar no vetor."
   ]
  },
  {
   "cell_type": "code",
   "execution_count": 18,
   "metadata": {},
   "outputs": [
    {
     "name": "stdout",
     "output_type": "stream",
     "text": [
      "[283, 548, 394, 436, 490, 237, 421, 459, 517, 385, 592, 238, 692, 306, 812, 645, 892, 985, 798, 195, 712, 155, 913, 312, 228, 730, 993, 995, 656, 412]\n",
      "\n",
      "Quantidade por fila:\n",
      "Fila 1: 9\n",
      "Fila 2: 6\n",
      "Fila 3: 15\n"
     ]
    }
   ],
   "source": [
    "import random\n",
    "\n",
    "vetor = random.sample(range(1000),k=30)\n",
    "print(vetor)\n",
    "\n",
    "import queue\n",
    "fila1 = queue.Queue()\n",
    "fila2 = queue.Queue()\n",
    "fila3 = queue.Queue()\n",
    "\n",
    "for v in vetor:\n",
    "    if v%3==0:\n",
    "        fila1.put(v)\n",
    "    elif v%5==0:\n",
    "        fila2.put(v)\n",
    "    else:\n",
    "        fila3.put(v)\n",
    "\n",
    "print(\"\\nQuantidade por fila:\")\n",
    "print(\"Fila 1:\",fila1.qsize())    \n",
    "print(\"Fila 2:\",fila2.qsize())   \n",
    "print(\"Fila 3:\",fila3.qsize())   \n",
    "\n"
   ]
  }
 ],
 "metadata": {
  "kernelspec": {
   "display_name": "Python 3",
   "language": "python",
   "name": "python3"
  },
  "language_info": {
   "codemirror_mode": {
    "name": "ipython",
    "version": 3
   },
   "file_extension": ".py",
   "mimetype": "text/x-python",
   "name": "python",
   "nbconvert_exporter": "python",
   "pygments_lexer": "ipython3",
   "version": "3.6.5"
  }
 },
 "nbformat": 4,
 "nbformat_minor": 2
}
