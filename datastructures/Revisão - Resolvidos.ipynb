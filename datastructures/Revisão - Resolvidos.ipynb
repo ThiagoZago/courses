{
 "cells": [
  {
   "cell_type": "code",
   "execution_count": null,
   "metadata": {
    "collapsed": true
   },
   "outputs": [],
   "source": []
  },
  {
   "cell_type": "markdown",
   "metadata": {},
   "source": [
    "## Revisão"
   ]
  },
  {
   "cell_type": "markdown",
   "metadata": {},
   "source": [
    "**Assuntos:**\n",
    "\n",
    "- Tipos\n",
    "- Vetores\n",
    "- Matrizes\n",
    "- Pilha\n",
    "- Fila"
   ]
  },
  {
   "cell_type": "markdown",
   "metadata": {},
   "source": [
    "## Questões"
   ]
  },
  {
   "cell_type": "markdown",
   "metadata": {},
   "source": [
    "**1) Faça um programa que receba dois números e imprima a soma deles. Obs: lembre-se que a função input() retorna valores do tipo String.**"
   ]
  },
  {
   "cell_type": "code",
   "execution_count": null,
   "metadata": {},
   "outputs": [],
   "source": [
    "num1 = int(input(\"Digite um número \"))\n",
    "num2 = int(input(\"Digite um número \"))\n",
    "print(num1+num2)"
   ]
  },
  {
   "cell_type": "markdown",
   "metadata": {},
   "source": [
    "**2) Crie um programa que imprima a tabuada de 7. Seu programa deve imprimir, para cada número, a seguinte mensagem: 7 x n = p, onde n varia entre 1 e 10 e p é o resultado da multiplicação de n por 7. **"
   ]
  },
  {
   "cell_type": "code",
   "execution_count": null,
   "metadata": {},
   "outputs": [],
   "source": [
    "for i in range(1,11):\n",
    "    res = 7*i\n",
    "    print(\"7 x \",i,\"=\",res)"
   ]
  },
  {
   "cell_type": "code",
   "execution_count": null,
   "metadata": {},
   "outputs": [],
   "source": [
    "i = 1\n",
    "while i<11:\n",
    "    res = 7*i\n",
    "    print(\"7 x \",i,\"=\",res)\n",
    "    i = i + 1"
   ]
  },
  {
   "cell_type": "markdown",
   "metadata": {},
   "source": [
    "**3) Crie um programa que, dados 5 números digitados pelo usuário, imprima a média deles.**"
   ]
  },
  {
   "cell_type": "code",
   "execution_count": null,
   "metadata": {},
   "outputs": [],
   "source": [
    "n1 = int(input(\"Digite um número \"))\n",
    "n2 = int(input(\"Digite um número \"))\n",
    "n3 = int(input(\"Digite um número \"))\n",
    "n4 = int(input(\"Digite um número \"))\n",
    "n5 = int(input(\"Digite um número \"))\n",
    "\n",
    "media = (n1+n2+n3+n4+n5)/5\n",
    "print(media)"
   ]
  },
  {
   "cell_type": "code",
   "execution_count": null,
   "metadata": {},
   "outputs": [],
   "source": [
    "soma = 0\n",
    "cont = 5\n",
    "for i in range(cont):\n",
    "    num = int(input(\"Digite \"))\n",
    "    soma+=num\n",
    "media = soma/cont\n",
    "print(media)"
   ]
  },
  {
   "cell_type": "code",
   "execution_count": 5,
   "metadata": {},
   "outputs": [
    {
     "name": "stdout",
     "output_type": "stream",
     "text": [
      "Digite o 1 número: 9\n",
      "Digite o 2 número: 8\n",
      "Digite o 3 número: 7\n",
      "008.00\n"
     ]
    }
   ],
   "source": [
    "soma = 0\n",
    "cont = 3\n",
    "for i in range(cont):\n",
    "    num = int(input(\"Digite o {} número: \".format(i+1)))\n",
    "    soma+=num\n",
    "media = soma/cont\n",
    "print('{:06.2f}'.format(media))"
   ]
  },
  {
   "cell_type": "code",
   "execution_count": null,
   "metadata": {},
   "outputs": [],
   "source": [
    "soma = 0\n",
    "cont = 5\n",
    "numeros  = []\n",
    "for i in range(cont):\n",
    "    numeros.append(int(input(\"Digite: \")))\n",
    "    \n",
    "print(numeros)\n",
    "\n",
    "print(sum(numeros)/len(numeros))"
   ]
  },
  {
   "cell_type": "code",
   "execution_count": null,
   "metadata": {},
   "outputs": [],
   "source": [
    "soma = 0\n",
    "cont = 5\n",
    "numeros  = []\n",
    "for i in range(cont):\n",
    "    numeros.append(int(input(\"Digite: \")))\n",
    "    \n",
    "print(numeros)\n",
    "\n",
    "for n in numeros:\n",
    "    soma+=n\n",
    "print(soma/cont)"
   ]
  },
  {
   "cell_type": "markdown",
   "metadata": {},
   "source": [
    "**4) Dado o vetor abaixo, produza um código que imprima a soma dos valores desse vetor.**"
   ]
  },
  {
   "cell_type": "code",
   "execution_count": null,
   "metadata": {},
   "outputs": [],
   "source": [
    "estoque = [10,5,10,80,60,40]\n",
    "soma = 0\n",
    "for i in estoque:\n",
    "    soma = soma + i\n",
    "print(soma)"
   ]
  },
  {
   "cell_type": "code",
   "execution_count": null,
   "metadata": {},
   "outputs": [],
   "source": [
    "estoque = [10,5,10,80,60,40]\n",
    "print(sum(estoque))"
   ]
  },
  {
   "cell_type": "code",
   "execution_count": null,
   "metadata": {},
   "outputs": [],
   "source": [
    "estoque = [10,5,10,80,60,40]\n",
    "soma = 0\n",
    "cont = len(estoque)\n",
    "for i in range(cont):\n",
    "    soma+=estoque[i]\n",
    "print(soma/cont)"
   ]
  },
  {
   "cell_type": "markdown",
   "metadata": {},
   "source": [
    "**5) Dado o vetor abaixo, crie uma programa que alterará o valor de uma posição x definida pelo usuário.**"
   ]
  },
  {
   "cell_type": "code",
   "execution_count": null,
   "metadata": {},
   "outputs": [],
   "source": [
    "estoque = [10,5,10,80,60,40]\n",
    "valorNovo = int(input(\"Valor novo: \"))\n",
    "pos = int(input(\"Posição: \"))\n",
    "estoque[pos] = valorNovo\n",
    "print(estoque)"
   ]
  },
  {
   "cell_type": "markdown",
   "metadata": {},
   "source": [
    "**5.1) Dado o vetor abaixo, crie um programa que altere o valor de uma posição x definida pelo usuário. Se o usuário escolher uma posição inexistente, seu programa deverá avisar disso.**"
   ]
  },
  {
   "cell_type": "code",
   "execution_count": null,
   "metadata": {},
   "outputs": [],
   "source": [
    "estoque = [10,5,10,80,60,40]\n",
    "valorNovo = int(input(\"Valor novo: \"))\n",
    "pos = int(input(\"Posição: \"))\n",
    "\n",
    "if pos>=len(estoque):\n",
    "    print(\"Posição inexistente\")\n",
    "else:\n",
    "    estoque[pos] = valorNovo\n",
    "    print(estoque)"
   ]
  },
  {
   "cell_type": "code",
   "execution_count": null,
   "metadata": {},
   "outputs": [],
   "source": [
    "estoque = [10,5,10,80,60,40]\n",
    "valorNovo = int(input(\"Valor novo: \"))\n",
    "ultima = len(estoque)-1\n",
    "pos = int(input(\"Posição de 0 a {}: \".format(ultima)))\n",
    "\n",
    "if pos>=len(estoque):\n",
    "    print(\"Posição inexistente\")\n",
    "else:\n",
    "    estoque[pos] = valorNovo\n",
    "    print(estoque)"
   ]
  },
  {
   "cell_type": "markdown",
   "metadata": {},
   "source": [
    "**6) Dado o vetor \"valores\" abaixo, faça um programa que gere um novo vetor apenas com os números ímpares presentes nesse vetor.**"
   ]
  },
  {
   "cell_type": "code",
   "execution_count": 7,
   "metadata": {},
   "outputs": [
    {
     "name": "stdout",
     "output_type": "stream",
     "text": [
      "[9, 733, 499, 993, 55, 107, 719, 739, 225]\n"
     ]
    }
   ],
   "source": [
    "import random\n",
    "\n",
    "valores = random.sample(range(1000), 15)\n",
    "impares = []\n",
    "for v in valores:\n",
    "    if v%2==1:\n",
    "        impares.append(v)\n",
    "print(impares)\n"
   ]
  },
  {
   "cell_type": "markdown",
   "metadata": {},
   "source": [
    "**7) Crie um programa que, dados 5 números digitados pelo usuário, armazene em um vetor e pergunte ao usuário se quer calcular a média ou a soma. Em seguida, de acordo com a opção do usuário, seu programa deverá percorrer o vetor e apresentar o resultado da operação escolhida.**"
   ]
  },
  {
   "cell_type": "code",
   "execution_count": 9,
   "metadata": {},
   "outputs": [
    {
     "name": "stdout",
     "output_type": "stream",
     "text": [
      "Digite um número: 1\n",
      "Digite um número: 3\n",
      "Digite um número: 4\n",
      "Digite um número: 1\n",
      "Digite um número: \n"
     ]
    },
    {
     "ename": "ValueError",
     "evalue": "invalid literal for int() with base 10: ''",
     "output_type": "error",
     "traceback": [
      "\u001b[1;31m---------------------------------------------------------------------------\u001b[0m",
      "\u001b[1;31mValueError\u001b[0m                                Traceback (most recent call last)",
      "\u001b[1;32m<ipython-input-9-3b9f0b2f6363>\u001b[0m in \u001b[0;36m<module>\u001b[1;34m()\u001b[0m\n\u001b[0;32m      1\u001b[0m \u001b[0mnumeros\u001b[0m \u001b[1;33m=\u001b[0m \u001b[1;33m[\u001b[0m\u001b[1;33m]\u001b[0m\u001b[1;33m\u001b[0m\u001b[0m\n\u001b[0;32m      2\u001b[0m \u001b[1;32mfor\u001b[0m \u001b[0mi\u001b[0m \u001b[1;32min\u001b[0m \u001b[0mrange\u001b[0m\u001b[1;33m(\u001b[0m\u001b[1;36m5\u001b[0m\u001b[1;33m)\u001b[0m\u001b[1;33m:\u001b[0m\u001b[1;33m\u001b[0m\u001b[0m\n\u001b[1;32m----> 3\u001b[1;33m     \u001b[0mnumeros\u001b[0m\u001b[1;33m.\u001b[0m\u001b[0mappend\u001b[0m\u001b[1;33m(\u001b[0m\u001b[0mint\u001b[0m\u001b[1;33m(\u001b[0m\u001b[0minput\u001b[0m\u001b[1;33m(\u001b[0m\u001b[1;34m\"Digite um número: \"\u001b[0m\u001b[1;33m)\u001b[0m\u001b[1;33m)\u001b[0m\u001b[1;33m)\u001b[0m\u001b[1;33m\u001b[0m\u001b[0m\n\u001b[0m\u001b[0;32m      4\u001b[0m \u001b[1;33m\u001b[0m\u001b[0m\n\u001b[0;32m      5\u001b[0m \u001b[0msoma\u001b[0m \u001b[1;33m=\u001b[0m \u001b[1;36m0\u001b[0m\u001b[1;33m\u001b[0m\u001b[0m\n",
      "\u001b[1;31mValueError\u001b[0m: invalid literal for int() with base 10: ''"
     ]
    }
   ],
   "source": [
    "numeros = []\n",
    "for i in range(5):\n",
    "    numeros.append(int(input(\"Digite um número: \")))\n",
    "\n",
    "soma = 0\n",
    "for n in numeros:\n",
    "    soma+=n\n",
    "\n",
    "op = int(input(\"Digite 1 para média ou 2 para soma\"))    \n",
    "if op==1:\n",
    "    print(\"Média\",soma/len(numeros))\n",
    "else:\n",
    "    print(\"Soma: \", soma)\n"
   ]
  },
  {
   "cell_type": "markdown",
   "metadata": {},
   "source": [
    "**8) A matriz vendas abaixo representa as vendas de 3 produtos em cada semana do mês. Faça um código que:**\n",
    "\n",
    "- Indique o produto com maior venda no mês"
   ]
  },
  {
   "cell_type": "code",
   "execution_count": null,
   "metadata": {},
   "outputs": [],
   "source": [
    "vendas = [[10,40,20,100],[30,20,10,4000],[12,40,3,19]]\n",
    "prodMaior = 0\n",
    "maiorVenda = 0\n",
    "prod = 1\n",
    "for linha in vendas:\n",
    "    somaMes = 0\n",
    "    for col in linha:\n",
    "        somaMes= somaMes + col\n",
    "    print(\"A soma mensal do prod {} eh {}\".format(prod,somaMes))\n",
    "    if somaMes>maiorVenda:\n",
    "        maiorVenda = somaMes\n",
    "        prodMaior = prod\n",
    "    prod = prod + 1\n",
    "        \n",
    "print(\"O melhor: {}; total {}\".format(prodMaior, maiorVenda))"
   ]
  },
  {
   "cell_type": "markdown",
   "metadata": {},
   "source": [
    "**9) Uma empresa deseja criar um programa que calcule e imprima o seu total em estoque, bem como avisar de produtos com estoque abaixo do mínimo (<4). Além de calcular e imprimir o total dos produtos em estoque, o programa deve indicar quais produtos que estão com estoque abaixo do mínimo. No exemplo abaixo são dadas as quantidades de 6 produtos (produto1 tem 10 unidades, produto2 tem 3, etc), mas poderia ser de mais ou menos produtos. Continue a implementação abaixo desse programa, considerando os requisitos acima. Você deve obrigatoriamente usar estruturas de repetição (para percorrer os itens do vetor de produtos) para que sua solução seja corrigida:.**"
   ]
  },
  {
   "cell_type": "code",
   "execution_count": null,
   "metadata": {
    "collapsed": true
   },
   "outputs": [],
   "source": [
    "produtos = [10,3,4,8,2,1]"
   ]
  },
  {
   "cell_type": "markdown",
   "metadata": {},
   "source": [
    "**10) Crie uma função que, dada uma matriz, calcule a média dos elementos desse matriz. A variável dada abaixo serve apenas como referência sobre como uma matriz é declarada. Apesar da matriz exemplo dada ser quadrada (3 x 3), seu programa deve funcionar para matrizes de quaisquer dimensões. Você deve obrigatoriamente usar estruturas de repetição, para percorrer os elementos da matriz, e criar uma função (para o cálculo da média) para que sua solução seja corrigida:.**"
   ]
  },
  {
   "cell_type": "code",
   "execution_count": null,
   "metadata": {
    "collapsed": true
   },
   "outputs": [],
   "source": [
    "matrizExemplo = [[1,2,3],[2,3,2],[7,4,3]]"
   ]
  },
  {
   "cell_type": "markdown",
   "metadata": {},
   "source": [
    "**11) Uma empresa gostaria de criar um sistema de atendimento de clientes, no qual os clientes serão atendidos por ordem de chegada. No entanto, por restrições internas, a empresa só pode atender x pessoas por dia, mesmo que tenham mais pessoas esperando. Crie um programa que faça o controle dessa fila de atendimento, em que seja perguntado no início qual a quantidade de pessoas atendidas e adicione repetidamente pessoas na fila até que a quantidade máxima seja esgotada.**"
   ]
  },
  {
   "cell_type": "code",
   "execution_count": null,
   "metadata": {
    "collapsed": true
   },
   "outputs": [],
   "source": []
  },
  {
   "cell_type": "markdown",
   "metadata": {},
   "source": [
    "**12) Considerando que uma letra indica uma operação de ENQUEUE em uma fila e um * indica uma operação de DEQUEUE em uma fila, qual será a fila resultante da série de operações abaixo**\n",
    "\n",
    "A \\* B C D E \\* \\* F \\* \\* G H I J K \\* \\* L\n",
    "\n",
    "Para responder isso, você deve implementar uma solução usando pilhas e, para os dados de entrada (a sequência de caracteres acima), use um vetor."
   ]
  },
  {
   "cell_type": "code",
   "execution_count": null,
   "metadata": {
    "collapsed": true
   },
   "outputs": [],
   "source": []
  },
  {
   "cell_type": "markdown",
   "metadata": {},
   "source": [
    "**13) Usando uma pilha como estrutura de dados, implemente um sistema que faça o cadastro, busca, exclusão e alterações de nomes de linguagens de programação. **"
   ]
  },
  {
   "cell_type": "code",
   "execution_count": null,
   "metadata": {},
   "outputs": [],
   "source": [
    "linguagens = []\n",
    "\n",
    "def imprimir():\n",
    "    print(linguagens)\n",
    "    \n",
    "def cadastrar(linguagem):\n",
    "    if buscar(linguagem)==False:\n",
    "        linguagens.append(linguagem)\n",
    "    else:\n",
    "        print(\"linguagem ja existe\")\n",
    "    \n",
    "def retornar(aux):\n",
    "    for i in range(len(aux)):\n",
    "        linguagens.append(aux.pop())\n",
    "\n",
    "def alterar(linguagem, nova):\n",
    "    aux = []\n",
    "    achei = False\n",
    "    while len(linguagens)>=1:\n",
    "        topo = linguagens.pop()\n",
    "        if topo==linguagem:\n",
    "            achei = True\n",
    "            aux.append(nova)\n",
    "            break\n",
    "        else:\n",
    "            aux.append(topo)\n",
    "            \n",
    "    retornar(aux)\n",
    "    return achei        \n",
    "\n",
    "def excluir(linguagem):\n",
    "    aux = []\n",
    "    achei = False\n",
    "    while len(linguagens)>=1:\n",
    "        topo = linguagens.pop()\n",
    "        if topo==linguagem:\n",
    "            achei = True\n",
    "            break\n",
    "        else:\n",
    "            aux.append(topo)\n",
    "            \n",
    "    retornar(aux)\n",
    "    return achei\n",
    "        \n",
    "def buscar(linguagem):\n",
    "    aux = []\n",
    "    achei = False\n",
    "    while len(linguagens)>=1:\n",
    "        topo = linguagens.pop()\n",
    "        aux.append(topo)\n",
    "        if topo==linguagem:\n",
    "            achei = True\n",
    "            break\n",
    "    retornar(aux)\n",
    "    return achei\n",
    "        \n",
    "    \n",
    "while True:\n",
    "    op = input(\"Digite:\\n a) Cadastrar\\n b) Buscar\\n c) Excluir\\n d) Alterar\\n e) Imprimir\\n f) Sair\\n\")\n",
    "    if op==\"a\":\n",
    "        ling = input(\"Digite a linguagem: \")\n",
    "        cadastrar(ling)\n",
    "        imprimir()\n",
    "    elif op==\"b\":\n",
    "        ling = input(\"Digite a linguagem: \")\n",
    "        res = buscar(ling)\n",
    "        if res:\n",
    "            print(\"Achou\")\n",
    "        else:\n",
    "            print(\"Nao achou\")\n",
    "    elif op==\"c\":\n",
    "        ling = input(\"Digite a linguagem: \")\n",
    "        excluir(ling)                \n",
    "    elif op==\"d\":\n",
    "        ling = input(\"Digite a linguagem a alterar: \")        \n",
    "        ling2 = input(\"Digite a linguagem nova: \")                \n",
    "        alterar(ling, ling2)        \n",
    "    elif op==\"e\":\n",
    "        imprimir()\n",
    "    elif op==\"f\":\n",
    "        break\n",
    "    else:\n",
    "        print(\"Opção inválida\")\n"
   ]
  },
  {
   "cell_type": "markdown",
   "metadata": {},
   "source": [
    "**14) Crie um programa que, dado um conjunto de salários de 5 pessoas, calcule o imposto de renda retido na fonte de acordo com as regras abaixo. Sua solução deve obrigatoriamente usar estruturas de decisão e repetição. **\n",
    "- De 1903,99 até 2826,65: Alíquota 7,5%\n",
    "- De 2826,66 até 3751.05: Alíquota 15%\n",
    "- De 3751.06 até 4664.58: Alíquota 22,5%\n",
    "- Acima de 4664.58: Alíquota 27,5%"
   ]
  },
  {
   "cell_type": "code",
   "execution_count": 8,
   "metadata": {},
   "outputs": [
    {
     "name": "stdout",
     "output_type": "stream",
     "text": [
      "Salário: 1000; IRRF: 275.0\n",
      "Salário: 3000; IRRF: 450.0\n",
      "Salário: 4000; IRRF: 900.0\n",
      "Salário: 2500; IRRF: 187.5\n",
      "Salário: 10000; IRRF: 2750.0\n"
     ]
    }
   ],
   "source": [
    "salarios = [1000,3000,4000,2500,10000]\n",
    "for salario in salarios:\n",
    "    if salario>=1903.99 and salario<=2826.65:\n",
    "        retencao = salario*0.075\n",
    "    elif salario>2826.65 and salario<=3751.05:\n",
    "        retencao = salario*0.15\n",
    "    elif salario>3751.06 and salario<=4664.58:\n",
    "        retencao = salario*0.225\n",
    "    else:\n",
    "        retencao = salario*0.275\n",
    "    print(\"Salário: {}; IRRF: {}\".format(salario, retencao))"
   ]
  }
 ],
 "metadata": {
  "kernelspec": {
   "display_name": "Python 3",
   "language": "python",
   "name": "python3"
  },
  "language_info": {
   "codemirror_mode": {
    "name": "ipython",
    "version": 3
   },
   "file_extension": ".py",
   "mimetype": "text/x-python",
   "name": "python",
   "nbconvert_exporter": "python",
   "pygments_lexer": "ipython3",
   "version": "3.6.3"
  }
 },
 "nbformat": 4,
 "nbformat_minor": 2
}
