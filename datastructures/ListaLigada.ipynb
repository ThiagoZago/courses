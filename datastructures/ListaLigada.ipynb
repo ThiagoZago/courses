{
 "cells": [
  {
   "cell_type": "markdown",
   "metadata": {},
   "source": [
    "# Lista Ligada em Python"
   ]
  },
  {
   "cell_type": "markdown",
   "metadata": {},
   "source": [
    "## Introdução"
   ]
  },
  {
   "cell_type": "markdown",
   "metadata": {},
   "source": [
    "Lista ligada é um tipo especial de lista em que cada elemento armazena duas informações:\n",
    "\n",
    "- valor \n",
    "- ponteiro para o próximo valor"
   ]
  },
  {
   "cell_type": "markdown",
   "metadata": {},
   "source": [
    "## Implementação em Python"
   ]
  },
  {
   "cell_type": "markdown",
   "metadata": {},
   "source": [
    "Uma forma de fazer lista ligada em Python é criar uma classe, onde cada nó terá o valor chave e um atributo para o próximo elemento (que é um nó)"
   ]
  },
  {
   "cell_type": "code",
   "execution_count": 23,
   "metadata": {},
   "outputs": [],
   "source": [
    "class Node:\n",
    "    \n",
    "    lista = \"\"\n",
    "    def __init__(self,val):\n",
    "        self.val = val\n",
    "        self.next = None\n",
    "        \n",
    "    def imprimir(self):\n",
    "        if self.next == None:\n",
    "            return self.val\n",
    "        else:\n",
    "            return self.val + \" -> \"+ self.next.imprimir()\n",
    "\n",
    "    def searchValue(self, value):\n",
    "        if self.val == value:\n",
    "            return True\n",
    "        elif self.next == None:\n",
    "            return False\n",
    "        else:\n",
    "            return self.next.searchValue(value)\n"
   ]
  },
  {
   "cell_type": "markdown",
   "metadata": {},
   "source": [
    "As operações em uma lista ligada são de natureza recursiva. Olhe os métodos imprimir e searchValue acima e veja que há uma chamada interna ao próprio método, dessa vez executado pelo *next* (que é o próximo nó da lista ligada)"
   ]
  },
  {
   "cell_type": "markdown",
   "metadata": {},
   "source": [
    "## Criando uma lista ligada"
   ]
  },
  {
   "cell_type": "code",
   "execution_count": 24,
   "metadata": {},
   "outputs": [
    {
     "data": {
      "text/plain": [
       "'a -> b -> c'"
      ]
     },
     "execution_count": 24,
     "metadata": {},
     "output_type": "execute_result"
    }
   ],
   "source": [
    "no1 = Node(\"a\")\n",
    "\n",
    "#ligando o nó b com o nó a\n",
    "no2 = Node(\"b\")\n",
    "no1.next = no2\n",
    "# a lista fica a -> b\n",
    "\n",
    "#ligando o nó c com o nó b\n",
    "no3 = Node(\"c\")\n",
    "no2.next = no3\n",
    "# a lista fica a -> b -> c\n",
    "\n",
    "no1.imprimir()\n"
   ]
  },
  {
   "cell_type": "markdown",
   "metadata": {},
   "source": [
    "## Buscando um valor em uma lista ligada"
   ]
  },
  {
   "cell_type": "markdown",
   "metadata": {},
   "source": [
    "Note que a busca é sequencial (método searchValue da classe Node acima)"
   ]
  },
  {
   "cell_type": "code",
   "execution_count": 29,
   "metadata": {},
   "outputs": [
    {
     "name": "stdout",
     "output_type": "stream",
     "text": [
      "True\n"
     ]
    }
   ],
   "source": [
    "searchValue = \"a\"\n",
    "searchNode = no1\n",
    "\n",
    "print(no1.searchValue(searchValue))"
   ]
  },
  {
   "cell_type": "markdown",
   "metadata": {
    "collapsed": true
   },
   "source": [
    "## Inserção de nós"
   ]
  },
  {
   "cell_type": "markdown",
   "metadata": {},
   "source": [
    "Se o novo nó for inserido no final da lista ligada, basta mudar o ponteiro do último valor (para isso você precisa achar qual é o último nó). Caso seja necessário inserir em um ponto x da lista, então deve haver uma mudança de ponteiros. "
   ]
  },
  {
   "cell_type": "markdown",
   "metadata": {},
   "source": [
    "- Lista original: a -> b -> c\n",
    "\n",
    "- Inserir d no final: a -> b -> c -> d\n",
    "\n",
    "Note que para inserir no final, bastaria mudar o ponteiro next de c, que está nulo, para o novo nó d\n",
    "\n",
    "- Inserir f entre b e c: a -> b -> f -> c -> d\n",
    "\n",
    "Para inserir entre dois nós b e c, duas operações são necessárias:\n",
    "- mudar o b.next de c para o novo f\n",
    "- apontar o f.next para c"
   ]
  }
 ],
 "metadata": {
  "kernelspec": {
   "display_name": "Python 3",
   "language": "python",
   "name": "python3"
  },
  "language_info": {
   "codemirror_mode": {
    "name": "ipython",
    "version": 3
   },
   "file_extension": ".py",
   "mimetype": "text/x-python",
   "name": "python",
   "nbconvert_exporter": "python",
   "pygments_lexer": "ipython3",
   "version": "3.6.1"
  }
 },
 "nbformat": 4,
 "nbformat_minor": 2
}
