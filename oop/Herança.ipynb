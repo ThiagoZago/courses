{
 "cells": [
  {
   "cell_type": "markdown",
   "metadata": {},
   "source": [
    "## Herança"
   ]
  },
  {
   "cell_type": "markdown",
   "metadata": {},
   "source": [
    "Herança é um dos conceitos fundamentais em Orientação a Objeto, sempre implementado quando se deseja especializar/generalizar comportamentos e características dos objetos."
   ]
  },
  {
   "cell_type": "code",
   "execution_count": null,
   "metadata": {
    "collapsed": true
   },
   "outputs": [],
   "source": [
    "class AlunoGraduacao:\n",
    "    rgm = None\n",
    "    nomeAluno = None\n",
    "    anoEnsinoMedio = None\n",
    "    \n",
    "class AlunoPosGraduacao:\n",
    "    rgm = None\n",
    "    nomeAluno = None\n",
    "    cursoGraduacao = None\n",
    "    \n",
    "    \n"
   ]
  },
  {
   "cell_type": "markdown",
   "metadata": {},
   "source": [
    "Note que, exemplo acima, AlunoGraduacao e AlunoPosGraduacao têm atributos comuns. Por que deixar repetido em duas classes diferentes, se as duas categorias são derivadas de uma categoria mais genérica (Aluno)? \n",
    " \n",
    "Então, usando o conceito de Herança em OO, cria-se uma classe mais genérica (a superclasse) e as classes especializadas têm apenas o que lhes são próprios. Veja o mesmo exemplo abaixo, já usando o conceito de herança:"
   ]
  },
  {
   "cell_type": "code",
   "execution_count": null,
   "metadata": {},
   "outputs": [],
   "source": [
    "class Aluno:\n",
    "    rgm = None\n",
    "    nomeAluno = None\n",
    "    \n",
    "class AlunoGraduacao(Aluno):\n",
    "    anoEnsinoMedio = None\n",
    "    \n",
    "class AlunoPosGraduacao(Aluno):\n",
    "    cursoGraduacao = None\n",
    "    \n",
    "aluno1 = AlunoGraduacao()\n",
    "aluno1.nomeAluno = \"Fernando\"\n",
    "aluno1.rgm = \"1234\"\n",
    "aluno1.anoEnsinoMedio = 1995\n",
    "\n",
    "print(aluno1.nomeAluno, aluno1.rgm, aluno1.anoEnsinoMedio)\n"
   ]
  },
  {
   "cell_type": "markdown",
   "metadata": {},
   "source": [
    "No exemplo acima, o objeto de AlunoGraducao tem os atributos rgm e nomeAluno (herdados de Aluno) e anoEnsinoMedio, que é específico apenas para AlunoGraduacao. Agora veja um outro exemplo, dessa vez com o uso de construtores:"
   ]
  },
  {
   "cell_type": "code",
   "execution_count": null,
   "metadata": {},
   "outputs": [],
   "source": [
    "class Aluno:\n",
    "    rgm = None\n",
    "    nomeAluno = None\n",
    "    \n",
    "    def __init__(self, nome, rgm):\n",
    "        self.nomeAluno = nome\n",
    "        self.rgm = rgm\n",
    "    \n",
    "class AlunoGraduacao(Aluno):\n",
    "    anoEnsinoMedio = None\n",
    "    def __init__(self, ano, nome, rgm):\n",
    "        self.anoEnsinoMedio = ano\n",
    "        super().__init__(nome, rgm)\n",
    "    \n",
    "class AlunoPosGraduacao(Aluno):\n",
    "    cursoGraduacao = None\n",
    "    \n",
    "aluno1 = AlunoGraduacao(1995, \"Fernando\", \"1234\")\n",
    "print(aluno1.nomeAluno, aluno1.rgm, aluno1.anoEnsinoMedio)\n"
   ]
  },
  {
   "cell_type": "markdown",
   "metadata": {},
   "source": [
    "Ao chamar o construtor de AlunoGraduacao, passando 3 valores, apenas o primeiro foi usado no construtor interno (ano). Os outros dois, nome e rgm foram passados para o construtor da superclasse Aluno, através da chamada *super()*."
   ]
  },
  {
   "cell_type": "markdown",
   "metadata": {},
   "source": [
    "Através do conceito de herança, é possível generalização e especialização em quantos níveis for necessário. Generalizando ainda mais o nosso conceito de Aluno, criamos uma classe Pessoa. Essa classe contém os atributos nome e sobrenome, enquanto que Aluno contém apenas o RGM e AlunoGraduacao contém o atributo anoEnsinoMedio.\n",
    "\n",
    "Dessa forma, é possível criar novas classes como Funcionário, que seriam herdadas de Pessoa e não Aluno. "
   ]
  },
  {
   "cell_type": "code",
   "execution_count": null,
   "metadata": {},
   "outputs": [],
   "source": [
    "class Pessoa:\n",
    "    def __init__(self, nome, sobrenome):\n",
    "        self.nome = nome\n",
    "        self.sobrenome = sobrenome\n",
    "    \n",
    "class Aluno(Pessoa):\n",
    "     def __init__(self, nome, sobrenome, rgm):\n",
    "        self.rgm = rgm\n",
    "        super(Aluno, self).__init__(nome, sobrenome)\n",
    "        \n",
    "class AlunoGraduacao(Aluno):\n",
    "    def __init__(self, ano, nome, sobrenome, rgm):\n",
    "        self.anoEnsinoMedio = ano\n",
    "        super().__init__(nome, sobrenome, rgm)\n",
    "\n",
    "        \n",
    "aluno1 = AlunoGraduacao(1995, \"Fernando\", \"Xavier\", 1234)\n",
    "print(aluno1.nome, aluno1.sobrenome, aluno1.rgm, aluno1.anoEnsinoMedio)"
   ]
  },
  {
   "cell_type": "markdown",
   "metadata": {},
   "source": [
    "## Herança Múltipla"
   ]
  },
  {
   "cell_type": "markdown",
   "metadata": {},
   "source": [
    "Na herança múltipla, uma classe pode ser derivada de mais de uma classe. Em Python, isso é feito naturalmente."
   ]
  },
  {
   "cell_type": "code",
   "execution_count": null,
   "metadata": {},
   "outputs": [],
   "source": [
    "class Professor:\n",
    "    \n",
    "    def __init__(self, nome,**kwargs):\n",
    "        self.nome = nome\n",
    "        print(\"Prof\")\n",
    "        \n",
    "class Tutor:\n",
    "    def __init__(self, user=\"\",**kwargs):\n",
    "        self.user = user\n",
    "        super().__init__(**kwargs)\n",
    "        print(\"tutor\")\n",
    "        \n",
    "        \n",
    "class ProfessorTutor(Tutor, Professor):\n",
    "    def __init__(self, **kwargs):\n",
    "        super(ProfessorTutor,self).__init__(**kwargs)\n",
    "        \n",
    "    \n",
    "prof = ProfessorTutor(nome=\"Fernando\",user=\"fxavier\")\n",
    "print(prof.nome, prof.user)"
   ]
  },
  {
   "cell_type": "markdown",
   "metadata": {},
   "source": [
    "Veja que ProfessorTutor herda de Professor e Tutor (superclasses separadas por vírgula). Mas qual construtor é chamado?\n",
    "\n",
    "Ao executar o exemplo acima, você verá que o construtor das duas classes é chamado, tanto de Professor quanto de tutor. Mas, para isso acontecer, você deve colocar a instrução *super().__init__(\\**kwargs)* na primeira superclasse que aparece na lista.  Veja como é se você inverter a ordem:"
   ]
  },
  {
   "cell_type": "code",
   "execution_count": null,
   "metadata": {},
   "outputs": [],
   "source": [
    "class Professor:\n",
    "    \n",
    "    def __init__(self, nome,**kwargs):\n",
    "        self.nome = nome\n",
    "        super().__init__(**kwargs)\n",
    "        print(\"Prof\")\n",
    "        \n",
    "class Tutor:\n",
    "    def __init__(self, user=\"\",**kwargs):\n",
    "        self.user = user\n",
    "        print(\"tutor\")\n",
    "        \n",
    "        \n",
    "class ProfessorTutor(Professor,Tutor):\n",
    "    def __init__(self, **kwargs):\n",
    "        super(ProfessorTutor,self).__init__(**kwargs)\n",
    "        \n",
    "    \n",
    "prof = ProfessorTutor(nome=\"Fernando\",user=\"fxavier\")\n",
    "print(prof.nome, prof.user)"
   ]
  },
  {
   "cell_type": "markdown",
   "metadata": {},
   "source": [
    "Na verdade, é como se Tutor fosse a superclasse de Professor. E o que é a expressão \\**kwargs? Essa palavra é uma abreviação de keyword arguments, o que indica a situação em que você passa os argumentos para o método usando o nomes das variáveis:\n",
    "\n",
    "```\n",
    "prof = ProfessorTutor(nome=\"Fernando\",user=\"fxavier\")\n",
    "```\n",
    "\n",
    "Veja que esse caso, está explícito para qual parâmetro cada valor será passado."
   ]
  }
 ],
 "metadata": {
  "kernelspec": {
   "display_name": "Python 3",
   "language": "python",
   "name": "python3"
  },
  "language_info": {
   "codemirror_mode": {
    "name": "ipython",
    "version": 3
   },
   "file_extension": ".py",
   "mimetype": "text/x-python",
   "name": "python",
   "nbconvert_exporter": "python",
   "pygments_lexer": "ipython3",
   "version": "3.6.1"
  }
 },
 "nbformat": 4,
 "nbformat_minor": 2
}
