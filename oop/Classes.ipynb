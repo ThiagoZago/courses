{
 "cells": [
  {
   "cell_type": "markdown",
   "metadata": {},
   "source": [
    "# Classes em Python"
   ]
  },
  {
   "cell_type": "markdown",
   "metadata": {},
   "source": [
    "## Introdução"
   ]
  },
  {
   "cell_type": "markdown",
   "metadata": {},
   "source": [
    "Classes em Python são escritas basicamente como em outras linguagens, com alguns elementos específicos para Python. No entanto, o processo básico é o mesmo de outras linguagens que implementam orientação a objeto:\n",
    "\n",
    "- Criar a classe\n",
    "- Definir os atributos\n",
    "- Definir os métodos"
   ]
  },
  {
   "cell_type": "markdown",
   "metadata": {},
   "source": [
    "Veja um exemplo de uma classe em Python:"
   ]
  },
  {
   "cell_type": "code",
   "execution_count": null,
   "metadata": {
    "collapsed": true
   },
   "outputs": [],
   "source": [
    "class Aluno:\n",
    "    nome = None\n",
    "    idade = None"
   ]
  },
  {
   "cell_type": "markdown",
   "metadata": {},
   "source": [
    "Na primeira linha, foi definida o nome da classe (Aluno) através do uso da palavra reservada *class*. Já nas outras linhas, são definidos os atributos dessa classe (nome e idade) com valores iniciais *None*, o que corresponde ao *null* de outra linguagem."
   ]
  },
  {
   "cell_type": "markdown",
   "metadata": {},
   "source": [
    "## Definição de Classes"
   ]
  },
  {
   "cell_type": "markdown",
   "metadata": {},
   "source": [
    "Em Python, existem algumas formas de definir classes mas basicamente declara-se o nome da classe logo após a palavra reservada *class*. "
   ]
  },
  {
   "cell_type": "code",
   "execution_count": 9,
   "metadata": {},
   "outputs": [
    {
     "name": "stdout",
     "output_type": "stream",
     "text": [
      "A\n",
      "B\n"
     ]
    }
   ],
   "source": [
    "class Aluno:\n",
    "    nome = None\n",
    "    idade = None\n",
    "    \n",
    "    def __init__(self, novoNome):\n",
    "        self.nome = novoNome\n",
    "    \n",
    "\n",
    "aluno1 = Aluno(\"A\")\n",
    "aluno2 = Aluno(\"B\")\n",
    "\n",
    "print(aluno1.nome)\n",
    "print(aluno2.nome)"
   ]
  },
  {
   "cell_type": "markdown",
   "metadata": {},
   "source": [
    "Note que a classe contém um bloco de código, isto é, iniciado por dois pontos (:) e com as instruções com a devida indentação. Dessa forma, as 4 quatro últimas instruções da célula acima estão fora do bloco de código da classe Aluno."
   ]
  },
  {
   "cell_type": "markdown",
   "metadata": {},
   "source": [
    "## Atributos"
   ]
  },
  {
   "cell_type": "markdown",
   "metadata": {},
   "source": [
    "Atributos são características que descrevem os objetos de uma classe. Quando precisamos descrever um curso, que informações podemos ter?\n",
    "\n",
    "- nome do curso\n",
    "- duração em semestres\n",
    "- tipo\n",
    "\n",
    "Em Python, descrevemos os atributos da seguinte forma:"
   ]
  },
  {
   "cell_type": "code",
   "execution_count": null,
   "metadata": {
    "collapsed": true
   },
   "outputs": [],
   "source": [
    "class Aluno:\n",
    "    nome = None\n",
    "    idade = None"
   ]
  },
  {
   "cell_type": "markdown",
   "metadata": {},
   "source": [
    "Note que a Classe Aluno tem os atributos nome e idade. Se quiséssemos definir outros atributos para essa classe, bastaria colocar em linhas adicionais:"
   ]
  },
  {
   "cell_type": "code",
   "execution_count": null,
   "metadata": {
    "collapsed": true
   },
   "outputs": [],
   "source": [
    "class Aluno:\n",
    "    nome = None\n",
    "    idade = None\n",
    "    rgm = None\n",
    "    curso = None\n",
    "    matriculado = False"
   ]
  },
  {
   "cell_type": "markdown",
   "metadata": {},
   "source": [
    "No exemplo acima, definimos nome, idade, rgm e curso com valores iniciais nulos, ou seja, com o uso da palavra reservada *None*. Já o atributo matriculado, na última linha do código acima, foi definido com o valor inicial *False*. Em Python, ao contrário de linguagens como Java, não se define o tipo de cada atributo, pois a linguagem vai inferir o tipo de acordo com o valor armazenado no atributo. Em Python, usa-se o conceito de **tipagem dinâmica**."
   ]
  },
  {
   "cell_type": "markdown",
   "metadata": {},
   "source": [
    "## Definição de Atributos"
   ]
  },
  {
   "cell_type": "markdown",
   "metadata": {},
   "source": [
    "Em Python, a definição de atributos também pode ser feita apenas no construtor. Veja um exemplo:"
   ]
  },
  {
   "cell_type": "code",
   "execution_count": 17,
   "metadata": {},
   "outputs": [
    {
     "name": "stdout",
     "output_type": "stream",
     "text": [
      "Nome: Sem nome definido ; idade: 0\n"
     ]
    }
   ],
   "source": [
    "class Aluno:    \n",
    "    \n",
    "    idade = 0\n",
    "    \n",
    "    def __init__(self):\n",
    "        self.nome = \"Sem nome definido\"\n",
    "        \n",
    "aluno1 = Aluno()\n",
    "\n",
    "print(\"Nome:\",aluno1.nome, \"; idade:\", aluno1.idade)"
   ]
  },
  {
   "cell_type": "markdown",
   "metadata": {},
   "source": [
    "** Obs: Veremos em próximas aulas qual a diferença de se declarar o atributo fora do construtor e dentro do construtor.**"
   ]
  },
  {
   "cell_type": "markdown",
   "metadata": {},
   "source": [
    "## Métodos"
   ]
  },
  {
   "cell_type": "markdown",
   "metadata": {},
   "source": [
    "Métodos são operações que podem ser realizadas com os objetos. Considere o exemplo abaixo:"
   ]
  },
  {
   "cell_type": "code",
   "execution_count": null,
   "metadata": {
    "collapsed": true
   },
   "outputs": [],
   "source": [
    "class Aluno:\n",
    "    nome = None\n",
    "    idade = None\n",
    "    rgm = None\n",
    "    curso = None\n",
    "    matriculado = False\n",
    "    \n",
    "    def matricular(self):\n",
    "        self.matriculado = True"
   ]
  },
  {
   "cell_type": "markdown",
   "metadata": {},
   "source": [
    "Veja que criamos um método chamado *matricular*, com o uso da palavra reservada *def* e informado *self* como parâmetro. O método acima basicamente muda o valor do atributo matriculado para *True*."
   ]
  },
  {
   "cell_type": "code",
   "execution_count": null,
   "metadata": {
    "collapsed": true
   },
   "outputs": [],
   "source": [
    "# faça você mesmo: usando o mesmo exemplo acima, implemente o método trancarMatricula.\n"
   ]
  },
  {
   "cell_type": "markdown",
   "metadata": {},
   "source": [
    "Os métodos podem receber outros parâmetros:"
   ]
  },
  {
   "cell_type": "code",
   "execution_count": null,
   "metadata": {
    "collapsed": true
   },
   "outputs": [],
   "source": [
    "class Aluno:\n",
    "    nome = None\n",
    "    idade = None\n",
    "    rgm = None\n",
    "    curso = None\n",
    "    matriculado = False\n",
    "    \n",
    "    def matricular(self):\n",
    "        self.matriculado = True\n",
    "    \n",
    "    def setCurso(self, nomeCurso):\n",
    "        self.curso = nomeCurso"
   ]
  },
  {
   "cell_type": "markdown",
   "metadata": {},
   "source": [
    "No método setCurso, definido acima, é passado um parâmetro para sua execução que, por sua vez, tem seu valor atribuído ao atributo curso do objeto que está sendo manipulado. Na execução do programa, bastaria chamar esse método passando o valor que será usado como parâmetro:"
   ]
  },
  {
   "cell_type": "code",
   "execution_count": null,
   "metadata": {
    "collapsed": true
   },
   "outputs": [],
   "source": [
    "class Aluno:\n",
    "    nome = None\n",
    "    idade = None\n",
    "    rgm = None\n",
    "    curso = None\n",
    "    matriculado = False\n",
    "    \n",
    "    def matricular(self):\n",
    "        self.matriculado = True\n",
    "    \n",
    "    def setCurso(self, nomeCurso):\n",
    "        self.curso = nomeCurso\n",
    "        \n",
    "        \n",
    "estudante = Aluno()\n",
    "estudante.setCurso(\"Jogos Digitais\")"
   ]
  },
  {
   "cell_type": "markdown",
   "metadata": {},
   "source": [
    "Agora note, no exemplo abaixo, a importância do uso da palavra self. Qual será o valor do atributo nome?"
   ]
  },
  {
   "cell_type": "code",
   "execution_count": null,
   "metadata": {
    "collapsed": true
   },
   "outputs": [],
   "source": [
    "class Aluno:\n",
    "    nome = None\n",
    "    idade = None\n",
    "    rgm = None\n",
    "    curso = \"Jogos\"\n",
    "    matriculado = False\n",
    "    \n",
    "    def matricular(self):\n",
    "        self.matriculado = True\n",
    "    \n",
    "    def setCurso(self, nomeCurso):\n",
    "        curso = nomeCurso\n",
    "        \n",
    "estudante = Aluno()\n",
    "estudante.setCurso(\"Jogos Digitais\")\n",
    "print(\"O nome do curso é\", estudante.curso)"
   ]
  },
  {
   "cell_type": "markdown",
   "metadata": {},
   "source": [
    "## Construtores"
   ]
  },
  {
   "cell_type": "markdown",
   "metadata": {},
   "source": [
    "Embora haja discordâncias entre diversos autores, um construtor é basicamente um método utilizado para se construir um objeto de uma classe. Veja um exemplo abaixo:"
   ]
  },
  {
   "cell_type": "code",
   "execution_count": 22,
   "metadata": {
    "collapsed": true
   },
   "outputs": [],
   "source": [
    "class Curso:\n",
    "    \n",
    "    def __init__(self, nomeCurso, semestres):\n",
    "        self.nome = nomeCurso\n",
    "        self.duracao = semestres"
   ]
  },
  {
   "cell_type": "markdown",
   "metadata": {},
   "source": [
    "Em Python, define-se um construtor com o nome  *\\__init__*. Veja que a palavra reservada *def* também é utilizada para se criar um construtor, a exemplo do que se faz com funções e métodos."
   ]
  },
  {
   "cell_type": "markdown",
   "metadata": {},
   "source": [
    "Agora observe o trecho destacado:"
   ]
  },
  {
   "cell_type": "markdown",
   "metadata": {},
   "source": [
    "```\n",
    "def __init__(self, nomeCurso, semestres):\n",
    "```"
   ]
  },
  {
   "cell_type": "markdown",
   "metadata": {},
   "source": [
    "Vamos a cada um:\n",
    "\n",
    "- self: refere-se ao objeto que será manipulado no método o que, no caso de um construtor, indica que é o próprio objeto \n",
    "- nomeCurso e semestres: são parâmetros que são passados na hora de criação do objeto, ou seja, valores que poderão ser utilizados para inicializar os atributos do objeto que está sendo criado"
   ]
  },
  {
   "cell_type": "markdown",
   "metadata": {},
   "source": [
    "```\n",
    "        self.nome = nomeCurso\n",
    "        self.duracao = semestres\n",
    "```"
   ]
  },
  {
   "cell_type": "markdown",
   "metadata": {},
   "source": [
    "As duas instruções acima são utilizadas para atribuir o valor de cada parâmetro aos atributos do objeto que está sendo criado. Dessa forma, se nomeCurso tiver o valor \"Jogos Digitais\", o atributo nome do objeto terá o valor \"Jogos Digitais\". "
   ]
  },
  {
   "cell_type": "markdown",
   "metadata": {},
   "source": [
    "## Criando objetos"
   ]
  },
  {
   "cell_type": "markdown",
   "metadata": {},
   "source": [
    "Diferente de outras linguagens, como Java e C#, não existe uma palavra reservada para criação de objetos. Basta fazer referência a classe:"
   ]
  },
  {
   "cell_type": "code",
   "execution_count": null,
   "metadata": {
    "collapsed": true
   },
   "outputs": [],
   "source": [
    "class Curso:\n",
    "    nome = None\n",
    "    duracao = 0\n",
    "    \n",
    "jogos = Curso()"
   ]
  },
  {
   "cell_type": "markdown",
   "metadata": {},
   "source": [
    "No exemplo acima, a variável *jogos* armazenará um objeto do tipo Curso, com os valores iniciais dos atributos: nome = None e duracao = 0. Caso usemos o construtor definido anteriormente: "
   ]
  },
  {
   "cell_type": "code",
   "execution_count": 21,
   "metadata": {
    "collapsed": true
   },
   "outputs": [],
   "source": [
    "class Curso:\n",
    "    \n",
    "    def __init__(self, nomeCurso, semestres):\n",
    "        self.nome = nomeCurso\n",
    "        self.duracao = semestres\n",
    "\n",
    "jogos = Curso(\"Jogos Digitais\", 4)        "
   ]
  },
  {
   "cell_type": "markdown",
   "metadata": {},
   "source": [
    "Note que, no exemplo acima, enviamos dois valores (\"Jogos Digitais\" e 4) para o construtor, que usará esses valores para inicializar os atributos do objeto."
   ]
  },
  {
   "cell_type": "markdown",
   "metadata": {},
   "source": [
    "## Acessando valores dos atributos dos objetos"
   ]
  },
  {
   "cell_type": "markdown",
   "metadata": {},
   "source": [
    "A maneira mais simples de acessar o valor de um atributo do objeto que queremos manipular é usar o ponto(.). Veja um exemplo abaixo:"
   ]
  },
  {
   "cell_type": "code",
   "execution_count": 20,
   "metadata": {
    "collapsed": true
   },
   "outputs": [],
   "source": [
    "class Curso:\n",
    "    \n",
    "    def __init__(self, nomeCurso, semestres):\n",
    "        self.nome = nomeCurso\n",
    "        self.duracao = semestres\n",
    "\n",
    "jogos = Curso(\"Jogos\", 4)  \n",
    "\n",
    "jogos.nome = \"Jogos Digitais\""
   ]
  },
  {
   "cell_type": "markdown",
   "metadata": {},
   "source": [
    "A instrução *jogos.nome = \"Jogos Digitais\"* coloca o valor \"Jogos Digitais\" no atributo *nome* do objeto que estamos manipulando. Ou seja, o atributo nome tinha o valor \"Jogos\" no momento da criação do objeto e passou a ter o valor \"Jogos Digitais\" quando executamos a última instrução da célula acima."
   ]
  },
  {
   "cell_type": "code",
   "execution_count": 19,
   "metadata": {},
   "outputs": [
    {
     "name": "stdout",
     "output_type": "stream",
     "text": [
      "O valor de nome na criação do objeto: Jogos\n",
      "O valor de nome após o comando acima: Jogos Digitais\n"
     ]
    }
   ],
   "source": [
    "class Curso:\n",
    "    \n",
    "    def __init__(self, nomeCurso, semestres):\n",
    "        self.nome = nomeCurso\n",
    "        self.duracao = semestres\n",
    "\n",
    "jogos = Curso(\"Jogos\", 4)\n",
    "print(\"O valor de nome na criação do objeto:\", jogos.nome)\n",
    "\n",
    "jogos.nome = \"Jogos Digitais\"\n",
    "print(\"O valor de nome após o comando acima:\", jogos.nome)\n"
   ]
  },
  {
   "cell_type": "markdown",
   "metadata": {},
   "source": [
    "Repare que, no exemplo acima, além de acessarmos o atributo nome para escrita, fizemos da mesma forma para ler, como nas instruções da função print. "
   ]
  },
  {
   "cell_type": "markdown",
   "metadata": {},
   "source": [
    "** Obs: Nos exemplos acima, estamos acessando os atributos diretamente porque são públicos, ou seja, com acesso irrestrito. Conforme veremos em aulas posteriores, existem outras formas de fazer acesso a esses valores, sem o uso do ponto. **"
   ]
  },
  {
   "cell_type": "markdown",
   "metadata": {},
   "source": [
    "## Acessando operações de um objeto"
   ]
  },
  {
   "cell_type": "markdown",
   "metadata": {},
   "source": [
    "Para executar uma operação do objeto, faz-se da mesma forma do realizado com os atributos: usando ponto(.):"
   ]
  },
  {
   "cell_type": "code",
   "execution_count": 18,
   "metadata": {},
   "outputs": [
    {
     "name": "stdout",
     "output_type": "stream",
     "text": [
      "O curso Jogos Digitais tem duração de 4 semestres\n"
     ]
    }
   ],
   "source": [
    "class Curso:\n",
    "    \n",
    "    def __init__(self, nomeCurso, semestres):\n",
    "        self.nome = nomeCurso\n",
    "        self.duracao = semestres\n",
    "\n",
    "    def setNome(self, nomeCurso):\n",
    "        self.nome = nomeCurso\n",
    "    \n",
    "    def setDuracao(self, semestres):\n",
    "        self.duracao = semestres\n",
    "\n",
    "jogos = Curso(\"Jogos\", 3)\n",
    "jogos.setNome(\"Jogos Digitais\")\n",
    "jogos.setDuracao(4)\n",
    "\n",
    "print(\"O curso {} tem duração de {} semestres\".format(jogos.nome, jogos.duracao))"
   ]
  }
 ],
 "metadata": {
  "kernelspec": {
   "display_name": "Python 3",
   "language": "python",
   "name": "python3"
  },
  "language_info": {
   "codemirror_mode": {
    "name": "ipython",
    "version": 3
   },
   "file_extension": ".py",
   "mimetype": "text/x-python",
   "name": "python",
   "nbconvert_exporter": "python",
   "pygments_lexer": "ipython3",
   "version": "3.6.1"
  }
 },
 "nbformat": 4,
 "nbformat_minor": 2
}
