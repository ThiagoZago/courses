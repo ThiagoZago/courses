{
 "cells": [
  {
   "cell_type": "code",
   "execution_count": 48,
   "metadata": {
    "collapsed": true
   },
   "outputs": [],
   "source": [
    "class Aluno:\n",
    "    \n",
    "    matriculado = False\n",
    "    \n",
    "    def __init__(self, nome, idade, matriculado):\n",
    "        self.nome = nome\n",
    "    \n",
    "    def matricular(self):\n",
    "        self.matriculado = True\n",
    "        matriculado = False\n",
    "        \n",
    "aluno1 = Aluno(\"Fernando\", 20, True)"
   ]
  },
  {
   "cell_type": "code",
   "execution_count": 50,
   "metadata": {},
   "outputs": [
    {
     "ename": "SyntaxError",
     "evalue": "invalid syntax (<ipython-input-50-9378a1eaee06>, line 14)",
     "output_type": "error",
     "traceback": [
      "\u001b[1;36m  File \u001b[1;32m\"<ipython-input-50-9378a1eaee06>\"\u001b[1;36m, line \u001b[1;32m14\u001b[0m\n\u001b[1;33m    else\u001b[0m\n\u001b[1;37m        ^\u001b[0m\n\u001b[1;31mSyntaxError\u001b[0m\u001b[1;31m:\u001b[0m invalid syntax\n"
     ]
    }
   ],
   "source": [
    "class Aluno:\n",
    "        \n",
    "    matriculado = False\n",
    "    \n",
    "    def __init__(self, nome, idade, matriculado):\n",
    "        self.nome = nome\n",
    "    \n",
    "    def matricular(self, situacao):\n",
    "        self.matriculado = self.getStatus(situacao)\n",
    "        \n",
    "    def getStatus(self, situacao):\n",
    "        if situacao == \"Ativo\":\n",
    "            return True\n",
    "        else:\n",
    "            return False\n",
    "        \n",
    "aluno1 = Aluno(\"Fernando\", 20, True)\n",
    "aluno1.matricular(\"Inativo\")"
   ]
  },
  {
   "cell_type": "code",
   "execution_count": 37,
   "metadata": {},
   "outputs": [
    {
     "name": "stdout",
     "output_type": "stream",
     "text": [
      "Aluno: Fernando Curso: Jogos Digitais\n",
      "Aluno: Marinho Curso: Jogos Digitais\n"
     ]
    }
   ],
   "source": [
    "class Aluno:\n",
    "    curso = \"Jogos Digitais\"\n",
    "    \n",
    "    def __init__(self, novoNome):\n",
    "        self.nome = novoNome\n",
    "        \n",
    "aluno1 = Aluno(\"Fernando\")\n",
    "aluno2 = Aluno(\"Marinho\")\n",
    "\n",
    "print(\"Aluno:\", aluno1.nome, \"Curso:\", aluno1.curso)\n",
    "print(\"Aluno:\", aluno2.nome, \"Curso:\", aluno2.curso)"
   ]
  },
  {
   "cell_type": "code",
   "execution_count": 42,
   "metadata": {},
   "outputs": [
    {
     "name": "stdout",
     "output_type": "stream",
     "text": [
      "Fernando\n",
      "Usando um objeto: None\n"
     ]
    },
    {
     "ename": "TypeError",
     "evalue": "imprimirNome() missing 1 required positional argument: 'self'",
     "output_type": "error",
     "traceback": [
      "\u001b[1;31m---------------------------------------------------------------------------\u001b[0m",
      "\u001b[1;31mTypeError\u001b[0m                                 Traceback (most recent call last)",
      "\u001b[1;32m<ipython-input-42-67a89d52444e>\u001b[0m in \u001b[0;36m<module>\u001b[1;34m()\u001b[0m\n\u001b[0;32m     16\u001b[0m \u001b[1;33m\u001b[0m\u001b[0m\n\u001b[0;32m     17\u001b[0m \u001b[0mprint\u001b[0m\u001b[1;33m(\u001b[0m\u001b[1;34m\"Usando um objeto:\"\u001b[0m\u001b[1;33m,\u001b[0m\u001b[0maluno1\u001b[0m\u001b[1;33m.\u001b[0m\u001b[0mimprimirNome\u001b[0m\u001b[1;33m(\u001b[0m\u001b[1;33m)\u001b[0m\u001b[1;33m)\u001b[0m\u001b[1;33m\u001b[0m\u001b[0m\n\u001b[1;32m---> 18\u001b[1;33m \u001b[0mprint\u001b[0m\u001b[1;33m(\u001b[0m\u001b[1;34m\"Sem usar objetos:\"\u001b[0m\u001b[1;33m,\u001b[0m \u001b[0mAluno\u001b[0m\u001b[1;33m.\u001b[0m\u001b[0mimprimirNome\u001b[0m\u001b[1;33m(\u001b[0m\u001b[1;33m)\u001b[0m\u001b[1;33m)\u001b[0m\u001b[1;33m\u001b[0m\u001b[0m\n\u001b[0m",
      "\u001b[1;31mTypeError\u001b[0m: imprimirNome() missing 1 required positional argument: 'self'"
     ]
    }
   ],
   "source": [
    "class Aluno:\n",
    "    curso = \"Jogos Digitais\"\n",
    "    \n",
    "    def __init__(self, novoNome):\n",
    "        self.nome = novoNome\n",
    "        \n",
    "    @staticmethod\n",
    "    def calcularMedia(nota1, nota2):\n",
    "        return (nota1+nota2)/2\n",
    "    \n",
    "    def imprimirNome(self):\n",
    "        print(self.nome)\n",
    "    \n",
    "aluno1 = Aluno(\"Fernando\")\n",
    "aluno2 = Aluno(\"Marinho\")\n",
    "\n",
    "print(\"Usando um objeto:\",aluno1.imprimirNome())\n",
    "print(\"Sem usar objetos:\", Aluno.imprimirNome())"
   ]
  },
  {
   "cell_type": "code",
   "execution_count": 29,
   "metadata": {
    "collapsed": true
   },
   "outputs": [],
   "source": [
    "class Personagem:\n",
    "    \n",
    "    def __init__(self, novoNome, novoTipo, pontosDano, pontosVida):\n",
    "        self.nome = novoNome\n",
    "        self.tipo = novoTipo\n",
    "        self.dano = pontosDano\n",
    "        self.vida = pontosVida\n",
    "    \n",
    "    def ataque(self, oponente):\n",
    "        oponente.vida = oponente.vida - self.dano    "
   ]
  },
  {
   "cell_type": "code",
   "execution_count": 28,
   "metadata": {},
   "outputs": [
    {
     "name": "stdout",
     "output_type": "stream",
     "text": [
      "Batalha encerrada em 7 rodadas\n",
      "Vida 1o Personagem 1327\n",
      "Vida 2o Personagem -19\n"
     ]
    }
   ],
   "source": [
    "person1 = Personagem(\"Gigante\",\"Tropa\", 132, 2090)\n",
    "person2 = Personagem(\"Cavaleiro\",\"Tropa\", 109, 905)\n",
    "rodadas = 0\n",
    "while True:\n",
    "    if (person1.vida <=0) or (person2.vida<=0):\n",
    "        break\n",
    "    rodadas +=1\n",
    "    person1.ataque(person2)\n",
    "    person2.ataque(person1)\n",
    "\n",
    "print(\"Batalha encerrada em {} rodadas\".format(rodadas))\n",
    "print(\"Vida 1o Personagem\", person1.vida)\n",
    "print(\"Vida 2o Personagem\", person2.vida)"
   ]
  },
  {
   "cell_type": "code",
   "execution_count": 36,
   "metadata": {},
   "outputs": [
    {
     "ename": "NameError",
     "evalue": "name 'curso' is not defined",
     "output_type": "error",
     "traceback": [
      "\u001b[1;31m---------------------------------------------------------------------------\u001b[0m",
      "\u001b[1;31mNameError\u001b[0m                                 Traceback (most recent call last)",
      "\u001b[1;32m<ipython-input-36-b9551462b62b>\u001b[0m in \u001b[0;36m<module>\u001b[1;34m()\u001b[0m\n\u001b[0;32m      9\u001b[0m         \u001b[0mprint\u001b[0m\u001b[1;33m(\u001b[0m\u001b[0mcurso\u001b[0m\u001b[1;33m)\u001b[0m\u001b[1;33m\u001b[0m\u001b[0m\n\u001b[0;32m     10\u001b[0m \u001b[1;33m\u001b[0m\u001b[0m\n\u001b[1;32m---> 11\u001b[1;33m \u001b[0mAluno\u001b[0m\u001b[1;33m.\u001b[0m\u001b[0mimprimirCurso\u001b[0m\u001b[1;33m(\u001b[0m\u001b[1;33m)\u001b[0m\u001b[1;33m\u001b[0m\u001b[0m\n\u001b[0m",
      "\u001b[1;32m<ipython-input-36-b9551462b62b>\u001b[0m in \u001b[0;36mimprimirCurso\u001b[1;34m()\u001b[0m\n\u001b[0;32m      7\u001b[0m     \u001b[1;33m@\u001b[0m\u001b[0mstaticmethod\u001b[0m\u001b[1;33m\u001b[0m\u001b[0m\n\u001b[0;32m      8\u001b[0m     \u001b[1;32mdef\u001b[0m \u001b[0mimprimirCurso\u001b[0m\u001b[1;33m(\u001b[0m\u001b[1;33m)\u001b[0m\u001b[1;33m:\u001b[0m\u001b[1;33m\u001b[0m\u001b[0m\n\u001b[1;32m----> 9\u001b[1;33m         \u001b[0mprint\u001b[0m\u001b[1;33m(\u001b[0m\u001b[0mcurso\u001b[0m\u001b[1;33m)\u001b[0m\u001b[1;33m\u001b[0m\u001b[0m\n\u001b[0m\u001b[0;32m     10\u001b[0m \u001b[1;33m\u001b[0m\u001b[0m\n\u001b[0;32m     11\u001b[0m \u001b[0mAluno\u001b[0m\u001b[1;33m.\u001b[0m\u001b[0mimprimirCurso\u001b[0m\u001b[1;33m(\u001b[0m\u001b[1;33m)\u001b[0m\u001b[1;33m\u001b[0m\u001b[0m\n",
      "\u001b[1;31mNameError\u001b[0m: name 'curso' is not defined"
     ]
    }
   ],
   "source": [
    "class Aluno:\n",
    "    \n",
    "    curso = \"Jogos Digitais\"\n",
    "    \n",
    "    def __init__(self, nome, idade, rgm):\n",
    "        self.nome = nome\n",
    "        \n",
    "    @staticmethod\n",
    "    def imprimirCurso():\n",
    "        print(curso)\n",
    "    \n"
   ]
  },
  {
   "cell_type": "code",
   "execution_count": 43,
   "metadata": {},
   "outputs": [
    {
     "name": "stdout",
     "output_type": "stream",
     "text": [
      "Sem usar objetos: Jogos Digitais\n"
     ]
    }
   ],
   "source": [
    "class Aluno:\n",
    "    \n",
    "    curso = \"Jogos Digitais\"\n",
    "    \n",
    "    def __init__(self, nome, idade, rgm):\n",
    "        self.nome = nome\n",
    "\n",
    "    \n",
    "print(\"Sem usar objetos:\", Aluno.curso)\n"
   ]
  },
  {
   "cell_type": "code",
   "execution_count": 44,
   "metadata": {},
   "outputs": [
    {
     "name": "stdout",
     "output_type": "stream",
     "text": [
      "8\n",
      "12\n",
      "-4\n",
      "32\n",
      "0.5\n"
     ]
    }
   ],
   "source": [
    "class Calculadora:\n",
    "    \n",
    "    @staticmethod\n",
    "    def max(num1, num2, num3):\n",
    "        return max(num1, num2, num3)\n",
    "\n",
    "    @staticmethod\n",
    "    def soma(num1, num2):\n",
    "        return num1+num2\n",
    "\n",
    "    @staticmethod\n",
    "    def subtracao(num1, num2):\n",
    "        return num1-num2\n",
    "    \n",
    "    @staticmethod\n",
    "    def multiplicacao(num1, num2):\n",
    "        return num1*num2\n",
    "    \n",
    "    @staticmethod\n",
    "    def divisao(num1, num2):\n",
    "        return num1/num2\n",
    "    \n",
    "num1 = 4\n",
    "num2 = 8\n",
    "num3 = 3\n",
    "\n",
    "print(Calculadora.max(num1, num2, num3))\n",
    "print(Calculadora.soma(num1, num2))\n",
    "print(Calculadora.subtracao(num1, num2))\n",
    "print(Calculadora.multiplicacao(num1, num2))\n",
    "print(Calculadora.divisao(num1, num2))"
   ]
  },
  {
   "cell_type": "code",
   "execution_count": 1,
   "metadata": {},
   "outputs": [
    {
     "name": "stdout",
     "output_type": "stream",
     "text": [
      "____________________\n"
     ]
    }
   ],
   "source": [
    "class Desenho:\n",
    "    \n",
    "    def underline(self):\n",
    "        return \"_\"\n",
    "    \n",
    "    def linha(self, tamanho):\n",
    "        linha = \"\"\n",
    "        while tamanho>0:\n",
    "            linha += self.underline()\n",
    "            tamanho = tamanho - 1\n",
    "        return linha\n",
    "\n",
    "desenho = Desenho()\n",
    "print(desenho.linha(20))\n",
    "        "
   ]
  },
  {
   "cell_type": "code",
   "execution_count": null,
   "metadata": {
    "collapsed": true
   },
   "outputs": [],
   "source": [
    "class Disciplina:\n",
    "    \n",
    "    def __init__(self):\n",
    "        self.nome = \"Programação OO\"\n",
    "        self.cargaHoraria = 80\n",
    "        \n",
    "    def imprimirDados(self):\n",
    "        print(self.nome)\n",
    "        print(self.cargaHoraria)\n",
    "        \n",
    "disc1 = Disciplina()\n",
    "disc1.imprimirDados()\n",
    "\n",
    "        "
   ]
  },
  {
   "cell_type": "code",
   "execution_count": 2,
   "metadata": {
    "collapsed": true
   },
   "outputs": [],
   "source": [
    "linguagens = [\"Java\", \"PHP\", \"Python\"]"
   ]
  },
  {
   "cell_type": "code",
   "execution_count": 3,
   "metadata": {
    "collapsed": true
   },
   "outputs": [],
   "source": [
    "linguagens.append(\"C#\")"
   ]
  },
  {
   "cell_type": "code",
   "execution_count": 4,
   "metadata": {
    "collapsed": true
   },
   "outputs": [],
   "source": [
    "linguagens.insert(1, \"Cobol\")"
   ]
  },
  {
   "cell_type": "code",
   "execution_count": 5,
   "metadata": {
    "collapsed": true
   },
   "outputs": [],
   "source": [
    "linguagem = linguagens[2]"
   ]
  }
 ],
 "metadata": {
  "kernelspec": {
   "display_name": "Python 3",
   "language": "python",
   "name": "python3"
  },
  "language_info": {
   "codemirror_mode": {
    "name": "ipython",
    "version": 3
   },
   "file_extension": ".py",
   "mimetype": "text/x-python",
   "name": "python",
   "nbconvert_exporter": "python",
   "pygments_lexer": "ipython3",
   "version": "3.6.1"
  }
 },
 "nbformat": 4,
 "nbformat_minor": 2
}
